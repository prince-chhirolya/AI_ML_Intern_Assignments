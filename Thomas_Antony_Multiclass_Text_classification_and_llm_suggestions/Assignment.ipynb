{
  "cells": [
    {
      "cell_type": "code",
      "execution_count": null,
      "metadata": {
        "id": "1hpB2dtXMSgd",
        "colab": {
          "base_uri": "https://localhost:8080/"
        },
        "outputId": "1478d57d-4d34-4cf6-b1fb-aee0b1e278fc"
      },
      "outputs": [
        {
          "output_type": "stream",
          "name": "stderr",
          "text": [
            "[nltk_data] Downloading package wordnet to /root/nltk_data...\n",
            "[nltk_data]   Package wordnet is already up-to-date!\n"
          ]
        }
      ],
      "source": [
        "import pandas as pd\n",
        "import numpy as np\n",
        "import matplotlib.pyplot as plt\n",
        "import seaborn as sns\n",
        "\n",
        "import nltk\n",
        "from nltk.tokenize import word_tokenize\n",
        "from nltk.stem import PorterStemmer\n",
        "\n",
        "from sklearn.feature_extraction.text import TfidfVectorizer\n",
        "from sklearn.model_selection import train_test_split\n",
        "from sklearn.naive_bayes import MultinomialNB\n",
        "from sklearn.svm import SVC\n",
        "from sklearn.metrics import accuracy_score, classification_report,f1_score\n",
        "from sklearn.preprocessing import LabelEncoder\n",
        "\n",
        "import tensorflow as tf\n",
        "from tensorflow.keras.models import Sequential\n",
        "from tensorflow.keras.layers import Dense, Embedding,LSTM\n",
        "\n",
        "from nltk.stem import WordNetLemmatizer\n",
        "nltk.download('wordnet')\n",
        "\n",
        "import os"
      ]
    },
    {
      "cell_type": "code",
      "source": [
        "print(tf.__version__)\n",
        "print(np.__version__)"
      ],
      "metadata": {
        "colab": {
          "base_uri": "https://localhost:8080/"
        },
        "id": "Td-FxOem-Ilk",
        "outputId": "9cafaf1b-d11d-4b12-905e-9bd707be229d"
      },
      "execution_count": null,
      "outputs": [
        {
          "output_type": "stream",
          "name": "stdout",
          "text": [
            "2.17.0\n",
            "1.26.4\n"
          ]
        }
      ]
    },
    {
      "cell_type": "code",
      "execution_count": null,
      "metadata": {
        "colab": {
          "base_uri": "https://localhost:8080/"
        },
        "id": "A-h3aEyKMX8P",
        "outputId": "fce0d061-03cb-4350-9220-c7e4aefb8b94"
      },
      "outputs": [
        {
          "output_type": "stream",
          "name": "stderr",
          "text": [
            "[nltk_data] Downloading package stopwords to /root/nltk_data...\n",
            "[nltk_data]   Package stopwords is already up-to-date!\n",
            "[nltk_data] Downloading package punkt to /root/nltk_data...\n",
            "[nltk_data]   Package punkt is already up-to-date!\n"
          ]
        },
        {
          "output_type": "execute_result",
          "data": {
            "text/plain": [
              "True"
            ]
          },
          "metadata": {},
          "execution_count": 3
        }
      ],
      "source": [
        "nltk.download('stopwords')\n",
        "nltk.download('punkt')"
      ]
    },
    {
      "cell_type": "code",
      "execution_count": null,
      "metadata": {
        "colab": {
          "base_uri": "https://localhost:8080/"
        },
        "id": "TWLaEPzdMeVx",
        "outputId": "ff080920-8c75-454b-f147-e8770c168a4d"
      },
      "outputs": [
        {
          "output_type": "stream",
          "name": "stdout",
          "text": [
            "Drive already mounted at /content/drive; to attempt to forcibly remount, call drive.mount(\"/content/drive\", force_remount=True).\n"
          ]
        }
      ],
      "source": [
        "from google.colab import drive\n",
        "drive.mount('/content/drive')"
      ]
    },
    {
      "cell_type": "code",
      "execution_count": null,
      "metadata": {
        "colab": {
          "base_uri": "https://localhost:8080/",
          "height": 224
        },
        "id": "Khuz5YulMh1g",
        "outputId": "42a182a4-d1b1-488e-de07-a965b09c6f5e"
      },
      "outputs": [
        {
          "output_type": "stream",
          "name": "stdout",
          "text": [
            "(93686, 3) (31229, 3)\n"
          ]
        },
        {
          "output_type": "execute_result",
          "data": {
            "text/plain": [
              "                                category                       sub_category  \\\n",
              "0  Online and Social Media Related Crime  Cyber Bullying  Stalking  Sexting   \n",
              "1                 Online Financial Fraud                  Fraud CallVishing   \n",
              "2               Online Gambling  Betting           Online Gambling  Betting   \n",
              "3  Online and Social Media Related Crime                   Online Job Fraud   \n",
              "4                 Online Financial Fraud                  Fraud CallVishing   \n",
              "\n",
              "                                  crimeaditionalinfo  \n",
              "0  I had continue received random calls and abusi...  \n",
              "1  The above fraudster is continuously messaging ...  \n",
              "2  He is acting like a police and demanding for m...  \n",
              "3  In apna Job I have applied for job interview f...  \n",
              "4  I received a call from lady stating that she w...  "
            ],
            "text/html": [
              "\n",
              "  <div id=\"df-3c374fda-dc16-4b2b-ad65-836dbad1ed6c\" class=\"colab-df-container\">\n",
              "    <div>\n",
              "<style scoped>\n",
              "    .dataframe tbody tr th:only-of-type {\n",
              "        vertical-align: middle;\n",
              "    }\n",
              "\n",
              "    .dataframe tbody tr th {\n",
              "        vertical-align: top;\n",
              "    }\n",
              "\n",
              "    .dataframe thead th {\n",
              "        text-align: right;\n",
              "    }\n",
              "</style>\n",
              "<table border=\"1\" class=\"dataframe\">\n",
              "  <thead>\n",
              "    <tr style=\"text-align: right;\">\n",
              "      <th></th>\n",
              "      <th>category</th>\n",
              "      <th>sub_category</th>\n",
              "      <th>crimeaditionalinfo</th>\n",
              "    </tr>\n",
              "  </thead>\n",
              "  <tbody>\n",
              "    <tr>\n",
              "      <th>0</th>\n",
              "      <td>Online and Social Media Related Crime</td>\n",
              "      <td>Cyber Bullying  Stalking  Sexting</td>\n",
              "      <td>I had continue received random calls and abusi...</td>\n",
              "    </tr>\n",
              "    <tr>\n",
              "      <th>1</th>\n",
              "      <td>Online Financial Fraud</td>\n",
              "      <td>Fraud CallVishing</td>\n",
              "      <td>The above fraudster is continuously messaging ...</td>\n",
              "    </tr>\n",
              "    <tr>\n",
              "      <th>2</th>\n",
              "      <td>Online Gambling  Betting</td>\n",
              "      <td>Online Gambling  Betting</td>\n",
              "      <td>He is acting like a police and demanding for m...</td>\n",
              "    </tr>\n",
              "    <tr>\n",
              "      <th>3</th>\n",
              "      <td>Online and Social Media Related Crime</td>\n",
              "      <td>Online Job Fraud</td>\n",
              "      <td>In apna Job I have applied for job interview f...</td>\n",
              "    </tr>\n",
              "    <tr>\n",
              "      <th>4</th>\n",
              "      <td>Online Financial Fraud</td>\n",
              "      <td>Fraud CallVishing</td>\n",
              "      <td>I received a call from lady stating that she w...</td>\n",
              "    </tr>\n",
              "  </tbody>\n",
              "</table>\n",
              "</div>\n",
              "    <div class=\"colab-df-buttons\">\n",
              "\n",
              "  <div class=\"colab-df-container\">\n",
              "    <button class=\"colab-df-convert\" onclick=\"convertToInteractive('df-3c374fda-dc16-4b2b-ad65-836dbad1ed6c')\"\n",
              "            title=\"Convert this dataframe to an interactive table.\"\n",
              "            style=\"display:none;\">\n",
              "\n",
              "  <svg xmlns=\"http://www.w3.org/2000/svg\" height=\"24px\" viewBox=\"0 -960 960 960\">\n",
              "    <path d=\"M120-120v-720h720v720H120Zm60-500h600v-160H180v160Zm220 220h160v-160H400v160Zm0 220h160v-160H400v160ZM180-400h160v-160H180v160Zm440 0h160v-160H620v160ZM180-180h160v-160H180v160Zm440 0h160v-160H620v160Z\"/>\n",
              "  </svg>\n",
              "    </button>\n",
              "\n",
              "  <style>\n",
              "    .colab-df-container {\n",
              "      display:flex;\n",
              "      gap: 12px;\n",
              "    }\n",
              "\n",
              "    .colab-df-convert {\n",
              "      background-color: #E8F0FE;\n",
              "      border: none;\n",
              "      border-radius: 50%;\n",
              "      cursor: pointer;\n",
              "      display: none;\n",
              "      fill: #1967D2;\n",
              "      height: 32px;\n",
              "      padding: 0 0 0 0;\n",
              "      width: 32px;\n",
              "    }\n",
              "\n",
              "    .colab-df-convert:hover {\n",
              "      background-color: #E2EBFA;\n",
              "      box-shadow: 0px 1px 2px rgba(60, 64, 67, 0.3), 0px 1px 3px 1px rgba(60, 64, 67, 0.15);\n",
              "      fill: #174EA6;\n",
              "    }\n",
              "\n",
              "    .colab-df-buttons div {\n",
              "      margin-bottom: 4px;\n",
              "    }\n",
              "\n",
              "    [theme=dark] .colab-df-convert {\n",
              "      background-color: #3B4455;\n",
              "      fill: #D2E3FC;\n",
              "    }\n",
              "\n",
              "    [theme=dark] .colab-df-convert:hover {\n",
              "      background-color: #434B5C;\n",
              "      box-shadow: 0px 1px 3px 1px rgba(0, 0, 0, 0.15);\n",
              "      filter: drop-shadow(0px 1px 2px rgba(0, 0, 0, 0.3));\n",
              "      fill: #FFFFFF;\n",
              "    }\n",
              "  </style>\n",
              "\n",
              "    <script>\n",
              "      const buttonEl =\n",
              "        document.querySelector('#df-3c374fda-dc16-4b2b-ad65-836dbad1ed6c button.colab-df-convert');\n",
              "      buttonEl.style.display =\n",
              "        google.colab.kernel.accessAllowed ? 'block' : 'none';\n",
              "\n",
              "      async function convertToInteractive(key) {\n",
              "        const element = document.querySelector('#df-3c374fda-dc16-4b2b-ad65-836dbad1ed6c');\n",
              "        const dataTable =\n",
              "          await google.colab.kernel.invokeFunction('convertToInteractive',\n",
              "                                                    [key], {});\n",
              "        if (!dataTable) return;\n",
              "\n",
              "        const docLinkHtml = 'Like what you see? Visit the ' +\n",
              "          '<a target=\"_blank\" href=https://colab.research.google.com/notebooks/data_table.ipynb>data table notebook</a>'\n",
              "          + ' to learn more about interactive tables.';\n",
              "        element.innerHTML = '';\n",
              "        dataTable['output_type'] = 'display_data';\n",
              "        await google.colab.output.renderOutput(dataTable, element);\n",
              "        const docLink = document.createElement('div');\n",
              "        docLink.innerHTML = docLinkHtml;\n",
              "        element.appendChild(docLink);\n",
              "      }\n",
              "    </script>\n",
              "  </div>\n",
              "\n",
              "\n",
              "<div id=\"df-38dd69a7-0793-4e45-aa49-2ca0b78e96e2\">\n",
              "  <button class=\"colab-df-quickchart\" onclick=\"quickchart('df-38dd69a7-0793-4e45-aa49-2ca0b78e96e2')\"\n",
              "            title=\"Suggest charts\"\n",
              "            style=\"display:none;\">\n",
              "\n",
              "<svg xmlns=\"http://www.w3.org/2000/svg\" height=\"24px\"viewBox=\"0 0 24 24\"\n",
              "     width=\"24px\">\n",
              "    <g>\n",
              "        <path d=\"M19 3H5c-1.1 0-2 .9-2 2v14c0 1.1.9 2 2 2h14c1.1 0 2-.9 2-2V5c0-1.1-.9-2-2-2zM9 17H7v-7h2v7zm4 0h-2V7h2v10zm4 0h-2v-4h2v4z\"/>\n",
              "    </g>\n",
              "</svg>\n",
              "  </button>\n",
              "\n",
              "<style>\n",
              "  .colab-df-quickchart {\n",
              "      --bg-color: #E8F0FE;\n",
              "      --fill-color: #1967D2;\n",
              "      --hover-bg-color: #E2EBFA;\n",
              "      --hover-fill-color: #174EA6;\n",
              "      --disabled-fill-color: #AAA;\n",
              "      --disabled-bg-color: #DDD;\n",
              "  }\n",
              "\n",
              "  [theme=dark] .colab-df-quickchart {\n",
              "      --bg-color: #3B4455;\n",
              "      --fill-color: #D2E3FC;\n",
              "      --hover-bg-color: #434B5C;\n",
              "      --hover-fill-color: #FFFFFF;\n",
              "      --disabled-bg-color: #3B4455;\n",
              "      --disabled-fill-color: #666;\n",
              "  }\n",
              "\n",
              "  .colab-df-quickchart {\n",
              "    background-color: var(--bg-color);\n",
              "    border: none;\n",
              "    border-radius: 50%;\n",
              "    cursor: pointer;\n",
              "    display: none;\n",
              "    fill: var(--fill-color);\n",
              "    height: 32px;\n",
              "    padding: 0;\n",
              "    width: 32px;\n",
              "  }\n",
              "\n",
              "  .colab-df-quickchart:hover {\n",
              "    background-color: var(--hover-bg-color);\n",
              "    box-shadow: 0 1px 2px rgba(60, 64, 67, 0.3), 0 1px 3px 1px rgba(60, 64, 67, 0.15);\n",
              "    fill: var(--button-hover-fill-color);\n",
              "  }\n",
              "\n",
              "  .colab-df-quickchart-complete:disabled,\n",
              "  .colab-df-quickchart-complete:disabled:hover {\n",
              "    background-color: var(--disabled-bg-color);\n",
              "    fill: var(--disabled-fill-color);\n",
              "    box-shadow: none;\n",
              "  }\n",
              "\n",
              "  .colab-df-spinner {\n",
              "    border: 2px solid var(--fill-color);\n",
              "    border-color: transparent;\n",
              "    border-bottom-color: var(--fill-color);\n",
              "    animation:\n",
              "      spin 1s steps(1) infinite;\n",
              "  }\n",
              "\n",
              "  @keyframes spin {\n",
              "    0% {\n",
              "      border-color: transparent;\n",
              "      border-bottom-color: var(--fill-color);\n",
              "      border-left-color: var(--fill-color);\n",
              "    }\n",
              "    20% {\n",
              "      border-color: transparent;\n",
              "      border-left-color: var(--fill-color);\n",
              "      border-top-color: var(--fill-color);\n",
              "    }\n",
              "    30% {\n",
              "      border-color: transparent;\n",
              "      border-left-color: var(--fill-color);\n",
              "      border-top-color: var(--fill-color);\n",
              "      border-right-color: var(--fill-color);\n",
              "    }\n",
              "    40% {\n",
              "      border-color: transparent;\n",
              "      border-right-color: var(--fill-color);\n",
              "      border-top-color: var(--fill-color);\n",
              "    }\n",
              "    60% {\n",
              "      border-color: transparent;\n",
              "      border-right-color: var(--fill-color);\n",
              "    }\n",
              "    80% {\n",
              "      border-color: transparent;\n",
              "      border-right-color: var(--fill-color);\n",
              "      border-bottom-color: var(--fill-color);\n",
              "    }\n",
              "    90% {\n",
              "      border-color: transparent;\n",
              "      border-bottom-color: var(--fill-color);\n",
              "    }\n",
              "  }\n",
              "</style>\n",
              "\n",
              "  <script>\n",
              "    async function quickchart(key) {\n",
              "      const quickchartButtonEl =\n",
              "        document.querySelector('#' + key + ' button');\n",
              "      quickchartButtonEl.disabled = true;  // To prevent multiple clicks.\n",
              "      quickchartButtonEl.classList.add('colab-df-spinner');\n",
              "      try {\n",
              "        const charts = await google.colab.kernel.invokeFunction(\n",
              "            'suggestCharts', [key], {});\n",
              "      } catch (error) {\n",
              "        console.error('Error during call to suggestCharts:', error);\n",
              "      }\n",
              "      quickchartButtonEl.classList.remove('colab-df-spinner');\n",
              "      quickchartButtonEl.classList.add('colab-df-quickchart-complete');\n",
              "    }\n",
              "    (() => {\n",
              "      let quickchartButtonEl =\n",
              "        document.querySelector('#df-38dd69a7-0793-4e45-aa49-2ca0b78e96e2 button');\n",
              "      quickchartButtonEl.style.display =\n",
              "        google.colab.kernel.accessAllowed ? 'block' : 'none';\n",
              "    })();\n",
              "  </script>\n",
              "</div>\n",
              "\n",
              "    </div>\n",
              "  </div>\n"
            ],
            "application/vnd.google.colaboratory.intrinsic+json": {
              "type": "dataframe",
              "variable_name": "train",
              "summary": "{\n  \"name\": \"train\",\n  \"rows\": 93686,\n  \"fields\": [\n    {\n      \"column\": \"category\",\n      \"properties\": {\n        \"dtype\": \"category\",\n        \"num_unique_values\": 15,\n        \"samples\": [\n          \"Hacking  Damage to computercomputer system etc\",\n          \"Child Pornography CPChild Sexual Abuse Material CSAM\",\n          \"Online and Social Media Related Crime\"\n        ],\n        \"semantic_type\": \"\",\n        \"description\": \"\"\n      }\n    },\n    {\n      \"column\": \"sub_category\",\n      \"properties\": {\n        \"dtype\": \"category\",\n        \"num_unique_values\": 35,\n        \"samples\": [\n          \"Online Trafficking\",\n          \"FakeImpersonating Profile\",\n          \"Tampering with computer source documents\"\n        ],\n        \"semantic_type\": \"\",\n        \"description\": \"\"\n      }\n    },\n    {\n      \"column\": \"crimeaditionalinfo\",\n      \"properties\": {\n        \"dtype\": \"string\",\n        \"num_unique_values\": 85013,\n        \"samples\": [\n          \"I got a call from this unknown number and the person was asking about GPAY and transfer  k to his friend I have disconnected the call and not paid any amount I have also called to  to report the same I have blocked the number as of now but i am sure it was fraudulent and malicious call\",\n          \"My friend mentioned something like this happened to them a few months ago, but I thought it was a one-off. Then, suddenly, I got this weird notification asking me to update my password, but the message didn\\u2019t look like the usual ones I receive from the app. It looked a bit off. It\\u2019s hard to explain, but it felt like someone was inside my account, doing things while I wasn\\u2019t even online. The more I tried to fix it, the more problems came up. My social media was notifiction, and then I got locked out of everything. The worst part is, I don\\u2019t even know who to trust anymore. Friends, family, everyone\\u2019s acting strange. It\\u2019s affecting my relationships and my mental health. Even my phone isn\\u2019t working right anymore. It\\u2019s so stange how everything just fell apart after that one email.\",\n          \"\\r\\nTHEY FRAUD ME IN THE NAME OF INDIAN ARMY OFFICERS VIA PHONEPE TRANSACTIONS FARUD CALLING FROM BELOW GIVEN NUMBER    FRAUD AMOUNT \\r\\n \\r\\n\"\n        ],\n        \"semantic_type\": \"\",\n        \"description\": \"\"\n      }\n    }\n  ]\n}"
            }
          },
          "metadata": {},
          "execution_count": 6
        }
      ],
      "source": [
        "train_path = '/content/drive/MyDrive/Analytics/NLP/Cyber_Crime/data/train.csv'\n",
        "test_path='/content/drive/MyDrive/Analytics/NLP/Cyber_Crime/data/test.csv'\n",
        "train=pd.read_csv(train_path)\n",
        "test=pd.read_csv(test_path)\n",
        "print(train.shape,test.shape)\n",
        "train.head()"
      ]
    },
    {
      "cell_type": "code",
      "execution_count": 2,
      "metadata": {
        "id": "vjx-QLqYNMQF"
      },
      "outputs": [],
      "source": [
        "all_labels=list(set(list(test[\"category\"].unique())+list(train[\"category\"].unique())))"
      ]
    },
    {
      "cell_type": "code",
      "execution_count": null,
      "metadata": {
        "id": "gFMxvYfLSGbA"
      },
      "outputs": [],
      "source": [
        "from nltk.corpus import stopwords\n",
        "import re\n",
        "import spacy\n",
        "nlp=spacy.load('en_core_web_sm')\n",
        "stopwords_list=stopwords.words('english')\n",
        "def preprocess_text(text):\n",
        "    # Lower Casing\n",
        "    if not isinstance(text, str):\n",
        "      text = str(text)\n",
        "    text = text.lower()\n",
        "    text=re.sub(\"[^a-zA-Z]\",\" \",text)\n",
        "    # Tokenization\n",
        "    #tokens = word_tokenize(text)\n",
        "    tokens = text.split()\n",
        "\n",
        "    # Remove stop words and numbers\n",
        "    tokens = [word for word in tokens if word not in stopwords_list]\n",
        "    # Lemmatization\n",
        "    lemmatizer = WordNetLemmatizer()\n",
        "    tokens = [lemmatizer.lemmatize(word) for word in tokens]\n",
        "    # Stemming\n",
        "    #stemmer = PorterStemmer()\n",
        "    #tokens = [stemmer.stem(word) for word in tokens]\n",
        "\n",
        "    return \" \".join(tokens)\n",
        "\n",
        "#Second implemenation is For better speed using spacy lib\n",
        "\"\"\"\n",
        "def preprocess_text2(text):\n",
        "    # Lower Casing\n",
        "    if not isinstance(text, str):\n",
        "        text = str(text)\n",
        "    text = text.lower()\n",
        "\n",
        "    # Remove non-alphabetic characters\n",
        "    text = re.sub(\"[^a-zA-Z]\", \" \", text)\n",
        "\n",
        "    # Tokenization and lemmatization using spaCy\n",
        "    doc = nlp(text)\n",
        "    tokens = [token.lemma_ for token in doc if not token.is_stop]\n",
        "\n",
        "    return \" \".join(tokens)\n",
        "\"\"\"\n",
        "from tqdm import tqdm\n",
        "# Apply preprocessing to the 'text' column\n",
        "train['preprocessed_text'] = train[\"crimeaditionalinfo\"].apply(preprocess_text)\n",
        "test['preprocessed_text'] = test[\"crimeaditionalinfo\"].apply(preprocess_text)\n"
      ]
    },
    {
      "cell_type": "code",
      "source": [
        "all_labels"
      ],
      "metadata": {
        "colab": {
          "base_uri": "https://localhost:8080/"
        },
        "id": "pK1yy_Lu1bqd",
        "outputId": "0fca295d-70a6-4c21-f607-30c999b1caba"
      },
      "execution_count": null,
      "outputs": [
        {
          "output_type": "execute_result",
          "data": {
            "text/plain": [
              "['Sexually Obscene material',\n",
              " 'Online and Social Media Related Crime',\n",
              " 'Any Other Cyber Crime',\n",
              " 'Cryptocurrency Crime',\n",
              " 'RapeGang Rape RGRSexually Abusive Content',\n",
              " 'Online Financial Fraud',\n",
              " 'Cyber Terrorism',\n",
              " 'Crime Against Women & Children',\n",
              " 'Hacking  Damage to computercomputer system etc',\n",
              " 'Cyber Attack/ Dependent Crimes',\n",
              " 'Report Unlawful Content',\n",
              " 'Online Cyber Trafficking',\n",
              " 'Online Gambling  Betting',\n",
              " 'Ransomware',\n",
              " 'Child Pornography CPChild Sexual Abuse Material CSAM',\n",
              " 'Sexually Explicit Act']"
            ]
          },
          "metadata": {},
          "execution_count": 13
        }
      ]
    },
    {
      "cell_type": "code",
      "execution_count": null,
      "metadata": {
        "id": "nc-PfNagSGQi"
      },
      "outputs": [],
      "source": [
        "from sklearn.preprocessing import LabelEncoder\n",
        "Encoder = LabelEncoder()\n",
        "Encoder.fit(pd.Series(all_labels))\n",
        "train['category'] = Encoder.transform(train['category'] )\n"
      ]
    },
    {
      "cell_type": "code",
      "source": [
        "test['category'] = Encoder.transform(test['category'] )"
      ],
      "metadata": {
        "id": "ykjAYbwZ74OG"
      },
      "execution_count": null,
      "outputs": []
    },
    {
      "cell_type": "code",
      "source": [
        "import pickle\n",
        "with open('label_encoder.pkl', 'wb') as f:\n",
        "    pickle.dump(Encoder, f)\n",
        "with open('label_encoder.pkl', 'rb') as f:\n",
        "  loaded_encoder = pickle.load(f)"
      ],
      "metadata": {
        "id": "jjt5YRqItOFH"
      },
      "execution_count": null,
      "outputs": []
    },
    {
      "cell_type": "code",
      "source": [
        "for category in train['category'].unique():\n",
        "       if len(train[train['category'] == category]) == 1:\n",
        "           print(f\"Category '{category}' has only 1 sample.\")"
      ],
      "metadata": {
        "colab": {
          "base_uri": "https://localhost:8080/"
        },
        "id": "GGJIg6mgdh1Z",
        "outputId": "4f9f65c6-6c4d-4378-c03f-59f41e658c0d"
      },
      "execution_count": null,
      "outputs": [
        {
          "output_type": "stream",
          "name": "stdout",
          "text": [
            "Category '13' has only 1 sample.\n"
          ]
        }
      ]
    },
    {
      "cell_type": "code",
      "execution_count": null,
      "metadata": {
        "id": "0O_dczGTT6GX"
      },
      "outputs": [],
      "source": [
        "X_train, X_val, y_train, y_val = train_test_split(train['preprocessed_text'],\n",
        "                                                  train['category'],\n",
        "                                                  test_size=0.15,\n",
        "                                                  random_state=42,)\n",
        "                                                  #stratify=train['category'].values)"
      ]
    },
    {
      "cell_type": "code",
      "execution_count": null,
      "metadata": {
        "id": "IfSupSrXSGKU"
      },
      "outputs": [],
      "source": [
        "from tensorflow.keras.preprocessing.text import Tokenizer\n",
        "from tensorflow.keras.preprocessing.sequence import pad_sequences\n",
        "from tensorflow.keras.layers import Dropout"
      ]
    },
    {
      "cell_type": "code",
      "execution_count": null,
      "metadata": {
        "id": "NDpGmXaISF_s"
      },
      "outputs": [],
      "source": [
        "# Tokenize the text data\n",
        "tokenizer = Tokenizer(num_words=10000)\n",
        "tokenizer.fit_on_texts(train['preprocessed_text'])\n",
        "word_index = tokenizer.word_index\n",
        "\n",
        "# Convert text to sequences of integers\n",
        "X_train = tokenizer.texts_to_sequences(X_train)\n",
        "X_val = tokenizer.texts_to_sequences(X_val)\n",
        "X_test = tokenizer.texts_to_sequences(test['preprocessed_text']) # This line was missing\n",
        "\n",
        "\n",
        "\n",
        "# Pad sequences to a fixed length\n",
        "max_len = 100  # Adjust as needed\n",
        "X_train = pad_sequences(X_train, maxlen=max_len)\n",
        "X_val =  pad_sequences(X_val, maxlen=max_len)\n",
        "X_test = pad_sequences(X_test, maxlen=max_len)\n",
        "\n",
        "X_train = np.array(X_train)\n",
        "X_val = np.array(X_val)  # Assuming X_val is also preprocessed\n",
        "X_test = np.array(X_test)"
      ]
    },
    {
      "cell_type": "code",
      "source": [
        "import pickle\n",
        "with open('tokenizer.pkl', 'wb') as f:\n",
        "    pickle.dump(tokenizer, f)\n",
        "with open('tokenizer.pkl', 'rb') as f:\n",
        "  loaded_tokenizer = pickle.load(f)"
      ],
      "metadata": {
        "id": "Vg23YtCcrklI"
      },
      "execution_count": null,
      "outputs": []
    },
    {
      "cell_type": "code",
      "source": [
        "from tensorflow.keras.callbacks import ModelCheckpoint,EarlyStopping\n",
        "\n",
        "checkpoint_filepath = \"/content/drive/MyDrive/Analytics/NLP/Cyber_Crime/LSTM_checkpoints/best_model.keras\" #'best_model.hdf5'\n",
        "checkpoint_callback = ModelCheckpoint(\n",
        "    filepath=checkpoint_filepath,\n",
        "    save_weights_only=False,\n",
        "    monitor='val_accuracy',\n",
        "    mode='max',\n",
        "    save_best_only=True\n",
        ")\n",
        "# Add Early Stopping Callback\n",
        "early_stopping_callback = EarlyStopping(\n",
        "    monitor='val_accuracy',  # Monitor validation accuracy\n",
        "    patience=10,              # Number of epochs with no improvement after which training will be stopped\n",
        "    mode='max',              # Maximize validation accuracy\n",
        "    restore_best_weights=True # Restore model weights from the epoch with the best value of the monitored quantity.\n",
        ")\n"
      ],
      "metadata": {
        "id": "0tVEsdH6cnFW"
      },
      "execution_count": null,
      "outputs": []
    },
    {
      "cell_type": "code",
      "execution_count": null,
      "metadata": {
        "id": "2bRKbGdLSFyp"
      },
      "outputs": [],
      "source": [
        "model = Sequential()\n",
        "model.add(Embedding(10000, 100))\n",
        "model.add(LSTM(64, return_sequences=True, dropout=0.2))  # First LSTM layer with return_sequences=True\n",
        "model.add(LSTM(32, dropout=0.2))  # Second LSTM layer\n",
        "model.add(Dense(64, activation='relu'))\n",
        "model.add(Dropout(0.2))\n",
        "model.add(Dense(len(Encoder.classes_), activation='softmax'))\n",
        "\n",
        "model.compile(loss='sparse_categorical_crossentropy', optimizer='adam', metrics=['accuracy'])\n"
      ]
    },
    {
      "cell_type": "code",
      "source": [
        "from keras.models import Sequential\n",
        "from keras.layers import Embedding, LSTM, Dense, Dropout, LeakyReLU, SpatialDropout1D\n",
        "from keras.initializers import GlorotUniform\n",
        "from keras.regularizers import l2\n",
        "from keras.layers import Bidirectional\n",
        "\n",
        "model = Sequential()\n",
        "\n",
        "# Embedding Layer\n",
        "model.add(Embedding(10000, 100, input_length=max_len, embeddings_initializer=GlorotUniform()))\n",
        "\n",
        "# First LSTM Layer with Dropout and Regularization\n",
        "# Pass the GlorotUniform initializer to kernel_initializer\n",
        "model.add(Bidirectional(LSTM(64, return_sequences=True, dropout=0.2, recurrent_dropout=0.2, kernel_regularizer=l2(l2=1e-4), kernel_initializer=GlorotUniform())))\n",
        "\n",
        "# Second Bidirectional LSTM Layer\n",
        "model.add(Bidirectional(LSTM(32, dropout=0.2, recurrent_dropout=0.2, kernel_regularizer=l2(l2=1e-4), kernel_initializer=GlorotUniform()))) #\n",
        "\n",
        "# Dense Layer with LeakyReLU Activation and Regularization\n",
        "model.add(Dense(64, activation='leaky_relu', kernel_regularizer=l2(l2=1e-4)))\n",
        "\n",
        "# Dropout Layer\n",
        "model.add(Dropout(0.2))\n",
        "\n",
        "# Output Layer\n",
        "model.add(Dense(len(Encoder.classes_), activation='softmax'))\n",
        "\n",
        "# Compile the model\n",
        "model.compile(loss='sparse_categorical_crossentropy', optimizer='adam', metrics=['accuracy'])"
      ],
      "metadata": {
        "id": "1kgxDzqCekAV",
        "colab": {
          "base_uri": "https://localhost:8080/"
        },
        "outputId": "d11b15aa-ed26-4d0c-c407-0c60451a8783"
      },
      "execution_count": null,
      "outputs": [
        {
          "output_type": "stream",
          "name": "stderr",
          "text": [
            "/usr/local/lib/python3.10/dist-packages/keras/src/layers/core/embedding.py:90: UserWarning: Argument `input_length` is deprecated. Just remove it.\n",
            "  warnings.warn(\n"
          ]
        }
      ]
    },
    {
      "cell_type": "code",
      "execution_count": null,
      "metadata": {
        "id": "IqOVB6GcSFhS",
        "colab": {
          "base_uri": "https://localhost:8080/"
        },
        "outputId": "be7f0af4-3fd7-4e79-db41-d8ed055ccbbe"
      },
      "outputs": [
        {
          "output_type": "stream",
          "name": "stdout",
          "text": [
            "Epoch 1/25\n",
            "\u001b[1m2489/2489\u001b[0m \u001b[32m━━━━━━━━━━━━━━━━━━━━\u001b[0m\u001b[37m\u001b[0m \u001b[1m649s\u001b[0m 257ms/step - accuracy: 0.7174 - loss: 0.9873 - val_accuracy: 0.7546 - val_loss: 0.7756\n",
            "Epoch 2/25\n",
            "\u001b[1m2489/2489\u001b[0m \u001b[32m━━━━━━━━━━━━━━━━━━━━\u001b[0m\u001b[37m\u001b[0m \u001b[1m675s\u001b[0m 254ms/step - accuracy: 0.7556 - loss: 0.7502 - val_accuracy: 0.7561 - val_loss: 0.7368\n",
            "Epoch 3/25\n",
            "\u001b[1m2489/2489\u001b[0m \u001b[32m━━━━━━━━━━━━━━━━━━━━\u001b[0m\u001b[37m\u001b[0m \u001b[1m683s\u001b[0m 255ms/step - accuracy: 0.7674 - loss: 0.6958 - val_accuracy: 0.7584 - val_loss: 0.7537\n",
            "Epoch 4/25\n",
            "\u001b[1m2489/2489\u001b[0m \u001b[32m━━━━━━━━━━━━━━━━━━━━\u001b[0m\u001b[37m\u001b[0m \u001b[1m679s\u001b[0m 254ms/step - accuracy: 0.7796 - loss: 0.6614 - val_accuracy: 0.7573 - val_loss: 0.7404\n",
            "Epoch 5/25\n",
            "\u001b[1m2489/2489\u001b[0m \u001b[32m━━━━━━━━━━━━━━━━━━━━\u001b[0m\u001b[37m\u001b[0m \u001b[1m686s\u001b[0m 255ms/step - accuracy: 0.7949 - loss: 0.6230 - val_accuracy: 0.7578 - val_loss: 0.7382\n",
            "Epoch 6/25\n",
            "\u001b[1m2489/2489\u001b[0m \u001b[32m━━━━━━━━━━━━━━━━━━━━\u001b[0m\u001b[37m\u001b[0m \u001b[1m680s\u001b[0m 255ms/step - accuracy: 0.8043 - loss: 0.5918 - val_accuracy: 0.7482 - val_loss: 0.7679\n",
            "Epoch 7/25\n",
            "\u001b[1m2489/2489\u001b[0m \u001b[32m━━━━━━━━━━━━━━━━━━━━\u001b[0m\u001b[37m\u001b[0m \u001b[1m679s\u001b[0m 254ms/step - accuracy: 0.8140 - loss: 0.5694 - val_accuracy: 0.7526 - val_loss: 0.7957\n",
            "Epoch 8/25\n",
            "\u001b[1m2489/2489\u001b[0m \u001b[32m━━━━━━━━━━━━━━━━━━━━\u001b[0m\u001b[37m\u001b[0m \u001b[1m685s\u001b[0m 255ms/step - accuracy: 0.8226 - loss: 0.5460 - val_accuracy: 0.7564 - val_loss: 0.8148\n",
            "Epoch 9/25\n",
            "\u001b[1m2489/2489\u001b[0m \u001b[32m━━━━━━━━━━━━━━━━━━━━\u001b[0m\u001b[37m\u001b[0m \u001b[1m679s\u001b[0m 254ms/step - accuracy: 0.8316 - loss: 0.5174 - val_accuracy: 0.7508 - val_loss: 0.8200\n",
            "Epoch 10/25\n",
            "\u001b[1m2489/2489\u001b[0m \u001b[32m━━━━━━━━━━━━━━━━━━━━\u001b[0m\u001b[37m\u001b[0m \u001b[1m701s\u001b[0m 261ms/step - accuracy: 0.8383 - loss: 0.5007 - val_accuracy: 0.7512 - val_loss: 0.8705\n",
            "Epoch 11/25\n",
            "\u001b[1m2489/2489\u001b[0m \u001b[32m━━━━━━━━━━━━━━━━━━━━\u001b[0m\u001b[37m\u001b[0m \u001b[1m663s\u001b[0m 254ms/step - accuracy: 0.8459 - loss: 0.4824 - val_accuracy: 0.7471 - val_loss: 0.8808\n",
            "Epoch 12/25\n",
            "\u001b[1m2489/2489\u001b[0m \u001b[32m━━━━━━━━━━━━━━━━━━━━\u001b[0m\u001b[37m\u001b[0m \u001b[1m683s\u001b[0m 254ms/step - accuracy: 0.8492 - loss: 0.4687 - val_accuracy: 0.7482 - val_loss: 0.9334\n",
            "Epoch 13/25\n",
            "\u001b[1m2489/2489\u001b[0m \u001b[32m━━━━━━━━━━━━━━━━━━━━\u001b[0m\u001b[37m\u001b[0m \u001b[1m633s\u001b[0m 254ms/step - accuracy: 0.8592 - loss: 0.4422 - val_accuracy: 0.7453 - val_loss: 0.9770\n"
          ]
        },
        {
          "output_type": "execute_result",
          "data": {
            "text/plain": [
              "<keras.src.callbacks.history.History at 0x78da658b5c90>"
            ]
          },
          "metadata": {},
          "execution_count": 25
        }
      ],
      "source": [
        "model.fit(X_train, y_train, epochs=25, batch_size=32,\n",
        "          validation_data=(X_val, y_val),callbacks=[checkpoint_callback,early_stopping_callback])"
      ]
    },
    {
      "cell_type": "code",
      "execution_count": null,
      "metadata": {
        "id": "WDvzVX59R0X3",
        "colab": {
          "base_uri": "https://localhost:8080/"
        },
        "outputId": "7653913f-1227-4419-aa69-18b70b19dceb"
      },
      "outputs": [
        {
          "output_type": "stream",
          "name": "stdout",
          "text": [
            "\u001b[1m976/976\u001b[0m \u001b[32m━━━━━━━━━━━━━━━━━━━━\u001b[0m\u001b[37m\u001b[0m \u001b[1m55s\u001b[0m 55ms/step\n",
            "Test Accuracy: 0.7479586281981492\n",
            "Test F1-score: 0.7096525882303913\n"
          ]
        }
      ],
      "source": [
        "# Evaluate the model on the test set\n",
        "y_test=test['category']\n",
        "\n",
        "from sklearn.metrics import accuracy_score, f1_score\n",
        "\n",
        "# Make predictions on the test set\n",
        "y_pred = model.predict(X_test)\n",
        "y_pred_classes = np.argmax(y_pred, axis=1)\n",
        "\n",
        "# Evaluate the model\n",
        "accuracy = accuracy_score(y_test, y_pred_classes)\n",
        "\n",
        "f1 = f1_score(y_test, y_pred_classes, average='weighted')\n",
        "\n",
        "print('Test Accuracy:', accuracy)\n",
        "print('Test F1-score:', f1)"
      ]
    },
    {
      "cell_type": "code",
      "source": [
        "#Code for loaded the saved model and predicting with it\n",
        "\n",
        "\n",
        "from tensorflow.keras.models import load_model\n",
        "\n",
        "# Load the saved model\n",
        "model = load_model(checkpoint_filepath)\n",
        "\n",
        "# Make predictions on new data\n",
        "new_data =  \"\"\"\n",
        "I discovered that my personal information, including my [specific personal information, e.g., Social Security number,\n",
        " credit card numbers, or bank account information] had been compromised. I believe this information was used to\n",
        "  [describe how the information was misused, e.g., open fraudulent accounts, make unauthorized purchases, or file fraudulent tax returns].\n",
        "  I have attached [evidence, such as credit reports, police reports, or fraudulent transaction statements] to support my claim. I am requesting a\n",
        "  thorough investigation into this matter and appropriate legal action against the individuals responsible.\n",
        "\"\"\"\n",
        "new_data = tokenizer.texts_to_sequences(new_data)\n",
        "new_data = pad_sequences(new_data, maxlen=max_len)\n",
        "predictions = model.predict(new_data)\n"
      ],
      "metadata": {
        "id": "ShYAal4FMEln",
        "colab": {
          "base_uri": "https://localhost:8080/"
        },
        "outputId": "cad8a100-f6a3-4a05-b8aa-b4d9823a675c"
      },
      "execution_count": null,
      "outputs": [
        {
          "output_type": "stream",
          "name": "stdout",
          "text": [
            "\u001b[1m20/20\u001b[0m \u001b[32m━━━━━━━━━━━━━━━━━━━━\u001b[0m\u001b[37m\u001b[0m \u001b[1m2s\u001b[0m 84ms/step\n"
          ]
        }
      ]
    },
    {
      "cell_type": "code",
      "source": [
        "classs=np.argmax(np.argmax(predictions,axis=0))\n",
        "Encoder.inverse_transform([classs])"
      ],
      "metadata": {
        "colab": {
          "base_uri": "https://localhost:8080/"
        },
        "id": "L_LcAdt67mz9",
        "outputId": "fa1dec57-b14c-4b0e-808b-0a6f4865b687"
      },
      "execution_count": null,
      "outputs": [
        {
          "output_type": "execute_result",
          "data": {
            "text/plain": [
              "array(['Online and Social Media Related Crime'], dtype=object)"
            ]
          },
          "metadata": {},
          "execution_count": 28
        }
      ]
    },
    {
      "cell_type": "markdown",
      "source": [
        "### Our model is Severely Overfitting\n",
        "\n",
        "**Addressing Overfitting in Text Classification**\n",
        "\n",
        "**Overfitting** occurs when a model becomes too complex and learns the training data too well, leading to poor generalization on unseen data.\n",
        "\n",
        "**Strategies to Mitigate Overfitting:**\n",
        "\n",
        "1. **Data Augmentation:**\n",
        "   - Increase data diversity by creating new samples through techniques like back-translation, synonym replacement, and text generation.\n",
        "\n",
        "2. **Regularization:**\n",
        "   - **L1/L2 Regularization:** Penalizes large weights, reducing model complexity.\n",
        "   - **Dropout:** Randomly drops units during training, preventing co-adaptation.\n",
        "\n",
        "3. **Early Stopping:**\n",
        "   - Monitors a validation set and stops training when performance starts to degrade.\n",
        "\n",
        "4. *Model Architecture:**\n",
        "   - **Pre-trained Models:** Use pre-trained language models like BERT, RoBERTa, or ALBERT as a strong foundation.\n",
        "\n",
        "5. **Hyperparameter Tuning:**\n",
        "   - Experiment with different hyperparameters like learning rate, batch size, and number of epochs.\n",
        "6. **Effective Weight Initialization:**\n",
        "  - Initial Weights impacts the performace of our model experimenting with different initialization methods will possibly contribute to a better generalization\n",
        "\n",
        "By implementing these techniques, you can effectively mitigate overfitting and improve the generalization performance of your text classification model.\n"
      ],
      "metadata": {
        "id": "XuQz3LKIIvNW"
      }
    },
    {
      "cell_type": "markdown",
      "source": [
        "## Naive Bayes"
      ],
      "metadata": {
        "id": "Y5C6UnxnlwBC"
      }
    },
    {
      "cell_type": "code",
      "source": [
        "from sklearn.feature_extraction.text import TfidfVectorizer\n",
        "from sklearn.naive_bayes import MultinomialNB\n",
        "from sklearn.metrics import accuracy_score, f1_score\n",
        "import pickle\n",
        "\n",
        "\n",
        "\n",
        "X_train, X_val, y_train, y_val = train_test_split(train['preprocessed_text'],\n",
        "                                                  train['category'],\n",
        "                                                  test_size=0.15,\n",
        "                                                  random_state=42,)\n",
        "\n",
        "#train['preprocessed_text']\n",
        "#test['preprocessed_text']\n",
        "\n",
        "# Create TF-IDF vectorizer\n",
        "vectorizer = TfidfVectorizer()\n",
        "X_train = vectorizer.fit_transform(X_train)\n",
        "X_val = vectorizer.transform(X_val)\n",
        "X_test=vectorizer.transform(test['preprocessed_text'])\n",
        "\n",
        "\n",
        "# Naive Bayes (MultinomialNB)\n",
        "naive_bayes_model = MultinomialNB()\n",
        "naive_bayes_model.fit(X_train, y_train)\n",
        "\n",
        "# Make predictions\n",
        "y_pred_nb = naive_bayes_model.predict(X_val)\n",
        "\n",
        "# Evaluate Naive Bayes Model\n",
        "accuracy_nb = accuracy_score(y_val, y_pred_nb)\n",
        "f1_nb = f1_score(y_val, y_pred_nb, average='weighted')\n",
        "print(\"Accuracy (Naive Bayes):\", accuracy_nb)\n",
        "print(\"F1-score (Naive Bayes):\", f1_nb)\n",
        "\n",
        "# Save the Naive Bayes model with pickle\n",
        "with open('naive_bayes_model.pkl', 'wb') as f:\n",
        "    pickle.dump(naive_bayes_model, f)\n"
      ],
      "metadata": {
        "id": "sNg7SMRiuhzN",
        "colab": {
          "base_uri": "https://localhost:8080/"
        },
        "outputId": "ca5f7d29-5933-4994-8a1b-cfbbf075f097"
      },
      "execution_count": null,
      "outputs": [
        {
          "output_type": "stream",
          "name": "stdout",
          "text": [
            "Accuracy (Naive Bayes): 0.7199886145307052\n",
            "F1-score (Naive Bayes): 0.631301443007262\n"
          ]
        }
      ]
    },
    {
      "cell_type": "code",
      "source": [],
      "metadata": {
        "id": "5uymdd2kQzX6"
      },
      "execution_count": null,
      "outputs": []
    },
    {
      "cell_type": "code",
      "source": [],
      "metadata": {
        "id": "FfS6dVCyQzUF"
      },
      "execution_count": null,
      "outputs": []
    },
    {
      "cell_type": "code",
      "source": [],
      "metadata": {
        "id": "JQDucyMnluYT"
      },
      "execution_count": null,
      "outputs": []
    },
    {
      "cell_type": "code",
      "source": [],
      "metadata": {
        "id": "3nGAHOB5lua4"
      },
      "execution_count": null,
      "outputs": []
    },
    {
      "cell_type": "code",
      "source": [],
      "metadata": {
        "id": "QhQt9b52lucf"
      },
      "execution_count": null,
      "outputs": []
    },
    {
      "cell_type": "code",
      "source": [],
      "metadata": {
        "id": "VCVPoTAXluec"
      },
      "execution_count": null,
      "outputs": []
    },
    {
      "cell_type": "code",
      "source": [],
      "metadata": {
        "id": "JYP-VAoPlug4"
      },
      "execution_count": null,
      "outputs": []
    },
    {
      "cell_type": "code",
      "source": [],
      "metadata": {
        "id": "g97tu2-1lumW"
      },
      "execution_count": null,
      "outputs": []
    },
    {
      "cell_type": "code",
      "source": [],
      "metadata": {
        "id": "YfyZS-F2luop"
      },
      "execution_count": null,
      "outputs": []
    },
    {
      "cell_type": "code",
      "source": [],
      "metadata": {
        "id": "yH6DMAWbluqw"
      },
      "execution_count": null,
      "outputs": []
    },
    {
      "cell_type": "code",
      "source": [],
      "metadata": {
        "id": "6MmGaaIFlutF"
      },
      "execution_count": null,
      "outputs": []
    },
    {
      "cell_type": "code",
      "source": [],
      "metadata": {
        "id": "P0GekfQTluu7"
      },
      "execution_count": null,
      "outputs": []
    },
    {
      "cell_type": "code",
      "source": [],
      "metadata": {
        "id": "APxg8_tXluxB"
      },
      "execution_count": null,
      "outputs": []
    },
    {
      "cell_type": "code",
      "source": [],
      "metadata": {
        "id": "GgeZO71Gluyt"
      },
      "execution_count": null,
      "outputs": []
    },
    {
      "cell_type": "code",
      "source": [],
      "metadata": {
        "id": "J1gjpEj_lu3y"
      },
      "execution_count": null,
      "outputs": []
    },
    {
      "cell_type": "code",
      "source": [],
      "metadata": {
        "id": "V9bgASxUlu6G"
      },
      "execution_count": null,
      "outputs": []
    }
  ],
  "metadata": {
    "colab": {
      "provenance": [],
      "gpuType": "T4"
    },
    "kernelspec": {
      "display_name": "Python 3",
      "name": "python3"
    },
    "language_info": {
      "name": "python"
    },
    "accelerator": "GPU"
  },
  "nbformat": 4,
  "nbformat_minor": 0
}