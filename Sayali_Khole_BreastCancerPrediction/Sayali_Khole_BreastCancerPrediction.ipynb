{
 "cells": [
  {
   "cell_type": "markdown",
   "id": "931b7c59-0dbd-4c89-8358-93d816f74640",
   "metadata": {},
   "source": [
    "\n",
    "# \"CANCER DISEASE PREDICTION USING MACHINE LEARNING TECHNIQUES.\"\n"
   ]
  },
  {
   "cell_type": "markdown",
   "id": "de2bd50a-ebf3-4e5f-91eb-4b20e1ad28db",
   "metadata": {},
   "source": [
    "\n",
    "# 1. IMPORTING ESSENTIAL LIBRARIES.\n"
   ]
  },
  {
   "cell_type": "code",
   "execution_count": 3,
   "id": "0255329d-a3ca-4a2b-acd7-7d5237352fe2",
   "metadata": {},
   "outputs": [],
   "source": [
    "import tkinter as tk\n",
    "from tkinter import messagebox\n",
    "from sklearn import datasets\n",
    "from sklearn.ensemble import RandomForestClassifier\n",
    "from sklearn.model_selection import train_test_split\n",
    "from sklearn.preprocessing import StandardScaler\n",
    "import numpy as np\n",
    "import seaborn as sns\n",
    "import pandas as pd"
   ]
  },
  {
   "cell_type": "markdown",
   "id": "66ff7292-8ffb-4699-a536-746c7bf81054",
   "metadata": {},
   "source": [
    "\n",
    "# 2. IMPORTING & UNDERSTANDING OUR DATA SET.\n"
   ]
  },
  {
   "cell_type": "code",
   "execution_count": 5,
   "id": "bfa5843d-5dfa-4260-aea2-b185c583966b",
   "metadata": {},
   "outputs": [],
   "source": [
    "\n",
    "cancer_data = datasets.load_breast_cancer()\n",
    "df = pd.DataFrame(cancer_data.data, columns=cancer_data.feature_names)\n",
    "df['target'] = cancer_data.target\n"
   ]
  },
  {
   "cell_type": "markdown",
   "id": "52db9c68-2c8e-45de-96bb-0649d1984f2b",
   "metadata": {},
   "source": [
    "\n",
    "# Shape of dataset.\n"
   ]
  },
  {
   "cell_type": "code",
   "execution_count": 7,
   "id": "f78c4abf-d08e-43b5-8a62-034a6a41606a",
   "metadata": {},
   "outputs": [
    {
     "data": {
      "text/plain": [
       "(569, 31)"
      ]
     },
     "execution_count": 7,
     "metadata": {},
     "output_type": "execute_result"
    }
   ],
   "source": [
    "\n",
    "df.shape\n"
   ]
  },
  {
   "cell_type": "markdown",
   "id": "66e667fd-5c22-4a1a-80f2-026f9076253c",
   "metadata": {},
   "source": [
    " # Data Processing.\n",
    " # Printing out top 5 rows."
   ]
  },
  {
   "cell_type": "code",
   "execution_count": 9,
   "id": "0fa7c9be-d330-4c07-8c76-593d1ce35024",
   "metadata": {},
   "outputs": [
    {
     "name": "stdout",
     "output_type": "stream",
     "text": [
      "\n",
      "First 5 rows of the dataset (Head):\n",
      "   mean radius  mean texture  mean perimeter  mean area  mean smoothness  \\\n",
      "0        17.99         10.38          122.80     1001.0          0.11840   \n",
      "1        20.57         17.77          132.90     1326.0          0.08474   \n",
      "2        19.69         21.25          130.00     1203.0          0.10960   \n",
      "3        11.42         20.38           77.58      386.1          0.14250   \n",
      "4        20.29         14.34          135.10     1297.0          0.10030   \n",
      "\n",
      "   mean compactness  mean concavity  mean concave points  mean symmetry  \\\n",
      "0           0.27760          0.3001              0.14710         0.2419   \n",
      "1           0.07864          0.0869              0.07017         0.1812   \n",
      "2           0.15990          0.1974              0.12790         0.2069   \n",
      "3           0.28390          0.2414              0.10520         0.2597   \n",
      "4           0.13280          0.1980              0.10430         0.1809   \n",
      "\n",
      "   mean fractal dimension  ...  worst texture  worst perimeter  worst area  \\\n",
      "0                 0.07871  ...          17.33           184.60      2019.0   \n",
      "1                 0.05667  ...          23.41           158.80      1956.0   \n",
      "2                 0.05999  ...          25.53           152.50      1709.0   \n",
      "3                 0.09744  ...          26.50            98.87       567.7   \n",
      "4                 0.05883  ...          16.67           152.20      1575.0   \n",
      "\n",
      "   worst smoothness  worst compactness  worst concavity  worst concave points  \\\n",
      "0            0.1622             0.6656           0.7119                0.2654   \n",
      "1            0.1238             0.1866           0.2416                0.1860   \n",
      "2            0.1444             0.4245           0.4504                0.2430   \n",
      "3            0.2098             0.8663           0.6869                0.2575   \n",
      "4            0.1374             0.2050           0.4000                0.1625   \n",
      "\n",
      "   worst symmetry  worst fractal dimension  target  \n",
      "0          0.4601                  0.11890       0  \n",
      "1          0.2750                  0.08902       0  \n",
      "2          0.3613                  0.08758       0  \n",
      "3          0.6638                  0.17300       0  \n",
      "4          0.2364                  0.07678       0  \n",
      "\n",
      "[5 rows x 31 columns]\n"
     ]
    }
   ],
   "source": [
    "\n",
    "print(\"\\nFirst 5 rows of the dataset (Head):\")\n",
    "print(df.head())\n"
   ]
  },
  {
   "cell_type": "markdown",
   "id": "5fd26abc-afad-4ce1-a54a-310e05e1a9b2",
   "metadata": {},
   "source": [
    "\n",
    " # Printing out bottom 5 rows.\n"
   ]
  },
  {
   "cell_type": "code",
   "execution_count": 11,
   "id": "852c819c-1cf3-40aa-b03a-775d1069eee6",
   "metadata": {},
   "outputs": [
    {
     "name": "stdout",
     "output_type": "stream",
     "text": [
      "\n",
      "Last 5 rows of the dataset (Tail):\n",
      "     mean radius  mean texture  mean perimeter  mean area  mean smoothness  \\\n",
      "564        21.56         22.39          142.00     1479.0          0.11100   \n",
      "565        20.13         28.25          131.20     1261.0          0.09780   \n",
      "566        16.60         28.08          108.30      858.1          0.08455   \n",
      "567        20.60         29.33          140.10     1265.0          0.11780   \n",
      "568         7.76         24.54           47.92      181.0          0.05263   \n",
      "\n",
      "     mean compactness  mean concavity  mean concave points  mean symmetry  \\\n",
      "564           0.11590         0.24390              0.13890         0.1726   \n",
      "565           0.10340         0.14400              0.09791         0.1752   \n",
      "566           0.10230         0.09251              0.05302         0.1590   \n",
      "567           0.27700         0.35140              0.15200         0.2397   \n",
      "568           0.04362         0.00000              0.00000         0.1587   \n",
      "\n",
      "     mean fractal dimension  ...  worst texture  worst perimeter  worst area  \\\n",
      "564                 0.05623  ...          26.40           166.10      2027.0   \n",
      "565                 0.05533  ...          38.25           155.00      1731.0   \n",
      "566                 0.05648  ...          34.12           126.70      1124.0   \n",
      "567                 0.07016  ...          39.42           184.60      1821.0   \n",
      "568                 0.05884  ...          30.37            59.16       268.6   \n",
      "\n",
      "     worst smoothness  worst compactness  worst concavity  \\\n",
      "564           0.14100            0.21130           0.4107   \n",
      "565           0.11660            0.19220           0.3215   \n",
      "566           0.11390            0.30940           0.3403   \n",
      "567           0.16500            0.86810           0.9387   \n",
      "568           0.08996            0.06444           0.0000   \n",
      "\n",
      "     worst concave points  worst symmetry  worst fractal dimension  target  \n",
      "564                0.2216          0.2060                  0.07115       0  \n",
      "565                0.1628          0.2572                  0.06637       0  \n",
      "566                0.1418          0.2218                  0.07820       0  \n",
      "567                0.2650          0.4087                  0.12400       0  \n",
      "568                0.0000          0.2871                  0.07039       1  \n",
      "\n",
      "[5 rows x 31 columns]\n"
     ]
    }
   ],
   "source": [
    "\n",
    "print(\"\\nLast 5 rows of the dataset (Tail):\")\n",
    "print(df.tail())\n"
   ]
  },
  {
   "cell_type": "markdown",
   "id": "559d1b60-ff70-4622-bb9b-f0d3207fef75",
   "metadata": {},
   "source": [
    "\n",
    "# Description.\n"
   ]
  },
  {
   "cell_type": "code",
   "execution_count": 13,
   "id": "4f2c9d51-cc45-4f9f-8acb-97a67225e0cd",
   "metadata": {},
   "outputs": [
    {
     "name": "stdout",
     "output_type": "stream",
     "text": [
      "Dataset Description:\n",
      ".. _breast_cancer_dataset:\n",
      "\n",
      "Breast cancer wisconsin (diagnostic) dataset\n",
      "--------------------------------------------\n",
      "\n",
      "**Data Set Characteristics:**\n",
      "\n",
      ":Number of Instances: 569\n",
      "\n",
      ":Number of Attributes: 30 numeric, predictive attributes and the class\n",
      "\n",
      ":Attribute Information:\n",
      "    - radius (mean of distances from center to points on the perimeter)\n",
      "    - texture (standard deviation of gray-scale values)\n",
      "    - perimeter\n",
      "    - area\n",
      "    - smoothness (local variation in radius lengths)\n",
      "    - compactness (perimeter^2 / area - 1.0)\n",
      "    - concavity (severity of concave portions of the contour)\n",
      "    - concave points (number of concave portions of the contour)\n",
      "    - symmetry\n",
      "    - fractal dimension (\"coastline approximation\" - 1)\n",
      "\n",
      "    The mean, standard error, and \"worst\" or largest (mean of the three\n",
      "    worst/largest values) of these features were computed for each image,\n",
      "    resulting in 30 features.  For instance, field 0 is Mean Radius, field\n",
      "    10 is Radius SE, field 20 is Worst Radius.\n",
      "\n",
      "    - class:\n",
      "            - WDBC-Malignant\n",
      "            - WDBC-Benign\n",
      "\n",
      ":Summary Statistics:\n",
      "\n",
      "===================================== ====== ======\n",
      "                                        Min    Max\n",
      "===================================== ====== ======\n",
      "radius (mean):                        6.981  28.11\n",
      "texture (mean):                       9.71   39.28\n",
      "perimeter (mean):                     43.79  188.5\n",
      "area (mean):                          143.5  2501.0\n",
      "smoothness (mean):                    0.053  0.163\n",
      "compactness (mean):                   0.019  0.345\n",
      "concavity (mean):                     0.0    0.427\n",
      "concave points (mean):                0.0    0.201\n",
      "symmetry (mean):                      0.106  0.304\n",
      "fractal dimension (mean):             0.05   0.097\n",
      "radius (standard error):              0.112  2.873\n",
      "texture (standard error):             0.36   4.885\n",
      "perimeter (standard error):           0.757  21.98\n",
      "area (standard error):                6.802  542.2\n",
      "smoothness (standard error):          0.002  0.031\n",
      "compactness (standard error):         0.002  0.135\n",
      "concavity (standard error):           0.0    0.396\n",
      "concave points (standard error):      0.0    0.053\n",
      "symmetry (standard error):            0.008  0.079\n",
      "fractal dimension (standard error):   0.001  0.03\n",
      "radius (worst):                       7.93   36.04\n",
      "texture (worst):                      12.02  49.54\n",
      "perimeter (worst):                    50.41  251.2\n",
      "area (worst):                         185.2  4254.0\n",
      "smoothness (worst):                   0.071  0.223\n",
      "compactness (worst):                  0.027  1.058\n",
      "concavity (worst):                    0.0    1.252\n",
      "concave points (worst):               0.0    0.291\n",
      "symmetry (worst):                     0.156  0.664\n",
      "fractal dimension (worst):            0.055  0.208\n",
      "===================================== ====== ======\n",
      "\n",
      ":Missing Attribute Values: None\n",
      "\n",
      ":Class Distribution: 212 - Malignant, 357 - Benign\n",
      "\n",
      ":Creator:  Dr. William H. Wolberg, W. Nick Street, Olvi L. Mangasarian\n",
      "\n",
      ":Donor: Nick Street\n",
      "\n",
      ":Date: November, 1995\n",
      "\n",
      "This is a copy of UCI ML Breast Cancer Wisconsin (Diagnostic) datasets.\n",
      "https://goo.gl/U2Uwz2\n",
      "\n",
      "Features are computed from a digitized image of a fine needle\n",
      "aspirate (FNA) of a breast mass.  They describe\n",
      "characteristics of the cell nuclei present in the image.\n",
      "\n",
      "Separating plane described above was obtained using\n",
      "Multisurface Method-Tree (MSM-T) [K. P. Bennett, \"Decision Tree\n",
      "Construction Via Linear Programming.\" Proceedings of the 4th\n",
      "Midwest Artificial Intelligence and Cognitive Science Society,\n",
      "pp. 97-101, 1992], a classification method which uses linear\n",
      "programming to construct a decision tree.  Relevant features\n",
      "were selected using an exhaustive search in the space of 1-4\n",
      "features and 1-3 separating planes.\n",
      "\n",
      "The actual linear program used to obtain the separating plane\n",
      "in the 3-dimensional space is that described in:\n",
      "[K. P. Bennett and O. L. Mangasarian: \"Robust Linear\n",
      "Programming Discrimination of Two Linearly Inseparable Sets\",\n",
      "Optimization Methods and Software 1, 1992, 23-34].\n",
      "\n",
      "This database is also available through the UW CS ftp server:\n",
      "\n",
      "ftp ftp.cs.wisc.edu\n",
      "cd math-prog/cpo-dataset/machine-learn/WDBC/\n",
      "\n",
      ".. dropdown:: References\n",
      "\n",
      "  - W.N. Street, W.H. Wolberg and O.L. Mangasarian. Nuclear feature extraction\n",
      "    for breast tumor diagnosis. IS&T/SPIE 1993 International Symposium on\n",
      "    Electronic Imaging: Science and Technology, volume 1905, pages 861-870,\n",
      "    San Jose, CA, 1993.\n",
      "  - O.L. Mangasarian, W.N. Street and W.H. Wolberg. Breast cancer diagnosis and\n",
      "    prognosis via linear programming. Operations Research, 43(4), pages 570-577,\n",
      "    July-August 1995.\n",
      "  - W.H. Wolberg, W.N. Street, and O.L. Mangasarian. Machine learning techniques\n",
      "    to diagnose breast cancer from fine-needle aspirates. Cancer Letters 77 (1994)\n",
      "    163-171.\n",
      "\n"
     ]
    }
   ],
   "source": [
    "\n",
    "print(\"Dataset Description:\")\n",
    "print(cancer_data.DESCR)\n"
   ]
  },
  {
   "cell_type": "markdown",
   "id": "8815703a-f4b1-4bfa-a7bd-fb2f5f4a7e40",
   "metadata": {},
   "source": [
    "\n",
    "# Analysing the 'target' variable.\n"
   ]
  },
  {
   "cell_type": "code",
   "execution_count": 15,
   "id": "c430525f-3595-426d-a1d9-524181294625",
   "metadata": {},
   "outputs": [
    {
     "data": {
      "text/plain": [
       "count    569.000000\n",
       "mean       0.627417\n",
       "std        0.483918\n",
       "min        0.000000\n",
       "25%        0.000000\n",
       "50%        1.000000\n",
       "75%        1.000000\n",
       "max        1.000000\n",
       "Name: target, dtype: float64"
      ]
     },
     "execution_count": 15,
     "metadata": {},
     "output_type": "execute_result"
    }
   ],
   "source": [
    "\n",
    "df[\"target\"].describe()\n"
   ]
  },
  {
   "cell_type": "code",
   "execution_count": 16,
   "id": "371912f7-01ad-43ba-b2ac-d0686a90794c",
   "metadata": {},
   "outputs": [
    {
     "data": {
      "text/plain": [
       "array([0, 1])"
      ]
     },
     "execution_count": 16,
     "metadata": {},
     "output_type": "execute_result"
    }
   ],
   "source": [
    "\n",
    "df[\"target\"].unique()\n"
   ]
  },
  {
   "cell_type": "markdown",
   "id": "8da8df94-c5de-48fd-8379-694faeaeed87",
   "metadata": {},
   "source": [
    "\n",
    "# Clearly, this is a classification problem, with the target variable having values \"0\" and \"1\".\n"
   ]
  },
  {
   "cell_type": "markdown",
   "id": "87755fdb-80f8-482b-8a1c-5262f4ecff69",
   "metadata": {},
   "source": [
    "\n",
    "# Select only a subset of features for prediction (using the first 5 features)\n",
    "# Labels (0 = malignant, 1 = benign)\n"
   ]
  },
  {
   "cell_type": "code",
   "execution_count": 19,
   "id": "0cec374b-4b7a-4fcc-9ba4-687e50fc5b22",
   "metadata": {},
   "outputs": [],
   "source": [
    "\n",
    "X = cancer_data.data[:, :5]  \n",
    "y = cancer_data.target \n"
   ]
  },
  {
   "cell_type": "markdown",
   "id": "d8f917d9-4cca-49e6-a995-7fc8d58479ff",
   "metadata": {},
   "source": [
    "\n",
    "# 3. EXPLORATOEY DATA ANALYSIS (EDA).\n",
    "   \n",
    "# Analysing the 'target' variable:"
   ]
  },
  {
   "cell_type": "code",
   "execution_count": 21,
   "id": "5764dec5-e650-42a3-957a-21bac41f5e9f",
   "metadata": {},
   "outputs": [
    {
     "name": "stdout",
     "output_type": "stream",
     "text": [
      "target\n",
      "1    357\n",
      "0    212\n",
      "Name: count, dtype: int64\n"
     ]
    },
    {
     "data": {
      "image/png": "[encoded data removed]",
      "text/plain": [
       "<Figure size 640x480 with 1 Axes>"
      ]
     },
     "metadata": {},
     "output_type": "display_data"
    }
   ],
   "source": [
    "\n",
    "y = df[\"target\"]\n",
    "\n",
    "sns.countplot(y)\n",
    "\n",
    "target_temp = df.target.value_counts()\n",
    "\n",
    "print(target_temp)\n"
   ]
  },
  {
   "cell_type": "markdown",
   "id": "1b1252fb-2bdf-489c-bddc-a44879083e36",
   "metadata": {},
   "source": [
    "\n",
    "print(\"Percentage of patience without heart problems: \"+str(round(target_temp[0]*100/568,31)))\n",
    "\n",
    "print(\"Percentage of patience with heart problems: \"+str(round(target_temp[1]*100/568,31)))\n"
   ]
  },
  {
   "cell_type": "markdown",
   "id": "d95a7cdb-92d5-4722-b318-653fe2832e88",
   "metadata": {},
   "source": [
    "\n",
    "# 4. TRAIN-TEST SPLIT. (70% train, 30% test)\n"
   ]
  },
  {
   "cell_type": "code",
   "execution_count": 24,
   "id": "daf05454-983b-46b1-8ca5-4a0bbbfce612",
   "metadata": {},
   "outputs": [],
   "source": [
    "\n",
    "X_train, X_test, y_train, y_test = train_test_split(X, y, test_size=0.3, random_state=42)\n"
   ]
  },
  {
   "cell_type": "markdown",
   "id": "f6940270-58cf-4b9a-98cd-ab286e4433ed",
   "metadata": {},
   "source": [
    "\n",
    "# STANDARDIZE THE DATA\n"
   ]
  },
  {
   "cell_type": "code",
   "execution_count": 26,
   "id": "6f121941-7813-481c-9a08-876430bfced8",
   "metadata": {},
   "outputs": [],
   "source": [
    "\n",
    "scaler = StandardScaler()\n",
    "X_train = scaler.fit_transform(X_train)\n",
    "X_test = scaler.transform(X_test)\n"
   ]
  },
  {
   "cell_type": "code",
   "execution_count": 27,
   "id": "48500949-7e6e-420d-8704-e01c2b48ee8d",
   "metadata": {},
   "outputs": [
    {
     "data": {
      "text/plain": [
       "(398, 5)"
      ]
     },
     "execution_count": 27,
     "metadata": {},
     "output_type": "execute_result"
    }
   ],
   "source": [
    "\n",
    "X_train.shape\n"
   ]
  },
  {
   "cell_type": "code",
   "execution_count": 28,
   "id": "90074252-64bc-42ba-908b-cd88e9c7ffbd",
   "metadata": {},
   "outputs": [
    {
     "data": {
      "text/plain": [
       "(171, 5)"
      ]
     },
     "execution_count": 28,
     "metadata": {},
     "output_type": "execute_result"
    }
   ],
   "source": [
    "\n",
    "X_test.shape\n"
   ]
  },
  {
   "cell_type": "code",
   "execution_count": 29,
   "id": "5e18a74d-3cb8-4289-b347-5a22a9b7e32b",
   "metadata": {},
   "outputs": [
    {
     "data": {
      "text/plain": [
       "(398,)"
      ]
     },
     "execution_count": 29,
     "metadata": {},
     "output_type": "execute_result"
    }
   ],
   "source": [
    "\n",
    "y_train.shape\n"
   ]
  },
  {
   "cell_type": "code",
   "execution_count": 30,
   "id": "3273e6fd-922e-4a91-a5b0-39ec6bbd72d1",
   "metadata": {},
   "outputs": [
    {
     "data": {
      "text/plain": [
       "(171,)"
      ]
     },
     "execution_count": 30,
     "metadata": {},
     "output_type": "execute_result"
    }
   ],
   "source": [
    "\n",
    "y_test.shape\n"
   ]
  },
  {
   "cell_type": "markdown",
   "id": "5217f64a-4870-46fe-8b9a-780e521eb3f1",
   "metadata": {},
   "source": [
    "\n",
    "# 5. MODEL FITTING AND MODEL EVALUATION.\n",
    "\n",
    "# 5.1.LOGISTIC REGRESSION.\n"
   ]
  },
  {
   "cell_type": "code",
   "execution_count": 32,
   "id": "414cdfda-0405-4104-aff4-9bd09fe64f4e",
   "metadata": {},
   "outputs": [],
   "source": [
    "\n",
    "from sklearn.linear_model import LogisticRegression\n",
    "\n",
    "lr = LogisticRegression()\n",
    "lr.fit(X_train,y_train)\n",
    "\n",
    "Y_pred_lr = lr.predict(X_test)\n"
   ]
  },
  {
   "cell_type": "markdown",
   "id": "6d0cc677-b772-4b04-bad0-4594cfadac3d",
   "metadata": {},
   "source": [
    "\n",
    "# ACCURACY SCORE OF LOGISTIC REGRESSION.\n"
   ]
  },
  {
   "cell_type": "code",
   "execution_count": 34,
   "id": "9d372a36-bd76-4fea-86c3-72087975efbf",
   "metadata": {},
   "outputs": [
    {
     "name": "stdout",
     "output_type": "stream",
     "text": [
      "The accuracy score achieved using Logistic Regression is: 94.73684210526315\n"
     ]
    }
   ],
   "source": [
    "\n",
    "from sklearn.metrics import accuracy_score\n",
    "\n",
    "accuracy_lr= (accuracy_score(y_test,Y_pred_lr)*100)\n",
    "\n",
    "print(\"The accuracy score achieved using Logistic Regression is: \"+str(accuracy_lr))\n"
   ]
  },
  {
   "cell_type": "markdown",
   "id": "929f66df-2149-4ec6-884f-0192e70ef420",
   "metadata": {},
   "source": [
    "\n",
    "# R2 SCORE OF LOGISTIC REGRESSION.\n"
   ]
  },
  {
   "cell_type": "code",
   "execution_count": 36,
   "id": "5413dc78-23c2-40cc-ad46-b5c196520216",
   "metadata": {},
   "outputs": [
    {
     "name": "stdout",
     "output_type": "stream",
     "text": [
      "R2 score of logistic regression model is : 77.52628504672897 %\n"
     ]
    }
   ],
   "source": [
    "\n",
    "from sklearn.metrics import r2_score\n",
    "\n",
    "r2Score_lr = r2_score(Y_pred_lr,y_test)\n",
    "\n",
    "print(\"R2 score of logistic regression model is :\" ,r2Score_lr*100,\"%\")\n"
   ]
  },
  {
   "cell_type": "markdown",
   "id": "6d90df99-4beb-4231-b8ea-c929014dcfbb",
   "metadata": {},
   "source": [
    "\n",
    "# MEAN SQUARRED ERROR OF LOGISTIC REGRESSION.\n"
   ]
  },
  {
   "cell_type": "code",
   "execution_count": 38,
   "id": "55d28e8b-8503-4cb7-89df-2e520f873cda",
   "metadata": {},
   "outputs": [
    {
     "name": "stdout",
     "output_type": "stream",
     "text": [
      "Mean Squarred Error of Logistic Regression is  : 5.263157894736842\n"
     ]
    }
   ],
   "source": [
    "\n",
    "from sklearn.metrics import mean_squared_error\n",
    "\n",
    "mse_lr = mean_squared_error(Y_pred_lr,y_test)\n",
    "\n",
    "print(\"Mean Squarred Error of Logistic Regression is  :\" ,mse_lr*100)\n"
   ]
  },
  {
   "cell_type": "markdown",
   "id": "8a43a729-46f7-47a9-a111-68319e3477f1",
   "metadata": {},
   "source": [
    "\n",
    "# 5.2. RANDOM FOREST CLASSIFIER.\n"
   ]
  },
  {
   "cell_type": "code",
   "execution_count": 40,
   "id": "ce1e07cf-1210-4b72-b4e0-a779aebec373",
   "metadata": {},
   "outputs": [],
   "source": [
    "\n",
    "model = RandomForestClassifier(n_estimators=100, random_state=42)\n",
    "model.fit(X_train, y_train)\n",
    "\n",
    "Y_pred_rf = model.predict(X_test)\n"
   ]
  },
  {
   "cell_type": "markdown",
   "id": "b75ec730-adc6-467a-806d-2802d10c8aca",
   "metadata": {},
   "source": [
    "\n",
    "# ACCURACY SCORE OF RANDOM FOREST CLASSIFIER.\n"
   ]
  },
  {
   "cell_type": "code",
   "execution_count": 42,
   "id": "04701610-ec96-4ccd-987c-a9a8eefa31d0",
   "metadata": {},
   "outputs": [
    {
     "name": "stdout",
     "output_type": "stream",
     "text": [
      "The accuracy score achieved using Random Forest Classifier is: 95.90643274853801 %\n"
     ]
    }
   ],
   "source": [
    "\n",
    "accuracy_rf= (accuracy_score(y_test,Y_pred_rf)*100)\n",
    "\n",
    "print(\"The accuracy score achieved using Random Forest Classifier is: \"+str(accuracy_rf),\"%\")\n"
   ]
  },
  {
   "cell_type": "markdown",
   "id": "b02092f4-67a6-417c-b317-57c393b55675",
   "metadata": {},
   "source": [
    "\n",
    "# R2 SCORE OF RANDOM FOREST CLASSIFIER.\n"
   ]
  },
  {
   "cell_type": "code",
   "execution_count": 44,
   "id": "78700d41-86af-4451-8121-66ce618fccd8",
   "metadata": {},
   "outputs": [
    {
     "name": "stdout",
     "output_type": "stream",
     "text": [
      "R2 score of random forest classifier model is : 82.72727272727273 %\n"
     ]
    }
   ],
   "source": [
    "\n",
    "from sklearn.metrics import r2_score\n",
    "\n",
    "r2Score_rf = r2_score(Y_pred_rf,y_test)\n",
    "\n",
    "print(\"R2 score of random forest classifier model is :\" ,r2Score_rf*100,\"%\")\n"
   ]
  },
  {
   "cell_type": "markdown",
   "id": "8ac0581b-ae83-452b-a122-3dd3f9f3d7bf",
   "metadata": {},
   "source": [
    "\n",
    "# MEAN SQUARRED ERROR OF RANDOM FOREST CLASSIFIER.\n"
   ]
  },
  {
   "cell_type": "code",
   "execution_count": 46,
   "id": "03304478-2326-4b7f-80a3-0a0f8affd618",
   "metadata": {},
   "outputs": [
    {
     "name": "stdout",
     "output_type": "stream",
     "text": [
      "Mean Squarred Error of random forest classifier is  : 4.093567251461988\n"
     ]
    }
   ],
   "source": [
    "\n",
    "from sklearn.metrics import mean_squared_error\n",
    "\n",
    "mse_rf = mean_squared_error(Y_pred_rf,y_test)\n",
    "\n",
    "print(\"Mean Squarred Error of random forest classifier is  :\" ,mse_rf*100)\n"
   ]
  },
  {
   "cell_type": "markdown",
   "id": "94591e84-02fc-47ba-828b-79a3d49c01d2",
   "metadata": {},
   "source": [
    "\n",
    "# 6. FINAL OUTPUT .\n",
    "\n",
    "# 6.1 ACCURACY SCORE OF 2 ALGORITHMS.\n"
   ]
  },
  {
   "cell_type": "code",
   "execution_count": 48,
   "id": "5942dc0d-7c6a-42e5-a213-4acbad3354e1",
   "metadata": {},
   "outputs": [
    {
     "name": "stdout",
     "output_type": "stream",
     "text": [
      "The accuracy score achieved using Logistic Regression is: 94.73684210526315 %\n",
      "The accuracy score achieved using Random Forest Classifier is: 95.90643274853801 %\n"
     ]
    }
   ],
   "source": [
    "\n",
    "print(\"The accuracy score achieved using Logistic Regression is: \"+str(accuracy_lr)+\" %\")\n",
    "\n",
    "print(\"The accuracy score achieved using Random Forest Classifier is: \"+str(accuracy_rf)+\" %\")\n"
   ]
  },
  {
   "cell_type": "markdown",
   "id": "5f04ee40-2ab5-4973-ad4a-13c35c0ba45e",
   "metadata": {},
   "source": [
    "\n",
    "# 6.2 R2 SCORE OF 2 ALGORITHMS.\n"
   ]
  },
  {
   "cell_type": "code",
   "execution_count": 50,
   "id": "592159aa-b5db-45ac-9f04-4f5c06c72dfd",
   "metadata": {},
   "outputs": [
    {
     "name": "stdout",
     "output_type": "stream",
     "text": [
      "The r2 score achieved using Logistic Regression is: 77.52628504672897 %\n",
      "The r2 score achieved using Random Forest Classifier is: 82.72727272727273 %\n"
     ]
    }
   ],
   "source": [
    "\n",
    "print(\"The r2 score achieved using Logistic Regression is: \"+str(r2Score_lr*100)+\" %\")\n",
    "\n",
    "print(\"The r2 score achieved using Random Forest Classifier is: \"+str(r2Score_rf*100)+\" %\")\n"
   ]
  },
  {
   "cell_type": "markdown",
   "id": "a92e8e41-4c63-4939-93ce-270d11bde5ea",
   "metadata": {},
   "source": [
    "\n",
    "# 6.3 MEAN SQUARRED ERROR OF 2 ALGORITHMS.\n"
   ]
  },
  {
   "cell_type": "code",
   "execution_count": 52,
   "id": "877f5bab-f696-4e40-82e9-5d1067688111",
   "metadata": {},
   "outputs": [
    {
     "name": "stdout",
     "output_type": "stream",
     "text": [
      "The mean squared error achieved using Logistic Regression is: 5.263157894736842 %\n",
      "The mean squared error achieved using Random Forest Classifier is: 4.093567251461988 %\n"
     ]
    }
   ],
   "source": [
    "\n",
    "print(\"The mean squared error achieved using Logistic Regression is: \"+str(mse_lr*100)+\" %\")\n",
    "\n",
    "print(\"The mean squared error achieved using Random Forest Classifier is: \"+str(mse_rf*100)+\" %\")\n"
   ]
  },
  {
   "cell_type": "markdown",
   "id": "e725c6ac-f6f8-4f6e-9eb5-6f459b0b0f69",
   "metadata": {},
   "source": [
    "\n",
    "# 7. FUNCTION TO PREDICT CANCER \n"
   ]
  },
  {
   "cell_type": "code",
   "execution_count": 54,
   "id": "44e30091-7cf8-4b2b-bf09-a44c00ae031c",
   "metadata": {},
   "outputs": [],
   "source": [
    "\n",
    "def show_entry_fields():\n",
    "    try:\n",
    "        # Get input from the user (only the first 5 features)\n",
    "        p1 = float(e1.get())\n",
    "        p2 = float(e2.get())\n",
    "        p3 = float(e3.get())\n",
    "        p4 = float(e4.get())\n",
    "        p5 = float(e5.get())\n",
    "        \n",
    "        # Create input array and standardize it\n",
    "        user_input = np.array([[p1, p2, p3, p4, p5]])\n",
    "        user_input = scaler.transform(user_input)  # Standardize the user input\n",
    "        \n",
    "        # Predict using the trained model\n",
    "        prediction = model.predict(user_input)\n",
    "\n",
    "        # Show result\n",
    "        if prediction == 0:\n",
    "            tk.Label(root, text=\"PATIENT HAS NO CANCER (MALIGNANT)\", fg=\"green\", font=('Times New Roman Bold', 20)).grid(row=22, column=0, columnspan=2)\n",
    "        else:\n",
    "            tk.Label(root, text=\"PATIENT HAS CANCER (BENIGN)\", fg=\"red\", font=('Times New Roman Bold', 20)).grid(row=22, column=0, columnspan=2)\n",
    "\n",
    "    except ValueError:\n",
    "        messagebox.showerror(\"Input Error\", \"Please enter valid numerical values.\")\n"
   ]
  },
  {
   "cell_type": "markdown",
   "id": "3430a3e7-2aa1-48b6-957f-e34cac55af3f",
   "metadata": {},
   "source": [
    "\n",
    "# 8. GUI OF CANCER DISEASE PREDICTION SYSTEM.\n"
   ]
  },
  {
   "cell_type": "code",
   "execution_count": 56,
   "id": "e315419a-f5f0-40fd-8d78-64d381a41f6c",
   "metadata": {},
   "outputs": [],
   "source": [
    "\n",
    "# Create the main window\n",
    "root = tk.Tk()\n",
    "root.title(\"Cancer Prediction\")\n",
    "\n",
    "# Title label\n",
    "tk.Label(root, text=\"CANCER PREDICTION SYSTEM\", bg=\"white\", fg=\"green\", font=('Times New Roman Bold', 35), borderwidth=2, relief=\"solid\").grid(row=3, columnspan=2)\n",
    "\n",
    "# Set up the labels and entry fields for user input (only 5 selected features)\n",
    "tk.Label(root, text=\"Mean radius \", fg=\"blue\", font=('Times New Roman Bold', 25)).grid(row=6)\n",
    "tk.Label(root, text=\"Mean texture \", fg=\"blue\", font=('Times New Roman Bold', 25)).grid(row=8)\n",
    "tk.Label(root, text=\"Mean perimeter \", fg=\"blue\", font=('Times New Roman Bold', 25)).grid(row=10)\n",
    "tk.Label(root, text=\"Mean area \", fg=\"blue\", font=('Times New Roman Bold', 25)).grid(row=12)\n",
    "tk.Label(root, text=\"Mean smoothness\" , fg=\"blue\", font=('Times New Roman Bold', 25)).grid(row=14)\n",
    "\n",
    "# Create entry fieldsblac\n",
    "e1 = tk.Entry(root)\n",
    "e2 = tk.Entry(root)\n",
    "e3 = tk.Entry(root)\n",
    "e4 = tk.Entry(root)\n",
    "e5 = tk.Entry(root)\n",
    "\n",
    "# Grid the entry fields\n",
    "e1.grid(row=6, column=1)\n",
    "e2.grid(row=8, column=1)\n",
    "e3.grid(row=10, column=1)\n",
    "e4.grid(row=12 ,column=1)\n",
    "e5.grid(row=14, column=1)\n",
    "\n",
    "# Create a button to trigger the prediction\n",
    "tk.Button(root, text='PREDICT', font=('Times New Roman Bold', 25), command=show_entry_fields, bg=\"white\", fg=\"blue\", borderwidth=2, relief=\"solid\").grid(row=18, column=0, columnspan=2)\n",
    "\n",
    "# Run the application\n",
    "root.mainloop()\n"
   ]
  }
 ],
 "metadata": {
  "kernelspec": {
   "display_name": "Python 3 (ipykernel)",
   "language": "python",
   "name": "python3"
  },
  "language_info": {
   "codemirror_mode": {
    "name": "ipython",
    "version": 3
   },
   "file_extension": ".py",
   "mimetype": "text/x-python",
   "name": "python",
   "nbconvert_exporter": "python",
   "pygments_lexer": "ipython3",
   "version": "3.12.3"
  }
 },
 "nbformat": 4,
 "nbformat_minor": 5
}
