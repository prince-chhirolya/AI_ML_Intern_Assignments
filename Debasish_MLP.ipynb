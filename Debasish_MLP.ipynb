{
 "cells": [
  {
   "cell_type": "code",
   "execution_count": 1,
   "id": "c2c95f27-589c-4d82-bb72-42000dce7d5a",
   "metadata": {},
   "outputs": [],
   "source": [
    "# Import Libraries\n",
    "import pandas as pd\n",
    "import seaborn as sns\n",
    "import numpy as np"
   ]
  },
  {
   "cell_type": "code",
   "execution_count": 2,
   "id": "7b0303ff-00e5-4f72-9de4-5ca1935ed94b",
   "metadata": {},
   "outputs": [],
   "source": [
    "# Import College Data\n",
    "college_data = pd.read_excel('C:/Users/Hp/Downloads/colleges.xlsx', header=0)"
   ]
  },
  {
   "cell_type": "code",
   "execution_count": 3,
   "id": "04d3b60b-96cb-439c-923f-6e243553c73f",
   "metadata": {},
   "outputs": [],
   "source": [
    "# Melt the DataFrame to transform Tier columns into rows\n",
    "college_data = pd.melt(college_data, var_name='Tier', value_name='College')"
   ]
  },
  {
   "cell_type": "code",
   "execution_count": 4,
   "id": "9b03aa6d-1583-4e2c-8f33-1485fa87dbf7",
   "metadata": {},
   "outputs": [],
   "source": [
    "# Remove NaN values\n",
    "college_data = college_data.dropna()"
   ]
  },
  {
   "cell_type": "code",
   "execution_count": 5,
   "id": "dee12127-c873-413f-a173-4b8b7c297d1e",
   "metadata": {},
   "outputs": [],
   "source": [
    "# Rename the columns\n",
    "college_data = college_data.rename(columns={'College': 'College', 'Tier': 'Tier'})\n"
   ]
  },
  {
   "cell_type": "code",
   "execution_count": 6,
   "id": "db36c0b4-597c-4af1-a23e-2c33a8c49117",
   "metadata": {},
   "outputs": [],
   "source": [
    "# Remove the 'Tier ' prefix from the Tier column\n",
    "college_data['Tier'] = college_data['Tier'].str.replace('Tier ', '')\n"
   ]
  },
  {
   "cell_type": "code",
   "execution_count": 8,
   "id": "f914197b-15e7-4583-89af-a02b055c92d2",
   "metadata": {},
   "outputs": [],
   "source": [
    "# Now the data in the college dataset is reorganised with columns as College and Tier as below"
   ]
  },
  {
   "cell_type": "code",
   "execution_count": 9,
   "id": "96dea0b1-9316-4745-8d09-db157d20f2d4",
   "metadata": {},
   "outputs": [
    {
     "data": {
      "text/html": [
       "<div>\n",
       "<style scoped>\n",
       "    .dataframe tbody tr th:only-of-type {\n",
       "        vertical-align: middle;\n",
       "    }\n",
       "\n",
       "    .dataframe tbody tr th {\n",
       "        vertical-align: top;\n",
       "    }\n",
       "\n",
       "    .dataframe thead th {\n",
       "        text-align: right;\n",
       "    }\n",
       "</style>\n",
       "<table border=\"1\" class=\"dataframe\">\n",
       "  <thead>\n",
       "    <tr style=\"text-align: right;\">\n",
       "      <th></th>\n",
       "      <th>Tier</th>\n",
       "      <th>College</th>\n",
       "    </tr>\n",
       "  </thead>\n",
       "  <tbody>\n",
       "    <tr>\n",
       "      <th>0</th>\n",
       "      <td>1</td>\n",
       "      <td>IIT Bombay</td>\n",
       "    </tr>\n",
       "    <tr>\n",
       "      <th>1</th>\n",
       "      <td>1</td>\n",
       "      <td>IIT Delhi</td>\n",
       "    </tr>\n",
       "    <tr>\n",
       "      <th>2</th>\n",
       "      <td>1</td>\n",
       "      <td>IIT Kharagpur</td>\n",
       "    </tr>\n",
       "    <tr>\n",
       "      <th>3</th>\n",
       "      <td>1</td>\n",
       "      <td>IIT Madras</td>\n",
       "    </tr>\n",
       "    <tr>\n",
       "      <th>4</th>\n",
       "      <td>1</td>\n",
       "      <td>IIT Kanpur</td>\n",
       "    </tr>\n",
       "  </tbody>\n",
       "</table>\n",
       "</div>"
      ],
      "text/plain": [
       "  Tier        College\n",
       "0    1     IIT Bombay\n",
       "1    1      IIT Delhi\n",
       "2    1  IIT Kharagpur\n",
       "3    1     IIT Madras\n",
       "4    1     IIT Kanpur"
      ]
     },
     "execution_count": 9,
     "metadata": {},
     "output_type": "execute_result"
    }
   ],
   "source": [
    "college_data.head()"
   ]
  },
  {
   "cell_type": "code",
   "execution_count": 11,
   "id": "3b980faf-5bc8-492b-8ef0-837948a6b7e3",
   "metadata": {},
   "outputs": [],
   "source": [
    "# Import the ML Case Stydy Data\n",
    "ml_project = pd.read_excel('C:/Users/Hp/Downloads/ML case Study.xlsx')"
   ]
  },
  {
   "cell_type": "code",
   "execution_count": 12,
   "id": "1cc454d5-4cb5-4e14-8daf-697d773d5b49",
   "metadata": {},
   "outputs": [],
   "source": [
    "# Merge the college Data with ML Case Stydy Data on columns with respective Tier information\n",
    "ml_project = pd.merge(ml_project, college_data[['College', 'Tier']], on='College')"
   ]
  },
  {
   "cell_type": "code",
   "execution_count": 13,
   "id": "b6fcc684-e18f-4662-9b4d-6208a9e94754",
   "metadata": {},
   "outputs": [],
   "source": [
    "# Create Dummy Variables for Tier\n",
    "Tier_dummies = pd.get_dummies(ml_project['Tier'], prefix='Tier')"
   ]
  },
  {
   "cell_type": "code",
   "execution_count": 14,
   "id": "89c5b2b7-d07c-4949-82ff-7c5246c5ed06",
   "metadata": {},
   "outputs": [],
   "source": [
    "# Convert the dummy variables to 0 and 1 format\n",
    "Tier_dummies = Tier_dummies.astype(int)"
   ]
  },
  {
   "cell_type": "code",
   "execution_count": 15,
   "id": "f9be4a61-5108-49bc-aa49-10e305af3df0",
   "metadata": {},
   "outputs": [],
   "source": [
    "# Now concat the Tier_dummies Data with ml_project\n",
    "ml_project = pd.concat([ml_project, Tier_dummies], axis=1)"
   ]
  },
  {
   "cell_type": "code",
   "execution_count": 16,
   "id": "d514f00d-edaa-464c-974d-285fbe39f23e",
   "metadata": {},
   "outputs": [],
   "source": [
    "# Now Drop the irrelevent columns \n",
    "ml_project = ml_project.drop(['College', 'Tier_3', 'Tier'], axis=1)"
   ]
  },
  {
   "cell_type": "code",
   "execution_count": 17,
   "id": "d9c9054f-cae0-455b-a8fa-969d0792cfb2",
   "metadata": {},
   "outputs": [
    {
     "data": {
      "text/html": [
       "<div>\n",
       "<style scoped>\n",
       "    .dataframe tbody tr th:only-of-type {\n",
       "        vertical-align: middle;\n",
       "    }\n",
       "\n",
       "    .dataframe tbody tr th {\n",
       "        vertical-align: top;\n",
       "    }\n",
       "\n",
       "    .dataframe thead th {\n",
       "        text-align: right;\n",
       "    }\n",
       "</style>\n",
       "<table border=\"1\" class=\"dataframe\">\n",
       "  <thead>\n",
       "    <tr style=\"text-align: right;\">\n",
       "      <th></th>\n",
       "      <th>City</th>\n",
       "      <th>Role</th>\n",
       "      <th>Previous CTC</th>\n",
       "      <th>Previous job change</th>\n",
       "      <th>Graduation Marks</th>\n",
       "      <th>EXP (Month)</th>\n",
       "      <th>CTC</th>\n",
       "      <th>Tier_1</th>\n",
       "      <th>Tier_2</th>\n",
       "    </tr>\n",
       "  </thead>\n",
       "  <tbody>\n",
       "    <tr>\n",
       "      <th>0</th>\n",
       "      <td>Asansol</td>\n",
       "      <td>Manager</td>\n",
       "      <td>55523</td>\n",
       "      <td>3</td>\n",
       "      <td>66</td>\n",
       "      <td>19</td>\n",
       "      <td>71406.58</td>\n",
       "      <td>0</td>\n",
       "      <td>1</td>\n",
       "    </tr>\n",
       "    <tr>\n",
       "      <th>1</th>\n",
       "      <td>Kolhapur</td>\n",
       "      <td>Manager</td>\n",
       "      <td>57563</td>\n",
       "      <td>1</td>\n",
       "      <td>64</td>\n",
       "      <td>48</td>\n",
       "      <td>86487.58</td>\n",
       "      <td>0</td>\n",
       "      <td>1</td>\n",
       "    </tr>\n",
       "    <tr>\n",
       "      <th>2</th>\n",
       "      <td>Ahmedabad</td>\n",
       "      <td>Executive</td>\n",
       "      <td>51022</td>\n",
       "      <td>2</td>\n",
       "      <td>55</td>\n",
       "      <td>26</td>\n",
       "      <td>67820.31</td>\n",
       "      <td>0</td>\n",
       "      <td>1</td>\n",
       "    </tr>\n",
       "    <tr>\n",
       "      <th>3</th>\n",
       "      <td>Rourkela</td>\n",
       "      <td>Manager</td>\n",
       "      <td>56204</td>\n",
       "      <td>2</td>\n",
       "      <td>65</td>\n",
       "      <td>19</td>\n",
       "      <td>82667.77</td>\n",
       "      <td>0</td>\n",
       "      <td>1</td>\n",
       "    </tr>\n",
       "    <tr>\n",
       "      <th>4</th>\n",
       "      <td>Bangalore</td>\n",
       "      <td>Executive</td>\n",
       "      <td>54690</td>\n",
       "      <td>3</td>\n",
       "      <td>71</td>\n",
       "      <td>53</td>\n",
       "      <td>65923.72</td>\n",
       "      <td>0</td>\n",
       "      <td>1</td>\n",
       "    </tr>\n",
       "  </tbody>\n",
       "</table>\n",
       "</div>"
      ],
      "text/plain": [
       "        City       Role  Previous CTC  Previous job change  Graduation Marks  \\\n",
       "0    Asansol    Manager         55523                    3                66   \n",
       "1   Kolhapur    Manager         57563                    1                64   \n",
       "2  Ahmedabad  Executive         51022                    2                55   \n",
       "3   Rourkela    Manager         56204                    2                65   \n",
       "4  Bangalore  Executive         54690                    3                71   \n",
       "\n",
       "   EXP (Month)       CTC  Tier_1  Tier_2  \n",
       "0           19  71406.58       0       1  \n",
       "1           48  86487.58       0       1  \n",
       "2           26  67820.31       0       1  \n",
       "3           19  82667.77       0       1  \n",
       "4           53  65923.72       0       1  "
      ]
     },
     "execution_count": 17,
     "metadata": {},
     "output_type": "execute_result"
    }
   ],
   "source": [
    "# check the data\n",
    "ml_project.head()"
   ]
  },
  {
   "cell_type": "code",
   "execution_count": 18,
   "id": "b171ff22-2e0b-4e78-b9d5-8053e193316e",
   "metadata": {},
   "outputs": [],
   "source": [
    "# same for the cities Data set as College\n",
    "# Load the cities dataset\n",
    "cities_data = pd.read_excel('C:/Users/Hp/Downloads/cities.xlsx')"
   ]
  },
  {
   "cell_type": "code",
   "execution_count": 19,
   "id": "50c816ea-9cab-486a-a8e9-61b8b7946ed2",
   "metadata": {},
   "outputs": [],
   "source": [
    "# Melt the DataFrame to transform Metro/Non-Metro columns into rows\n",
    "cities_data = pd.melt(cities_data, var_name='City_Type', value_name='City')"
   ]
  },
  {
   "cell_type": "code",
   "execution_count": 20,
   "id": "4601d3d4-5fe1-444b-abd6-ad1286dbe380",
   "metadata": {},
   "outputs": [],
   "source": [
    "# Remove NaN values\n",
    "cities_data = cities_data.dropna()\n"
   ]
  },
  {
   "cell_type": "code",
   "execution_count": 21,
   "id": "19dd1b34-2a03-4560-9622-459583d595b4",
   "metadata": {},
   "outputs": [
    {
     "data": {
      "text/html": [
       "<div>\n",
       "<style scoped>\n",
       "    .dataframe tbody tr th:only-of-type {\n",
       "        vertical-align: middle;\n",
       "    }\n",
       "\n",
       "    .dataframe tbody tr th {\n",
       "        vertical-align: top;\n",
       "    }\n",
       "\n",
       "    .dataframe thead th {\n",
       "        text-align: right;\n",
       "    }\n",
       "</style>\n",
       "<table border=\"1\" class=\"dataframe\">\n",
       "  <thead>\n",
       "    <tr style=\"text-align: right;\">\n",
       "      <th></th>\n",
       "      <th>City_Type</th>\n",
       "      <th>City</th>\n",
       "    </tr>\n",
       "  </thead>\n",
       "  <tbody>\n",
       "    <tr>\n",
       "      <th>0</th>\n",
       "      <td>Metrio City</td>\n",
       "      <td>Mumbai</td>\n",
       "    </tr>\n",
       "    <tr>\n",
       "      <th>1</th>\n",
       "      <td>Metrio City</td>\n",
       "      <td>Delhi</td>\n",
       "    </tr>\n",
       "    <tr>\n",
       "      <th>2</th>\n",
       "      <td>Metrio City</td>\n",
       "      <td>Kolkata</td>\n",
       "    </tr>\n",
       "    <tr>\n",
       "      <th>3</th>\n",
       "      <td>Metrio City</td>\n",
       "      <td>Chennai</td>\n",
       "    </tr>\n",
       "    <tr>\n",
       "      <th>4</th>\n",
       "      <td>Metrio City</td>\n",
       "      <td>Bangalore</td>\n",
       "    </tr>\n",
       "  </tbody>\n",
       "</table>\n",
       "</div>"
      ],
      "text/plain": [
       "     City_Type       City\n",
       "0  Metrio City     Mumbai\n",
       "1  Metrio City      Delhi\n",
       "2  Metrio City    Kolkata\n",
       "3  Metrio City    Chennai\n",
       "4  Metrio City  Bangalore"
      ]
     },
     "execution_count": 21,
     "metadata": {},
     "output_type": "execute_result"
    }
   ],
   "source": [
    "# check the data\n",
    "cities_data.head()"
   ]
  },
  {
   "cell_type": "code",
   "execution_count": 22,
   "id": "c5a42ca4-48c9-4d89-9be8-2fee2f0bf2f7",
   "metadata": {},
   "outputs": [],
   "source": [
    "# Merge with ML Project\n",
    "ml_project = pd.merge(ml_project, cities_data[['City', 'City_Type']], left_on='City', right_on='City')"
   ]
  },
  {
   "cell_type": "code",
   "execution_count": 23,
   "id": "e3c7cc8f-26e8-46cc-bb12-41de27235b68",
   "metadata": {},
   "outputs": [],
   "source": [
    "# Drop the city column as it is replaced by City_type\n",
    "ml_project = ml_project.drop(['City'], axis=1)"
   ]
  },
  {
   "cell_type": "code",
   "execution_count": 24,
   "id": "c76b6d20-b5a0-45a8-bdd5-8804de247b96",
   "metadata": {},
   "outputs": [],
   "source": [
    "# Replace the Metro city with 1 and non-metro with 0\n",
    "ml_project['City_Type'] = ml_project['City_Type'].replace(['Metrio City', 'non-metro cities'], [1, 0])"
   ]
  },
  {
   "cell_type": "code",
   "execution_count": 25,
   "id": "7d1af36e-9442-41b7-b39a-e9be6dd9ae11",
   "metadata": {},
   "outputs": [
    {
     "data": {
      "text/html": [
       "<div>\n",
       "<style scoped>\n",
       "    .dataframe tbody tr th:only-of-type {\n",
       "        vertical-align: middle;\n",
       "    }\n",
       "\n",
       "    .dataframe tbody tr th {\n",
       "        vertical-align: top;\n",
       "    }\n",
       "\n",
       "    .dataframe thead th {\n",
       "        text-align: right;\n",
       "    }\n",
       "</style>\n",
       "<table border=\"1\" class=\"dataframe\">\n",
       "  <thead>\n",
       "    <tr style=\"text-align: right;\">\n",
       "      <th></th>\n",
       "      <th>Role</th>\n",
       "      <th>Previous CTC</th>\n",
       "      <th>Previous job change</th>\n",
       "      <th>Graduation Marks</th>\n",
       "      <th>EXP (Month)</th>\n",
       "      <th>CTC</th>\n",
       "      <th>Tier_1</th>\n",
       "      <th>Tier_2</th>\n",
       "      <th>City_Type</th>\n",
       "    </tr>\n",
       "  </thead>\n",
       "  <tbody>\n",
       "    <tr>\n",
       "      <th>0</th>\n",
       "      <td>Manager</td>\n",
       "      <td>55523</td>\n",
       "      <td>3</td>\n",
       "      <td>66</td>\n",
       "      <td>19</td>\n",
       "      <td>71406.58</td>\n",
       "      <td>0</td>\n",
       "      <td>1</td>\n",
       "      <td>0</td>\n",
       "    </tr>\n",
       "    <tr>\n",
       "      <th>1</th>\n",
       "      <td>Executive</td>\n",
       "      <td>52670</td>\n",
       "      <td>3</td>\n",
       "      <td>76</td>\n",
       "      <td>18</td>\n",
       "      <td>65619.70</td>\n",
       "      <td>0</td>\n",
       "      <td>1</td>\n",
       "      <td>0</td>\n",
       "    </tr>\n",
       "    <tr>\n",
       "      <th>2</th>\n",
       "      <td>Executive</td>\n",
       "      <td>49292</td>\n",
       "      <td>4</td>\n",
       "      <td>49</td>\n",
       "      <td>19</td>\n",
       "      <td>70729.63</td>\n",
       "      <td>0</td>\n",
       "      <td>0</td>\n",
       "      <td>0</td>\n",
       "    </tr>\n",
       "    <tr>\n",
       "      <th>3</th>\n",
       "      <td>Executive</td>\n",
       "      <td>44848</td>\n",
       "      <td>3</td>\n",
       "      <td>41</td>\n",
       "      <td>25</td>\n",
       "      <td>65897.67</td>\n",
       "      <td>0</td>\n",
       "      <td>0</td>\n",
       "      <td>0</td>\n",
       "    </tr>\n",
       "    <tr>\n",
       "      <th>4</th>\n",
       "      <td>Executive</td>\n",
       "      <td>58635</td>\n",
       "      <td>2</td>\n",
       "      <td>76</td>\n",
       "      <td>41</td>\n",
       "      <td>64401.61</td>\n",
       "      <td>0</td>\n",
       "      <td>0</td>\n",
       "      <td>0</td>\n",
       "    </tr>\n",
       "  </tbody>\n",
       "</table>\n",
       "</div>"
      ],
      "text/plain": [
       "        Role  Previous CTC  Previous job change  Graduation Marks  \\\n",
       "0    Manager         55523                    3                66   \n",
       "1  Executive         52670                    3                76   \n",
       "2  Executive         49292                    4                49   \n",
       "3  Executive         44848                    3                41   \n",
       "4  Executive         58635                    2                76   \n",
       "\n",
       "   EXP (Month)       CTC  Tier_1  Tier_2  City_Type  \n",
       "0           19  71406.58       0       1          0  \n",
       "1           18  65619.70       0       1          0  \n",
       "2           19  70729.63       0       0          0  \n",
       "3           25  65897.67       0       0          0  \n",
       "4           41  64401.61       0       0          0  "
      ]
     },
     "execution_count": 25,
     "metadata": {},
     "output_type": "execute_result"
    }
   ],
   "source": [
    "# check the ML_project data\n",
    "ml_project.head()"
   ]
  },
  {
   "cell_type": "code",
   "execution_count": 26,
   "id": "edc0fc8d-c1c2-473d-a5fa-f375c80e76f5",
   "metadata": {},
   "outputs": [],
   "source": [
    "# Now create Dummies to get rid of the categorical values in Role\n",
    "ml_project = pd.get_dummies(ml_project)"
   ]
  },
  {
   "cell_type": "code",
   "execution_count": 27,
   "id": "aa1a6ed0-df62-461f-a613-0b9bae3d5c87",
   "metadata": {},
   "outputs": [],
   "source": [
    "# Now drop the Role_Manager column as only n-1 columns required while creating dummies\n",
    "ml_project = ml_project.drop(['Role_Manager'], axis=1)"
   ]
  },
  {
   "cell_type": "code",
   "execution_count": 28,
   "id": "6cb5f888-02a7-425b-94f8-bc2ce5d7fd87",
   "metadata": {},
   "outputs": [],
   "source": [
    "# Rename the City_Type column to Metro_city\n",
    "ml_project = ml_project.rename(columns={'City_Type': 'Metro_city'})"
   ]
  },
  {
   "cell_type": "code",
   "execution_count": 29,
   "id": "bf17aa5c-39b8-4cc6-a2c5-ade105c9087f",
   "metadata": {},
   "outputs": [],
   "source": [
    "# change the boolean values of Role_Executive to 0 and 1 format\n",
    "ml_project['Role_Executive'] = ml_project['Role_Executive'].astype(int)"
   ]
  },
  {
   "cell_type": "code",
   "execution_count": 30,
   "id": "86c3ffac-4e13-40a7-910d-ca8837101cc2",
   "metadata": {},
   "outputs": [
    {
     "data": {
      "text/html": [
       "<div>\n",
       "<style scoped>\n",
       "    .dataframe tbody tr th:only-of-type {\n",
       "        vertical-align: middle;\n",
       "    }\n",
       "\n",
       "    .dataframe tbody tr th {\n",
       "        vertical-align: top;\n",
       "    }\n",
       "\n",
       "    .dataframe thead th {\n",
       "        text-align: right;\n",
       "    }\n",
       "</style>\n",
       "<table border=\"1\" class=\"dataframe\">\n",
       "  <thead>\n",
       "    <tr style=\"text-align: right;\">\n",
       "      <th></th>\n",
       "      <th>Previous CTC</th>\n",
       "      <th>Previous job change</th>\n",
       "      <th>Graduation Marks</th>\n",
       "      <th>EXP (Month)</th>\n",
       "      <th>CTC</th>\n",
       "      <th>Tier_1</th>\n",
       "      <th>Tier_2</th>\n",
       "      <th>Metro_city</th>\n",
       "      <th>Role_Executive</th>\n",
       "    </tr>\n",
       "  </thead>\n",
       "  <tbody>\n",
       "    <tr>\n",
       "      <th>0</th>\n",
       "      <td>55523</td>\n",
       "      <td>3</td>\n",
       "      <td>66</td>\n",
       "      <td>19</td>\n",
       "      <td>71406.58</td>\n",
       "      <td>0</td>\n",
       "      <td>1</td>\n",
       "      <td>0</td>\n",
       "      <td>0</td>\n",
       "    </tr>\n",
       "    <tr>\n",
       "      <th>1</th>\n",
       "      <td>52670</td>\n",
       "      <td>3</td>\n",
       "      <td>76</td>\n",
       "      <td>18</td>\n",
       "      <td>65619.70</td>\n",
       "      <td>0</td>\n",
       "      <td>1</td>\n",
       "      <td>0</td>\n",
       "      <td>1</td>\n",
       "    </tr>\n",
       "    <tr>\n",
       "      <th>2</th>\n",
       "      <td>49292</td>\n",
       "      <td>4</td>\n",
       "      <td>49</td>\n",
       "      <td>19</td>\n",
       "      <td>70729.63</td>\n",
       "      <td>0</td>\n",
       "      <td>0</td>\n",
       "      <td>0</td>\n",
       "      <td>1</td>\n",
       "    </tr>\n",
       "    <tr>\n",
       "      <th>3</th>\n",
       "      <td>44848</td>\n",
       "      <td>3</td>\n",
       "      <td>41</td>\n",
       "      <td>25</td>\n",
       "      <td>65897.67</td>\n",
       "      <td>0</td>\n",
       "      <td>0</td>\n",
       "      <td>0</td>\n",
       "      <td>1</td>\n",
       "    </tr>\n",
       "    <tr>\n",
       "      <th>4</th>\n",
       "      <td>58635</td>\n",
       "      <td>2</td>\n",
       "      <td>76</td>\n",
       "      <td>41</td>\n",
       "      <td>64401.61</td>\n",
       "      <td>0</td>\n",
       "      <td>0</td>\n",
       "      <td>0</td>\n",
       "      <td>1</td>\n",
       "    </tr>\n",
       "  </tbody>\n",
       "</table>\n",
       "</div>"
      ],
      "text/plain": [
       "   Previous CTC  Previous job change  Graduation Marks  EXP (Month)       CTC  \\\n",
       "0         55523                    3                66           19  71406.58   \n",
       "1         52670                    3                76           18  65619.70   \n",
       "2         49292                    4                49           19  70729.63   \n",
       "3         44848                    3                41           25  65897.67   \n",
       "4         58635                    2                76           41  64401.61   \n",
       "\n",
       "   Tier_1  Tier_2  Metro_city  Role_Executive  \n",
       "0       0       1           0               0  \n",
       "1       0       1           0               1  \n",
       "2       0       0           0               1  \n",
       "3       0       0           0               1  \n",
       "4       0       0           0               1  "
      ]
     },
     "execution_count": 30,
     "metadata": {},
     "output_type": "execute_result"
    }
   ],
   "source": [
    "# Now check the data in ml project deprived of categorical values\n",
    "ml_project.head()"
   ]
  },
  {
   "cell_type": "code",
   "execution_count": 31,
   "id": "7442fe2d-874d-4ebc-a722-6e1eca37c4ab",
   "metadata": {},
   "outputs": [
    {
     "name": "stdout",
     "output_type": "stream",
     "text": [
      "<class 'pandas.core.frame.DataFrame'>\n",
      "RangeIndex: 1589 entries, 0 to 1588\n",
      "Data columns (total 9 columns):\n",
      " #   Column               Non-Null Count  Dtype  \n",
      "---  ------               --------------  -----  \n",
      " 0   Previous CTC         1589 non-null   int64  \n",
      " 1   Previous job change  1589 non-null   int64  \n",
      " 2   Graduation Marks     1589 non-null   int64  \n",
      " 3   EXP (Month)          1589 non-null   int64  \n",
      " 4   CTC                  1589 non-null   float64\n",
      " 5   Tier_1               1589 non-null   int32  \n",
      " 6   Tier_2               1589 non-null   int32  \n",
      " 7   Metro_city           1589 non-null   int64  \n",
      " 8   Role_Executive       1589 non-null   int32  \n",
      "dtypes: float64(1), int32(3), int64(5)\n",
      "memory usage: 93.2 KB\n"
     ]
    }
   ],
   "source": [
    "ml_project.info()"
   ]
  },
  {
   "cell_type": "code",
   "execution_count": 32,
   "id": "aa9388e8-b5d6-416c-a230-b532a9ae9043",
   "metadata": {},
   "outputs": [],
   "source": [
    "# As all rows of the columns contain Data , No need for imputation"
   ]
  },
  {
   "cell_type": "code",
   "execution_count": 33,
   "id": "473011c7-5fab-48f1-810d-335ad6f4d321",
   "metadata": {},
   "outputs": [],
   "source": [
    "# Now We will do Regression Technique. \n",
    "# 1 . MLR by using sklearn Library"
   ]
  },
  {
   "cell_type": "code",
   "execution_count": 34,
   "id": "70195224-512d-4738-b0d8-e66212f2d6cb",
   "metadata": {},
   "outputs": [],
   "source": [
    "x_multi = ml_project.drop(\"CTC\",axis = 1)"
   ]
  },
  {
   "cell_type": "code",
   "execution_count": 35,
   "id": "f9c7e024-5d49-4407-a559-a4e9dde57e72",
   "metadata": {},
   "outputs": [],
   "source": [
    "Y_multi = ml_project['CTC']"
   ]
  },
  {
   "cell_type": "code",
   "execution_count": 36,
   "id": "ced08f80-1d3e-4d08-a63f-6883a5eadca3",
   "metadata": {},
   "outputs": [],
   "source": [
    "from sklearn.linear_model import LinearRegression\n",
    "lm1 = LinearRegression()"
   ]
  },
  {
   "cell_type": "code",
   "execution_count": 37,
   "id": "7beee83b-a57c-4ff2-86fa-7ee4b011c9af",
   "metadata": {},
   "outputs": [
    {
     "data": {
      "text/html": [
       "<style>#sk-container-id-1 {color: black;background-color: white;}#sk-container-id-1 pre{padding: 0;}#sk-container-id-1 div.sk-toggleable {background-color: white;}#sk-container-id-1 label.sk-toggleable__label {cursor: pointer;display: block;width: 100%;margin-bottom: 0;padding: 0.3em;box-sizing: border-box;text-align: center;}#sk-container-id-1 label.sk-toggleable__label-arrow:before {content: \"▸\";float: left;margin-right: 0.25em;color: #696969;}#sk-container-id-1 label.sk-toggleable__label-arrow:hover:before {color: black;}#sk-container-id-1 div.sk-estimator:hover label.sk-toggleable__label-arrow:before {color: black;}#sk-container-id-1 div.sk-toggleable__content {max-height: 0;max-width: 0;overflow: hidden;text-align: left;background-color: #f0f8ff;}#sk-container-id-1 div.sk-toggleable__content pre {margin: 0.2em;color: black;border-radius: 0.25em;background-color: #f0f8ff;}#sk-container-id-1 input.sk-toggleable__control:checked~div.sk-toggleable__content {max-height: 200px;max-width: 100%;overflow: auto;}#sk-container-id-1 input.sk-toggleable__control:checked~label.sk-toggleable__label-arrow:before {content: \"▾\";}#sk-container-id-1 div.sk-estimator input.sk-toggleable__control:checked~label.sk-toggleable__label {background-color: #d4ebff;}#sk-container-id-1 div.sk-label input.sk-toggleable__control:checked~label.sk-toggleable__label {background-color: #d4ebff;}#sk-container-id-1 input.sk-hidden--visually {border: 0;clip: rect(1px 1px 1px 1px);clip: rect(1px, 1px, 1px, 1px);height: 1px;margin: -1px;overflow: hidden;padding: 0;position: absolute;width: 1px;}#sk-container-id-1 div.sk-estimator {font-family: monospace;background-color: #f0f8ff;border: 1px dotted black;border-radius: 0.25em;box-sizing: border-box;margin-bottom: 0.5em;}#sk-container-id-1 div.sk-estimator:hover {background-color: #d4ebff;}#sk-container-id-1 div.sk-parallel-item::after {content: \"\";width: 100%;border-bottom: 1px solid gray;flex-grow: 1;}#sk-container-id-1 div.sk-label:hover label.sk-toggleable__label {background-color: #d4ebff;}#sk-container-id-1 div.sk-serial::before {content: \"\";position: absolute;border-left: 1px solid gray;box-sizing: border-box;top: 0;bottom: 0;left: 50%;z-index: 0;}#sk-container-id-1 div.sk-serial {display: flex;flex-direction: column;align-items: center;background-color: white;padding-right: 0.2em;padding-left: 0.2em;position: relative;}#sk-container-id-1 div.sk-item {position: relative;z-index: 1;}#sk-container-id-1 div.sk-parallel {display: flex;align-items: stretch;justify-content: center;background-color: white;position: relative;}#sk-container-id-1 div.sk-item::before, #sk-container-id-1 div.sk-parallel-item::before {content: \"\";position: absolute;border-left: 1px solid gray;box-sizing: border-box;top: 0;bottom: 0;left: 50%;z-index: -1;}#sk-container-id-1 div.sk-parallel-item {display: flex;flex-direction: column;z-index: 1;position: relative;background-color: white;}#sk-container-id-1 div.sk-parallel-item:first-child::after {align-self: flex-end;width: 50%;}#sk-container-id-1 div.sk-parallel-item:last-child::after {align-self: flex-start;width: 50%;}#sk-container-id-1 div.sk-parallel-item:only-child::after {width: 0;}#sk-container-id-1 div.sk-dashed-wrapped {border: 1px dashed gray;margin: 0 0.4em 0.5em 0.4em;box-sizing: border-box;padding-bottom: 0.4em;background-color: white;}#sk-container-id-1 div.sk-label label {font-family: monospace;font-weight: bold;display: inline-block;line-height: 1.2em;}#sk-container-id-1 div.sk-label-container {text-align: center;}#sk-container-id-1 div.sk-container {/* jupyter's `normalize.less` sets `[hidden] { display: none; }` but bootstrap.min.css set `[hidden] { display: none !important; }` so we also need the `!important` here to be able to override the default hidden behavior on the sphinx rendered scikit-learn.org. See: https://github.com/scikit-learn/scikit-learn/issues/21755 */display: inline-block !important;position: relative;}#sk-container-id-1 div.sk-text-repr-fallback {display: none;}</style><div id=\"sk-container-id-1\" class=\"sk-top-container\"><div class=\"sk-text-repr-fallback\"><pre>LinearRegression()</pre><b>In a Jupyter environment, please rerun this cell to show the HTML representation or trust the notebook. <br />On GitHub, the HTML representation is unable to render, please try loading this page with nbviewer.org.</b></div><div class=\"sk-container\" hidden><div class=\"sk-item\"><div class=\"sk-estimator sk-toggleable\"><input class=\"sk-toggleable__control sk-hidden--visually\" id=\"sk-estimator-id-1\" type=\"checkbox\" checked><label for=\"sk-estimator-id-1\" class=\"sk-toggleable__label sk-toggleable__label-arrow\">LinearRegression</label><div class=\"sk-toggleable__content\"><pre>LinearRegression()</pre></div></div></div></div></div>"
      ],
      "text/plain": [
       "LinearRegression()"
      ]
     },
     "execution_count": 37,
     "metadata": {},
     "output_type": "execute_result"
    }
   ],
   "source": [
    "lm1.fit(x_multi,Y_multi)"
   ]
  },
  {
   "cell_type": "code",
   "execution_count": 38,
   "id": "dc255447-5403-4dd8-87f1-2a6f104a35a9",
   "metadata": {},
   "outputs": [],
   "source": [
    "# test Train split\n",
    "from sklearn.model_selection import train_test_split\n",
    "X_train,X_test,Y_train,Y_test = train_test_split(x_multi,Y_multi,test_size = 0.2,random_state = 0) "
   ]
  },
  {
   "cell_type": "code",
   "execution_count": 39,
   "id": "6c37a15b-5907-4478-a8f7-2eb730bf9190",
   "metadata": {},
   "outputs": [
    {
     "name": "stdout",
     "output_type": "stream",
     "text": [
      "(1271, 8) (318, 8) (1271,) (318,)\n"
     ]
    }
   ],
   "source": [
    "print(X_train.shape,X_test.shape,Y_train.shape,Y_test.shape)"
   ]
  },
  {
   "cell_type": "code",
   "execution_count": 40,
   "id": "507cf3bb-2d38-449d-b37b-71d1185b2f02",
   "metadata": {},
   "outputs": [],
   "source": [
    "lm_a = LinearRegression()"
   ]
  },
  {
   "cell_type": "code",
   "execution_count": 41,
   "id": "3d4c23d8-0805-4f86-aaa8-062661d6aa6c",
   "metadata": {},
   "outputs": [
    {
     "data": {
      "text/html": [
       "<style>#sk-container-id-2 {color: black;background-color: white;}#sk-container-id-2 pre{padding: 0;}#sk-container-id-2 div.sk-toggleable {background-color: white;}#sk-container-id-2 label.sk-toggleable__label {cursor: pointer;display: block;width: 100%;margin-bottom: 0;padding: 0.3em;box-sizing: border-box;text-align: center;}#sk-container-id-2 label.sk-toggleable__label-arrow:before {content: \"▸\";float: left;margin-right: 0.25em;color: #696969;}#sk-container-id-2 label.sk-toggleable__label-arrow:hover:before {color: black;}#sk-container-id-2 div.sk-estimator:hover label.sk-toggleable__label-arrow:before {color: black;}#sk-container-id-2 div.sk-toggleable__content {max-height: 0;max-width: 0;overflow: hidden;text-align: left;background-color: #f0f8ff;}#sk-container-id-2 div.sk-toggleable__content pre {margin: 0.2em;color: black;border-radius: 0.25em;background-color: #f0f8ff;}#sk-container-id-2 input.sk-toggleable__control:checked~div.sk-toggleable__content {max-height: 200px;max-width: 100%;overflow: auto;}#sk-container-id-2 input.sk-toggleable__control:checked~label.sk-toggleable__label-arrow:before {content: \"▾\";}#sk-container-id-2 div.sk-estimator input.sk-toggleable__control:checked~label.sk-toggleable__label {background-color: #d4ebff;}#sk-container-id-2 div.sk-label input.sk-toggleable__control:checked~label.sk-toggleable__label {background-color: #d4ebff;}#sk-container-id-2 input.sk-hidden--visually {border: 0;clip: rect(1px 1px 1px 1px);clip: rect(1px, 1px, 1px, 1px);height: 1px;margin: -1px;overflow: hidden;padding: 0;position: absolute;width: 1px;}#sk-container-id-2 div.sk-estimator {font-family: monospace;background-color: #f0f8ff;border: 1px dotted black;border-radius: 0.25em;box-sizing: border-box;margin-bottom: 0.5em;}#sk-container-id-2 div.sk-estimator:hover {background-color: #d4ebff;}#sk-container-id-2 div.sk-parallel-item::after {content: \"\";width: 100%;border-bottom: 1px solid gray;flex-grow: 1;}#sk-container-id-2 div.sk-label:hover label.sk-toggleable__label {background-color: #d4ebff;}#sk-container-id-2 div.sk-serial::before {content: \"\";position: absolute;border-left: 1px solid gray;box-sizing: border-box;top: 0;bottom: 0;left: 50%;z-index: 0;}#sk-container-id-2 div.sk-serial {display: flex;flex-direction: column;align-items: center;background-color: white;padding-right: 0.2em;padding-left: 0.2em;position: relative;}#sk-container-id-2 div.sk-item {position: relative;z-index: 1;}#sk-container-id-2 div.sk-parallel {display: flex;align-items: stretch;justify-content: center;background-color: white;position: relative;}#sk-container-id-2 div.sk-item::before, #sk-container-id-2 div.sk-parallel-item::before {content: \"\";position: absolute;border-left: 1px solid gray;box-sizing: border-box;top: 0;bottom: 0;left: 50%;z-index: -1;}#sk-container-id-2 div.sk-parallel-item {display: flex;flex-direction: column;z-index: 1;position: relative;background-color: white;}#sk-container-id-2 div.sk-parallel-item:first-child::after {align-self: flex-end;width: 50%;}#sk-container-id-2 div.sk-parallel-item:last-child::after {align-self: flex-start;width: 50%;}#sk-container-id-2 div.sk-parallel-item:only-child::after {width: 0;}#sk-container-id-2 div.sk-dashed-wrapped {border: 1px dashed gray;margin: 0 0.4em 0.5em 0.4em;box-sizing: border-box;padding-bottom: 0.4em;background-color: white;}#sk-container-id-2 div.sk-label label {font-family: monospace;font-weight: bold;display: inline-block;line-height: 1.2em;}#sk-container-id-2 div.sk-label-container {text-align: center;}#sk-container-id-2 div.sk-container {/* jupyter's `normalize.less` sets `[hidden] { display: none; }` but bootstrap.min.css set `[hidden] { display: none !important; }` so we also need the `!important` here to be able to override the default hidden behavior on the sphinx rendered scikit-learn.org. See: https://github.com/scikit-learn/scikit-learn/issues/21755 */display: inline-block !important;position: relative;}#sk-container-id-2 div.sk-text-repr-fallback {display: none;}</style><div id=\"sk-container-id-2\" class=\"sk-top-container\"><div class=\"sk-text-repr-fallback\"><pre>LinearRegression()</pre><b>In a Jupyter environment, please rerun this cell to show the HTML representation or trust the notebook. <br />On GitHub, the HTML representation is unable to render, please try loading this page with nbviewer.org.</b></div><div class=\"sk-container\" hidden><div class=\"sk-item\"><div class=\"sk-estimator sk-toggleable\"><input class=\"sk-toggleable__control sk-hidden--visually\" id=\"sk-estimator-id-2\" type=\"checkbox\" checked><label for=\"sk-estimator-id-2\" class=\"sk-toggleable__label sk-toggleable__label-arrow\">LinearRegression</label><div class=\"sk-toggleable__content\"><pre>LinearRegression()</pre></div></div></div></div></div>"
      ],
      "text/plain": [
       "LinearRegression()"
      ]
     },
     "execution_count": 41,
     "metadata": {},
     "output_type": "execute_result"
    }
   ],
   "source": [
    "lm_a.fit(X_train,Y_train)"
   ]
  },
  {
   "cell_type": "code",
   "execution_count": 42,
   "id": "b1eb0b84-f66a-455f-bc95-0799f98b5332",
   "metadata": {},
   "outputs": [],
   "source": [
    "Y_test_a =lm_a.predict(X_test)"
   ]
  },
  {
   "cell_type": "code",
   "execution_count": 43,
   "id": "e35b1013-1a60-461a-877d-3d70c7d2053a",
   "metadata": {},
   "outputs": [],
   "source": [
    "Y_train_a = lm_a.predict(X_train)"
   ]
  },
  {
   "cell_type": "code",
   "execution_count": 44,
   "id": "3899d380-c25a-42a8-81d5-a20e002497a4",
   "metadata": {},
   "outputs": [],
   "source": [
    "# check r2 score "
   ]
  },
  {
   "cell_type": "code",
   "execution_count": 45,
   "id": "b43a849e-d347-499c-bf1a-b78a19d59cff",
   "metadata": {},
   "outputs": [],
   "source": [
    "from sklearn.metrics import r2_score"
   ]
  },
  {
   "cell_type": "code",
   "execution_count": 46,
   "id": "88280e84-2123-4106-8047-4174ec6b96c0",
   "metadata": {},
   "outputs": [
    {
     "data": {
      "text/plain": [
       "0.5888692548800096"
      ]
     },
     "execution_count": 46,
     "metadata": {},
     "output_type": "execute_result"
    }
   ],
   "source": [
    "r2_score(Y_test,Y_test_a)"
   ]
  },
  {
   "cell_type": "code",
   "execution_count": 47,
   "id": "86b6280c-963e-42a1-be5b-a6af6d11208b",
   "metadata": {},
   "outputs": [
    {
     "data": {
      "text/plain": [
       "0.5189045750591503"
      ]
     },
     "execution_count": 47,
     "metadata": {},
     "output_type": "execute_result"
    }
   ],
   "source": [
    "r2_score(Y_train,Y_train_a)"
   ]
  },
  {
   "cell_type": "code",
   "execution_count": 48,
   "id": "7cd6c66b-f7d7-48b1-ae96-2a319550def5",
   "metadata": {},
   "outputs": [],
   "source": [
    "# Hence the r2 score by MLR is 0.5888692548800096"
   ]
  },
  {
   "cell_type": "code",
   "execution_count": 49,
   "id": "a7168bdb-908c-48c1-94cf-76ccef67bfd4",
   "metadata": {},
   "outputs": [],
   "source": [
    "# Shrinkage method\n",
    "# 1. Ridge regression"
   ]
  },
  {
   "cell_type": "code",
   "execution_count": 50,
   "id": "5c04621a-c7fb-43e7-9239-42bc80898a49",
   "metadata": {},
   "outputs": [],
   "source": [
    "# First Preprocess the Data "
   ]
  },
  {
   "cell_type": "code",
   "execution_count": 51,
   "id": "e6ce97c8-6a98-40ab-92cd-aa3555a78f03",
   "metadata": {},
   "outputs": [],
   "source": [
    "from sklearn import preprocessing"
   ]
  },
  {
   "cell_type": "code",
   "execution_count": 52,
   "id": "a1ca48bd-3933-4cd5-a1f8-c8165a205ef6",
   "metadata": {},
   "outputs": [],
   "source": [
    "scaler = preprocessing.StandardScaler().fit(X_train)"
   ]
  },
  {
   "cell_type": "code",
   "execution_count": 53,
   "id": "82d5642f-5120-4fc9-ab01-23713259269d",
   "metadata": {},
   "outputs": [],
   "source": [
    "X_train_s =scaler.transform(X_train)"
   ]
  },
  {
   "cell_type": "code",
   "execution_count": 54,
   "id": "582e3682-cb21-478f-a480-e023f42a36c5",
   "metadata": {},
   "outputs": [],
   "source": [
    "X_test_s = scaler.transform(X_test)"
   ]
  },
  {
   "cell_type": "code",
   "execution_count": 55,
   "id": "ced3d042-32c4-4dc4-a962-55114ab33765",
   "metadata": {},
   "outputs": [],
   "source": [
    "from sklearn.linear_model import Ridge"
   ]
  },
  {
   "cell_type": "code",
   "execution_count": 56,
   "id": "f0365134-9449-4d80-a33f-ec8acb724a81",
   "metadata": {},
   "outputs": [],
   "source": [
    "lm_r = Ridge(alpha = 0.5) "
   ]
  },
  {
   "cell_type": "code",
   "execution_count": 57,
   "id": "0436817f-cba0-4c5c-bceb-522774b64c86",
   "metadata": {},
   "outputs": [
    {
     "data": {
      "text/html": [
       "<style>#sk-container-id-3 {color: black;background-color: white;}#sk-container-id-3 pre{padding: 0;}#sk-container-id-3 div.sk-toggleable {background-color: white;}#sk-container-id-3 label.sk-toggleable__label {cursor: pointer;display: block;width: 100%;margin-bottom: 0;padding: 0.3em;box-sizing: border-box;text-align: center;}#sk-container-id-3 label.sk-toggleable__label-arrow:before {content: \"▸\";float: left;margin-right: 0.25em;color: #696969;}#sk-container-id-3 label.sk-toggleable__label-arrow:hover:before {color: black;}#sk-container-id-3 div.sk-estimator:hover label.sk-toggleable__label-arrow:before {color: black;}#sk-container-id-3 div.sk-toggleable__content {max-height: 0;max-width: 0;overflow: hidden;text-align: left;background-color: #f0f8ff;}#sk-container-id-3 div.sk-toggleable__content pre {margin: 0.2em;color: black;border-radius: 0.25em;background-color: #f0f8ff;}#sk-container-id-3 input.sk-toggleable__control:checked~div.sk-toggleable__content {max-height: 200px;max-width: 100%;overflow: auto;}#sk-container-id-3 input.sk-toggleable__control:checked~label.sk-toggleable__label-arrow:before {content: \"▾\";}#sk-container-id-3 div.sk-estimator input.sk-toggleable__control:checked~label.sk-toggleable__label {background-color: #d4ebff;}#sk-container-id-3 div.sk-label input.sk-toggleable__control:checked~label.sk-toggleable__label {background-color: #d4ebff;}#sk-container-id-3 input.sk-hidden--visually {border: 0;clip: rect(1px 1px 1px 1px);clip: rect(1px, 1px, 1px, 1px);height: 1px;margin: -1px;overflow: hidden;padding: 0;position: absolute;width: 1px;}#sk-container-id-3 div.sk-estimator {font-family: monospace;background-color: #f0f8ff;border: 1px dotted black;border-radius: 0.25em;box-sizing: border-box;margin-bottom: 0.5em;}#sk-container-id-3 div.sk-estimator:hover {background-color: #d4ebff;}#sk-container-id-3 div.sk-parallel-item::after {content: \"\";width: 100%;border-bottom: 1px solid gray;flex-grow: 1;}#sk-container-id-3 div.sk-label:hover label.sk-toggleable__label {background-color: #d4ebff;}#sk-container-id-3 div.sk-serial::before {content: \"\";position: absolute;border-left: 1px solid gray;box-sizing: border-box;top: 0;bottom: 0;left: 50%;z-index: 0;}#sk-container-id-3 div.sk-serial {display: flex;flex-direction: column;align-items: center;background-color: white;padding-right: 0.2em;padding-left: 0.2em;position: relative;}#sk-container-id-3 div.sk-item {position: relative;z-index: 1;}#sk-container-id-3 div.sk-parallel {display: flex;align-items: stretch;justify-content: center;background-color: white;position: relative;}#sk-container-id-3 div.sk-item::before, #sk-container-id-3 div.sk-parallel-item::before {content: \"\";position: absolute;border-left: 1px solid gray;box-sizing: border-box;top: 0;bottom: 0;left: 50%;z-index: -1;}#sk-container-id-3 div.sk-parallel-item {display: flex;flex-direction: column;z-index: 1;position: relative;background-color: white;}#sk-container-id-3 div.sk-parallel-item:first-child::after {align-self: flex-end;width: 50%;}#sk-container-id-3 div.sk-parallel-item:last-child::after {align-self: flex-start;width: 50%;}#sk-container-id-3 div.sk-parallel-item:only-child::after {width: 0;}#sk-container-id-3 div.sk-dashed-wrapped {border: 1px dashed gray;margin: 0 0.4em 0.5em 0.4em;box-sizing: border-box;padding-bottom: 0.4em;background-color: white;}#sk-container-id-3 div.sk-label label {font-family: monospace;font-weight: bold;display: inline-block;line-height: 1.2em;}#sk-container-id-3 div.sk-label-container {text-align: center;}#sk-container-id-3 div.sk-container {/* jupyter's `normalize.less` sets `[hidden] { display: none; }` but bootstrap.min.css set `[hidden] { display: none !important; }` so we also need the `!important` here to be able to override the default hidden behavior on the sphinx rendered scikit-learn.org. See: https://github.com/scikit-learn/scikit-learn/issues/21755 */display: inline-block !important;position: relative;}#sk-container-id-3 div.sk-text-repr-fallback {display: none;}</style><div id=\"sk-container-id-3\" class=\"sk-top-container\"><div class=\"sk-text-repr-fallback\"><pre>Ridge(alpha=0.5)</pre><b>In a Jupyter environment, please rerun this cell to show the HTML representation or trust the notebook. <br />On GitHub, the HTML representation is unable to render, please try loading this page with nbviewer.org.</b></div><div class=\"sk-container\" hidden><div class=\"sk-item\"><div class=\"sk-estimator sk-toggleable\"><input class=\"sk-toggleable__control sk-hidden--visually\" id=\"sk-estimator-id-3\" type=\"checkbox\" checked><label for=\"sk-estimator-id-3\" class=\"sk-toggleable__label sk-toggleable__label-arrow\">Ridge</label><div class=\"sk-toggleable__content\"><pre>Ridge(alpha=0.5)</pre></div></div></div></div></div>"
      ],
      "text/plain": [
       "Ridge(alpha=0.5)"
      ]
     },
     "execution_count": 57,
     "metadata": {},
     "output_type": "execute_result"
    }
   ],
   "source": [
    "lm_r.fit(X_train_s,Y_train)"
   ]
  },
  {
   "cell_type": "code",
   "execution_count": 59,
   "id": "adaeee4d-ca7f-4cfc-a0a4-da16d214ab35",
   "metadata": {},
   "outputs": [
    {
     "data": {
      "text/plain": [
       "0.5888248509763372"
      ]
     },
     "execution_count": 59,
     "metadata": {},
     "output_type": "execute_result"
    }
   ],
   "source": [
    "r2_score(Y_test,lm_r.predict(X_test_s))"
   ]
  },
  {
   "cell_type": "code",
   "execution_count": 60,
   "id": "a89785e6-b9dc-4c51-9fda-774cdd4ef522",
   "metadata": {},
   "outputs": [],
   "source": [
    "# Hence r2 score in Ridge regression is 0.5888248509763372"
   ]
  },
  {
   "cell_type": "code",
   "execution_count": 61,
   "id": "b2ac5265-ec63-4e92-8541-a7d7413eafa9",
   "metadata": {},
   "outputs": [],
   "source": [
    "# Now with multiple values of alpha\n",
    "from sklearn.model_selection import validation_curve"
   ]
  },
  {
   "cell_type": "code",
   "execution_count": 62,
   "id": "68946894-7fa1-4035-b1c4-521bc6322668",
   "metadata": {},
   "outputs": [],
   "source": [
    "param_range = np.logspace(-2,8,100)"
   ]
  },
  {
   "cell_type": "code",
   "execution_count": 65,
   "id": "5bf348cf-c672-4f56-b2c5-34854eb5a829",
   "metadata": {},
   "outputs": [],
   "source": [
    "train_scores, test_scores = validation_curve(\n",
    "    Ridge(), \n",
    "    X_train_s, \n",
    "    Y_train, \n",
    "    param_name=\"alpha\", \n",
    "    param_range=param_range, \n",
    "    scoring='r2'\n",
    ")"
   ]
  },
  {
   "cell_type": "code",
   "execution_count": 66,
   "id": "62dfa7f2-006f-4533-b112-11943ba9cf1e",
   "metadata": {},
   "outputs": [
    {
     "name": "stdout",
     "output_type": "stream",
     "text": [
      "[[5.27317331e-01 5.18814194e-01 5.08490289e-01 5.18865415e-01\n",
      "  5.23370947e-01]\n",
      " [5.27317331e-01 5.18814194e-01 5.08490289e-01 5.18865415e-01\n",
      "  5.23370947e-01]\n",
      " [5.27317331e-01 5.18814194e-01 5.08490289e-01 5.18865415e-01\n",
      "  5.23370947e-01]\n",
      " [5.27317331e-01 5.18814194e-01 5.08490289e-01 5.18865415e-01\n",
      "  5.23370947e-01]\n",
      " [5.27317331e-01 5.18814194e-01 5.08490289e-01 5.18865415e-01\n",
      "  5.23370947e-01]\n",
      " [5.27317331e-01 5.18814194e-01 5.08490288e-01 5.18865415e-01\n",
      "  5.23370947e-01]\n",
      " [5.27317330e-01 5.18814193e-01 5.08490288e-01 5.18865414e-01\n",
      "  5.23370946e-01]\n",
      " [5.27317330e-01 5.18814193e-01 5.08490288e-01 5.18865414e-01\n",
      "  5.23370946e-01]\n",
      " [5.27317329e-01 5.18814192e-01 5.08490287e-01 5.18865413e-01\n",
      "  5.23370945e-01]\n",
      " [5.27317328e-01 5.18814191e-01 5.08490286e-01 5.18865412e-01\n",
      "  5.23370944e-01]\n",
      " [5.27317325e-01 5.18814189e-01 5.08490284e-01 5.18865410e-01\n",
      "  5.23370942e-01]\n",
      " [5.27317322e-01 5.18814186e-01 5.08490280e-01 5.18865407e-01\n",
      "  5.23370939e-01]\n",
      " [5.27317316e-01 5.18814181e-01 5.08490275e-01 5.18865402e-01\n",
      "  5.23370934e-01]\n",
      " [5.27317307e-01 5.18814173e-01 5.08490267e-01 5.18865393e-01\n",
      "  5.23370926e-01]\n",
      " [5.27317293e-01 5.18814161e-01 5.08490255e-01 5.18865381e-01\n",
      "  5.23370914e-01]\n",
      " [5.27317271e-01 5.18814141e-01 5.08490234e-01 5.18865360e-01\n",
      "  5.23370894e-01]\n",
      " [5.27317235e-01 5.18814110e-01 5.08490202e-01 5.18865328e-01\n",
      "  5.23370863e-01]\n",
      " [5.27317178e-01 5.18814060e-01 5.08490151e-01 5.18865276e-01\n",
      "  5.23370813e-01]\n",
      " [5.27317087e-01 5.18813981e-01 5.08490069e-01 5.18865194e-01\n",
      "  5.23370734e-01]\n",
      " [5.27316943e-01 5.18813855e-01 5.08489939e-01 5.18865063e-01\n",
      "  5.23370608e-01]\n",
      " [5.27316713e-01 5.18813654e-01 5.08489733e-01 5.18864855e-01\n",
      "  5.23370408e-01]\n",
      " [5.27316347e-01 5.18813335e-01 5.08489404e-01 5.18864523e-01\n",
      "  5.23370088e-01]\n",
      " [5.27315766e-01 5.18812827e-01 5.08488880e-01 5.18863996e-01\n",
      "  5.23369581e-01]\n",
      " [5.27314841e-01 5.18812019e-01 5.08488048e-01 5.18863158e-01\n",
      "  5.23368773e-01]\n",
      " [5.27313370e-01 5.18810735e-01 5.08486725e-01 5.18861825e-01\n",
      "  5.23367489e-01]\n",
      " [5.27311033e-01 5.18808693e-01 5.08484622e-01 5.18859706e-01\n",
      "  5.23365449e-01]\n",
      " [5.27307321e-01 5.18805451e-01 5.08481282e-01 5.18856341e-01\n",
      "  5.23362208e-01]\n",
      " [5.27301430e-01 5.18800303e-01 5.08475979e-01 5.18850999e-01\n",
      "  5.23357062e-01]\n",
      " [5.27292086e-01 5.18792136e-01 5.08467569e-01 5.18842525e-01\n",
      "  5.23348900e-01]\n",
      " [5.27277283e-01 5.18779193e-01 5.08454241e-01 5.18829097e-01\n",
      "  5.23335964e-01]\n",
      " [5.27253860e-01 5.18758706e-01 5.08433148e-01 5.18807844e-01\n",
      "  5.23315489e-01]\n",
      " [5.27216861e-01 5.18726327e-01 5.08399818e-01 5.18774259e-01\n",
      "  5.23283130e-01]\n",
      " [5.27158535e-01 5.18675250e-01 5.08347255e-01 5.18721291e-01\n",
      "  5.23232087e-01]\n",
      " [5.27066823e-01 5.18594873e-01 5.08264567e-01 5.18637959e-01\n",
      "  5.23151769e-01]\n",
      " [5.26923081e-01 5.18468768e-01 5.08134888e-01 5.18507257e-01\n",
      "  5.23025764e-01]\n",
      " [5.26698689e-01 5.18271662e-01 5.07932297e-01 5.18303044e-01\n",
      "  5.22828830e-01]\n",
      " [5.26350137e-01 5.17965017e-01 5.07617316e-01 5.17985493e-01\n",
      "  5.22522481e-01]\n",
      " [5.25812057e-01 5.17490721e-01 5.07130499e-01 5.17494617e-01\n",
      "  5.22048688e-01]\n",
      " [5.24987692e-01 5.16762356e-01 5.06383607e-01 5.16741345e-01\n",
      "  5.21321170e-01]\n",
      " [5.23736465e-01 5.15653649e-01 5.05247995e-01 5.15595757e-01\n",
      "  5.20213857e-01]\n",
      " [5.21858841e-01 5.13984082e-01 5.03540261e-01 5.13872551e-01\n",
      "  5.18546516e-01]\n",
      " [5.19079745e-01 5.11502582e-01 5.01006195e-01 5.11314740e-01\n",
      "  5.16068420e-01]\n",
      " [5.15033623e-01 5.07871785e-01 4.97305672e-01 5.07578257e-01\n",
      "  5.12442515e-01]\n",
      " [5.09256697e-01 5.02657720e-01 4.92003489e-01 5.02222517e-01\n",
      "  5.07234866e-01]\n",
      " [5.01194615e-01 4.95332442e-01 4.84573789e-01 4.94714624e-01\n",
      "  4.99916833e-01]\n",
      " [4.90235007e-01 4.85299055e-01 4.74427353e-01 4.84456606e-01\n",
      "  4.89889375e-01]\n",
      " [4.75772432e-01 4.71947639e-01 4.60969796e-01 4.70843829e-01\n",
      "  4.76538126e-01]\n",
      " [4.57305714e-01 4.54744712e-01 4.43692279e-01 4.53356262e-01\n",
      "  4.59322135e-01]\n",
      " [4.34554734e-01 4.33346977e-01 4.22284304e-01 4.31672270e-01\n",
      "  4.37887585e-01]\n",
      " [4.07569321e-01 4.07715363e-01 3.96743672e-01 4.05780040e-01\n",
      "  4.12182943e-01]\n",
      " [3.76794794e-01 3.78194540e-01 3.67449004e-01 3.76052012e-01\n",
      "  3.82540867e-01]\n",
      " [3.43064551e-01 3.45525032e-01 3.35163635e-01 3.43250857e-01\n",
      "  3.49693424e-01]\n",
      " [3.07511286e-01 3.10773038e-01 3.00958806e-01 3.08454357e-01\n",
      "  3.14704646e-01]\n",
      " [2.71416375e-01 2.75191079e-01 2.66071824e-01 2.72914109e-01\n",
      "  2.78832423e-01]\n",
      " [2.36037873e-01 2.40046745e-01 2.31737441e-01 2.37885804e-01\n",
      "  2.43356465e-01]\n",
      " [2.02461104e-01 2.06464893e-01 1.99036703e-01 2.04475388e-01\n",
      "  2.09418078e-01]\n",
      " [1.71502349e-01 1.75318225e-01 1.68795702e-01 1.73534325e-01\n",
      "  1.77907613e-01]\n",
      " [1.43674641e-01 1.47180112e-01 1.41545583e-01 1.45616290e-01\n",
      "  1.49414495e-01]\n",
      " [1.19206059e-01 1.22333282e-01 1.17535868e-01 1.20988188e-01\n",
      "  1.24234071e-01]\n",
      " [9.80912342e-02 1.00816081e-01 9.67824975e-02 9.96772343e-02\n",
      "  1.02413161e-01]\n",
      " [8.01561190e-02 8.24857936e-02 7.91306565e-02 8.15339913e-02\n",
      "  8.38135479e-02]\n",
      " [6.51209658e-02 6.70826480e-02 6.43169441e-02 6.62955300e-02\n",
      "  6.81766888e-02]\n",
      " [5.26529149e-02 5.42846301e-02 5.20218679e-02 5.36392461e-02\n",
      "  5.51794282e-02]\n",
      " [4.24051114e-02 4.37491005e-02 4.19092361e-02 4.32235621e-02\n",
      "  4.44764781e-02]\n",
      " [3.40428469e-02 3.51411790e-02 3.36527178e-02 3.47155905e-02\n",
      "  3.57295117e-02]\n",
      " [2.72589969e-02 2.81509534e-02 2.69517124e-02 2.78078267e-02\n",
      "  2.86248917e-02]\n",
      " [2.17815183e-02 2.25022555e-02 2.15392366e-02 2.22265879e-02\n",
      "  2.28827903e-02]\n",
      " [1.73755628e-02 1.79556262e-02 1.71843613e-02 1.77347773e-02\n",
      "  1.82603589e-02]\n",
      " [1.38422534e-02 1.43076174e-02 1.36912467e-02 1.41310820e-02\n",
      "  1.45511306e-02]\n",
      " [1.10156176e-02 1.13880194e-02 1.08962791e-02 1.12471569e-02\n",
      "  1.15822818e-02]\n",
      " [8.75869092e-03 9.05610226e-03 8.66432880e-03 8.94386309e-03\n",
      "  9.21086479e-03]\n",
      " [6.95942525e-03 7.19656792e-03 6.88477951e-03 7.10723623e-03\n",
      "  7.31972898e-03]\n",
      " [5.52677546e-03 5.71562295e-03 5.46770539e-03 5.64458682e-03\n",
      "  5.81355096e-03]\n",
      " [4.38715337e-03 4.53738994e-03 4.34039541e-03 4.48094230e-03\n",
      "  4.61520128e-03]\n",
      " [3.48132734e-03 3.60075180e-03 3.44430662e-03 3.55592182e-03\n",
      "  3.66254522e-03]\n",
      " [2.76177698e-03 2.85664851e-03 2.73246026e-03 2.82106097e-03\n",
      "  2.90570016e-03]\n",
      " [2.19047571e-03 2.26580438e-03 2.16725630e-03 2.23756377e-03\n",
      "  2.30472823e-03]\n",
      " [1.73705574e-03 1.79684342e-03 1.71866332e-03 1.77443926e-03\n",
      "  1.82772216e-03]\n",
      " [1.37730444e-03 1.42474239e-03 1.36273416e-03 1.40697242e-03\n",
      "  1.44923355e-03]\n",
      " [1.09194119e-03 1.12957095e-03 1.08039788e-03 1.11547908e-03\n",
      "  1.14899253e-03]\n",
      " [8.65628132e-04 8.95471699e-04 8.56482392e-04 8.84298184e-04\n",
      "  9.10870987e-04]\n",
      " [6.86173578e-04 7.09838316e-04 6.78927077e-04 7.00979757e-04\n",
      "  7.22047027e-04]\n",
      " [5.43892716e-04 5.62655554e-04 5.38150832e-04 5.55632948e-04\n",
      "  5.72333915e-04]\n",
      " [4.31095970e-04 4.45970813e-04 4.26546155e-04 4.40404043e-04\n",
      "  4.53642739e-04]\n",
      " [3.41680342e-04 3.53471929e-04 3.38075025e-04 3.49059431e-04\n",
      "  3.59553049e-04]\n",
      " [2.70803566e-04 2.80150414e-04 2.67946623e-04 2.76653002e-04\n",
      "  2.84970382e-04]\n",
      " [2.14624619e-04 2.22033228e-04 2.12360672e-04 2.19261223e-04\n",
      "  2.25853464e-04]\n",
      " [1.70097284e-04 1.75969354e-04 1.68303227e-04 1.73772358e-04\n",
      "  1.78997136e-04]\n",
      " [1.34806062e-04 1.39460127e-04 1.33384355e-04 1.37718901e-04\n",
      "  1.41859787e-04]\n",
      " [1.06835816e-04 1.10524428e-04 1.05709170e-04 1.09144445e-04\n",
      "  1.12426240e-04]\n",
      " [8.46682688e-05 8.75916474e-05 8.37754416e-05 8.64979778e-05\n",
      "  8.90988773e-05]\n",
      " [6.70998581e-05 6.94167218e-05 6.63923206e-05 6.85499716e-05\n",
      "  7.06112239e-05]\n",
      " [5.31765596e-05 5.50127200e-05 5.26158564e-05 5.43258128e-05\n",
      "  5.59593727e-05]\n",
      " [4.21421859e-05 4.35973652e-05 4.16978432e-05 4.30529889e-05\n",
      "  4.43475904e-05]\n",
      " [3.33973835e-05 3.45506220e-05 3.30452527e-05 3.41192042e-05\n",
      "  3.51451745e-05]\n",
      " [2.64671202e-05 2.73810632e-05 2.61880646e-05 2.70391664e-05\n",
      "  2.78522434e-05]\n",
      " [2.09749066e-05 2.16992040e-05 2.07537610e-05 2.14282532e-05\n",
      "  2.20726110e-05]\n",
      " [1.66223593e-05 1.71963610e-05 1.64471060e-05 1.69816349e-05\n",
      "  1.74922826e-05]\n",
      " [1.31730011e-05 1.36278929e-05 1.30341164e-05 1.34577247e-05\n",
      "  1.38624075e-05]\n",
      " [1.04394193e-05 1.07999166e-05 1.03293558e-05 1.06650603e-05\n",
      "  1.09857666e-05]]\n"
     ]
    }
   ],
   "source": [
    "print(train_scores)"
   ]
  },
  {
   "cell_type": "code",
   "execution_count": 67,
   "id": "1787325e-a2a0-438d-8347-45ffd72028cb",
   "metadata": {},
   "outputs": [
    {
     "name": "stdout",
     "output_type": "stream",
     "text": [
      "[[ 4.70563846e-01  5.14018835e-01  5.49367583e-01  5.16235914e-01\n",
      "   4.80601880e-01]\n",
      " [ 4.70564305e-01  5.14018650e-01  5.49367253e-01  5.16235950e-01\n",
      "   4.80602173e-01]\n",
      " [ 4.70564885e-01  5.14018417e-01  5.49366836e-01  5.16235996e-01\n",
      "   4.80602543e-01]\n",
      " [ 4.70565617e-01  5.14018122e-01  5.49366310e-01  5.16236054e-01\n",
      "   4.80603009e-01]\n",
      " [ 4.70566540e-01  5.14017751e-01  5.49365646e-01  5.16236127e-01\n",
      "   4.80603597e-01]\n",
      " [ 4.70567704e-01  5.14017282e-01  5.49364808e-01  5.16236220e-01\n",
      "   4.80604339e-01]\n",
      " [ 4.70569174e-01  5.14016691e-01  5.49363751e-01  5.16236336e-01\n",
      "   4.80605276e-01]\n",
      " [ 4.70571028e-01  5.14015944e-01  5.49362416e-01  5.16236483e-01\n",
      "   4.80606457e-01]\n",
      " [ 4.70573368e-01  5.14015002e-01  5.49360732e-01  5.16236668e-01\n",
      "   4.80607948e-01]\n",
      " [ 4.70576320e-01  5.14013813e-01  5.49358608e-01  5.16236901e-01\n",
      "   4.80609828e-01]\n",
      " [ 4.70580044e-01  5.14012312e-01  5.49355926e-01  5.16237195e-01\n",
      "   4.80612201e-01]\n",
      " [ 4.70584742e-01  5.14010418e-01  5.49352542e-01  5.16237565e-01\n",
      "   4.80615193e-01]\n",
      " [ 4.70590668e-01  5.14008027e-01  5.49348272e-01  5.16238030e-01\n",
      "   4.80618968e-01]\n",
      " [ 4.70598143e-01  5.14005009e-01  5.49342882e-01  5.16238616e-01\n",
      "   4.80623729e-01]\n",
      " [ 4.70607571e-01  5.14001199e-01  5.49336079e-01  5.16239353e-01\n",
      "   4.80629733e-01]\n",
      " [ 4.70619459e-01  5.13996388e-01  5.49327492e-01  5.16240277e-01\n",
      "   4.80637304e-01]\n",
      " [ 4.70634450e-01  5.13990313e-01  5.49316653e-01  5.16241437e-01\n",
      "   4.80646847e-01]\n",
      " [ 4.70653346e-01  5.13982640e-01  5.49302969e-01  5.16242888e-01\n",
      "   4.80658875e-01]\n",
      " [ 4.70677160e-01  5.13972946e-01  5.49285692e-01  5.16244701e-01\n",
      "   4.80674028e-01]\n",
      " [ 4.70707162e-01  5.13960695e-01  5.49263876e-01  5.16246960e-01\n",
      "   4.80693111e-01]\n",
      " [ 4.70744943e-01  5.13945206e-01  5.49236322e-01  5.16249764e-01\n",
      "   4.80717131e-01]\n",
      " [ 4.70792495e-01  5.13925615e-01  5.49201513e-01  5.16253227e-01\n",
      "   4.80747344e-01]\n",
      " [ 4.70852305e-01  5.13900819e-01  5.49157526e-01  5.16257481e-01\n",
      "   4.80785318e-01]\n",
      " [ 4.70927468e-01  5.13869411e-01  5.49101920e-01  5.16262660e-01\n",
      "   4.80832992e-01]\n",
      " [ 4.71021823e-01  5.13829590e-01  5.49031595e-01  5.16268899e-01\n",
      "   4.80892767e-01]\n",
      " [ 4.71140107e-01  5.13779044e-01  5.48942604e-01  5.16276301e-01\n",
      "   4.80967583e-01]\n",
      " [ 4.71288132e-01  5.13714788e-01  5.48829910e-01  5.16284894e-01\n",
      "   4.81061023e-01]\n",
      " [ 4.71472964e-01  5.13632957e-01  5.48687076e-01  5.16294553e-01\n",
      "   4.81177398e-01]\n",
      " [ 4.71703105e-01  5.13528514e-01  5.48505844e-01  5.16304871e-01\n",
      "   4.81321821e-01]\n",
      " [ 4.71988629e-01  5.13394854e-01  5.48275587e-01  5.16314936e-01\n",
      "   4.81500231e-01]\n",
      " [ 4.72341226e-01  5.13223253e-01  5.47982571e-01  5.16322984e-01\n",
      "   4.81719321e-01]\n",
      " [ 4.72774064e-01  5.13002106e-01  5.47608968e-01  5.16325832e-01\n",
      "   4.81986289e-01]\n",
      " [ 4.73301305e-01  5.12715841e-01  5.47131524e-01  5.16317989e-01\n",
      "   4.82308293e-01]\n",
      " [ 4.73937071e-01  5.12343406e-01  5.46519744e-01  5.16290275e-01\n",
      "   4.82691413e-01]\n",
      " [ 4.74693493e-01  5.11856124e-01  5.45733439e-01  5.16227703e-01\n",
      "   4.83138842e-01]\n",
      " [ 4.75577379e-01  5.11214685e-01  5.44719402e-01  5.16106297e-01\n",
      "   4.83647908e-01]\n",
      " [ 4.76584824e-01  5.10364967e-01  5.43406955e-01  5.15888404e-01\n",
      "   4.84205376e-01]\n",
      " [ 4.77692951e-01  5.09232329e-01  5.41702074e-01  5.15515974e-01\n",
      "   4.84780345e-01]\n",
      " [ 4.78847874e-01  5.07714031e-01  5.39479861e-01  5.14901254e-01\n",
      "   4.85313977e-01]\n",
      " [ 4.79948100e-01  5.05669565e-01  5.36575311e-01  5.13914488e-01\n",
      "   4.85705367e-01]\n",
      " [ 4.80823189e-01  5.02909104e-01  5.32772783e-01  5.12368663e-01\n",
      "   4.85793296e-01]\n",
      " [ 4.81208815e-01  4.99181043e-01  5.27795427e-01  5.10002393e-01\n",
      "   4.85334677e-01]\n",
      " [ 4.80721747e-01  4.94161014e-01  5.21297174e-01  5.06463743e-01\n",
      "   4.83982364e-01]\n",
      " [ 4.78841683e-01  4.87446650e-01  5.12861707e-01  5.01300327e-01\n",
      "   4.81267908e-01]\n",
      " [ 4.74910642e-01  4.78564527e-01  5.02014643e-01  4.93963749e-01\n",
      "   4.76598184e-01]\n",
      " [ 4.68163046e-01  4.66996985e-01  4.88255959e-01  4.83838205e-01\n",
      "   4.69277446e-01]\n",
      " [ 4.57797713e-01  4.52235369e-01  4.71117830e-01  4.70301554e-01\n",
      "   4.58565819e-01]\n",
      " [ 4.43094050e-01  4.33860705e-01  4.50247019e-01  4.52820312e-01\n",
      "   4.43778809e-01]\n",
      " [ 4.23558333e-01  4.11642534e-01  4.25500660e-01  4.31067317e-01\n",
      "   4.24418917e-01]\n",
      " [ 3.99066952e-01  3.85634129e-01  3.97032743e-01  4.05035750e-01\n",
      "   4.00312869e-01]\n",
      " [ 3.69961926e-01  3.56233965e-01  3.65342136e-01  3.75113621e-01\n",
      "   3.71714336e-01]\n",
      " [ 3.37059809e-01  3.24186054e-01  3.31257890e-01  3.42086805e-01\n",
      "   3.39332588e-01]\n",
      " [ 3.01560543e-01  2.90508369e-01  2.95855288e-01  3.07058838e-01\n",
      "   3.04266864e-01]\n",
      " [ 2.64877430e-01  2.56363058e-01  2.60319946e-01  2.71304219e-01\n",
      "   2.67858170e-01]\n",
      " [ 2.28435897e-01  2.22902488e-01  2.25795266e-01  2.36094755e-01\n",
      "   2.31498978e-01]\n",
      " [ 1.93494236e-01  1.91131024e-01  1.93251669e-01  2.02544278e-01\n",
      "   1.96452400e-01]\n",
      " [ 1.61023982e-01  1.61812259e-01  1.63404214e-01  1.71504735e-01\n",
      "   1.63722085e-01]\n",
      " [ 1.31662194e-01  1.35432496e-01  1.36686106e-01  1.43525103e-01\n",
      "   1.33990832e-01]\n",
      " [ 1.05725538e-01  1.12213537e-01  1.13269062e-01  1.18864925e-01\n",
      "   1.07622659e-01]\n",
      " [ 8.32642491e-02  9.21578598e-02  9.31129012e-02  9.75434718e-02\n",
      "   8.47088241e-02]\n",
      " [ 6.41329661e-02  7.51077128e-02  7.60262758e-02  7.94041223e-02\n",
      "   6.51349854e-02]\n",
      " [ 4.80608385e-02  6.08037120e-02  6.17249883e-02  6.41781604e-02\n",
      "   4.86508664e-02]\n",
      " [ 3.47107374e-02  4.89344046e-02  4.98802688e-02  5.15387196e-02\n",
      "   3.49308839e-02]\n",
      " [ 2.37237359e-02  3.91735124e-02  4.01543853e-02  4.11413240e-02\n",
      "   2.36207810e-02]\n",
      " [ 1.47491915e-02  3.12050545e-02  3.22241981e-02  3.26512716e-02\n",
      "   1.43698720e-02]\n",
      " [ 7.46284337e-03  2.47383423e-02  2.57948413e-02  2.57600354e-02\n",
      "   6.85095846e-03]\n",
      " [ 1.57595785e-03  1.95153963e-02  2.06061302e-02  2.01934491e-02\n",
      "   7.70839598e-04]\n",
      " [-3.16164280e-03  1.53131834e-02  1.64340704e-02  1.57142760e-02\n",
      "  -4.12572109e-03]\n",
      " [-6.96238339e-03  1.19426190e-02  1.30893588e-02  1.21212652e-02\n",
      "  -8.05620617e-03]\n",
      " [-1.00038923e-02  9.24576538e-03  1.04142521e-02  9.24624107e-03\n",
      "  -1.12029616e-02]\n",
      " [-1.24329704e-02  7.09219900e-03  8.27872575e-03  6.95028018e-03\n",
      "  -1.37169988e-02]\n",
      " [-1.43698477e-02  5.37516599e-03  6.57650312e-03  5.11964323e-03\n",
      "  -1.57221951e-02]\n",
      " [-1.59123020e-02  4.00788648e-03  5.22128726e-03  3.66185466e-03\n",
      "  -1.73194204e-02]\n",
      " [-1.71394160e-02  2.92019649e-03  4.14336465e-03  2.50213472e-03\n",
      "  -1.85903386e-02]\n",
      " [-1.81148768e-02  2.05560579e-03  3.28664552e-03  1.58027034e-03\n",
      "  -1.96007660e-02]\n",
      " [-1.88898000e-02  1.36878406e-03  2.60614468e-03  8.47939702e-04\n",
      "  -2.04035591e-02]\n",
      " [-1.95051020e-02  8.23451298e-04  2.06587338e-03  2.66466023e-04\n",
      "  -2.10410483e-02]\n",
      " [-1.99934665e-02  3.90630813e-04  1.63709696e-03 -1.95043285e-04\n",
      "  -2.15470592e-02]\n",
      " [-2.03809578e-02  4.72167402e-05  1.29690849e-03 -5.61222808e-04\n",
      "  -2.19485749e-02]\n",
      " [-2.06883341e-02 -2.25191689e-04  1.02706936e-03 -8.51691366e-04\n",
      "  -2.22670906e-02]\n",
      " [-2.09321107e-02 -4.41233339e-04  8.13072054e-04 -1.08205724e-03\n",
      "  -2.25197107e-02]\n",
      " [-2.11254165e-02 -6.12544881e-04  6.43385790e-04 -1.26472796e-03\n",
      "  -2.27200349e-02]\n",
      " [-2.12786816e-02 -7.48370599e-04  5.08851329e-04 -1.40956032e-03\n",
      "  -2.28788681e-02]\n",
      " [-2.14001878e-02 -8.56050532e-04  4.02196738e-04 -1.52438081e-03\n",
      "  -2.30047909e-02]\n",
      " [-2.14965084e-02 -9.41410405e-04  3.17650716e-04 -1.61540131e-03\n",
      "  -2.31046141e-02]\n",
      " [-2.15728591e-02 -1.00907258e-03  2.50634308e-04 -1.68755060e-03\n",
      "  -2.31837420e-02]\n",
      " [-2.16333771e-02 -1.06270371e-03  1.97515446e-04 -1.74473842e-03\n",
      "  -2.32464620e-02]\n",
      " [-2.16813439e-02 -1.10521176e-03  1.55413685e-04 -1.79006554e-03\n",
      "  -2.32961743e-02]\n",
      " [-2.17193612e-02 -1.13890260e-03  1.22045010e-04 -1.82599075e-03\n",
      "  -2.33355754e-02]\n",
      " [-2.17494921e-02 -1.16560451e-03  9.55985490e-05 -1.85446352e-03\n",
      "  -2.33668032e-02]\n",
      " [-2.17733722e-02 -1.18676687e-03  7.46387016e-05 -1.87702938e-03\n",
      "  -2.33915526e-02]\n",
      " [-2.17922978e-02 -1.20353865e-03  5.80274517e-05 -1.89491349e-03\n",
      "  -2.34111673e-02]\n",
      " [-2.18072968e-02 -1.21683062e-03  4.48627365e-05 -1.90908700e-03\n",
      "  -2.34267124e-02]\n",
      " [-2.18191836e-02 -1.22736467e-03  3.44295582e-05 -1.92031968e-03\n",
      "  -2.34390321e-02]\n",
      " [-2.18286040e-02 -1.23571296e-03  2.61612127e-05 -1.92922164e-03\n",
      "  -2.34487955e-02]\n",
      " [-2.18360697e-02 -1.24232899e-03  1.96085456e-05 -1.93627646e-03\n",
      "  -2.34565330e-02]\n",
      " [-2.18419862e-02 -1.24757218e-03  1.44155782e-05 -1.94186739e-03\n",
      "  -2.34626650e-02]\n",
      " [-2.18466751e-02 -1.25172737e-03  1.03001833e-05 -1.94629817e-03\n",
      "  -2.34675246e-02]\n",
      " [-2.18503909e-02 -1.25502033e-03  7.03876741e-06 -1.94980952e-03\n",
      "  -2.34713758e-02]\n",
      " [-2.18533357e-02 -1.25762997e-03  4.45412859e-06 -1.95259224e-03\n",
      "  -2.34744278e-02]]\n"
     ]
    }
   ],
   "source": [
    "print(test_scores)"
   ]
  },
  {
   "cell_type": "code",
   "execution_count": 68,
   "id": "5dae2dbf-8ff8-44a9-ac3c-a7cc91b3e42d",
   "metadata": {},
   "outputs": [],
   "source": [
    "train_mean = np.mean(train_scores,axis=1)"
   ]
  },
  {
   "cell_type": "code",
   "execution_count": 69,
   "id": "93746d50-4aa1-462b-affa-fb818f0653c9",
   "metadata": {},
   "outputs": [],
   "source": [
    "test_mean = np.mean(test_scores,axis=1)"
   ]
  },
  {
   "cell_type": "code",
   "execution_count": 70,
   "id": "4ba15893-28f5-4262-90ab-bc13d2b1eb05",
   "metadata": {},
   "outputs": [
    {
     "data": {
      "text/plain": [
       "0.5063563816978343"
      ]
     },
     "execution_count": 70,
     "metadata": {},
     "output_type": "execute_result"
    }
   ],
   "source": [
    "max(test_mean)"
   ]
  },
  {
   "cell_type": "code",
   "execution_count": 71,
   "id": "1ed0eecd-f926-4d16-b412-7fc5c8c2abfe",
   "metadata": {},
   "outputs": [
    {
     "data": {
      "text/plain": [
       "(array([33], dtype=int64),)"
      ]
     },
     "execution_count": 71,
     "metadata": {},
     "output_type": "execute_result"
    }
   ],
   "source": [
    "np.where(test_mean==max(test_mean))"
   ]
  },
  {
   "cell_type": "code",
   "execution_count": 72,
   "id": "fe30c81d-6d0b-40f0-b050-3b468fdfd1a7",
   "metadata": {},
   "outputs": [
    {
     "data": {
      "text/plain": [
       "21.544346900318846"
      ]
     },
     "execution_count": 72,
     "metadata": {},
     "output_type": "execute_result"
    }
   ],
   "source": [
    "param_range[33]"
   ]
  },
  {
   "cell_type": "code",
   "execution_count": 73,
   "id": "26928b30-f8dd-4b97-89f6-867c358c3384",
   "metadata": {},
   "outputs": [],
   "source": [
    "lm_r_best = Ridge(alpha= param_range[33])"
   ]
  },
  {
   "cell_type": "code",
   "execution_count": 75,
   "id": "7d6faf3e-aa56-4f95-87b9-ad7787effa35",
   "metadata": {},
   "outputs": [
    {
     "data": {
      "text/html": [
       "<style>#sk-container-id-4 {color: black;background-color: white;}#sk-container-id-4 pre{padding: 0;}#sk-container-id-4 div.sk-toggleable {background-color: white;}#sk-container-id-4 label.sk-toggleable__label {cursor: pointer;display: block;width: 100%;margin-bottom: 0;padding: 0.3em;box-sizing: border-box;text-align: center;}#sk-container-id-4 label.sk-toggleable__label-arrow:before {content: \"▸\";float: left;margin-right: 0.25em;color: #696969;}#sk-container-id-4 label.sk-toggleable__label-arrow:hover:before {color: black;}#sk-container-id-4 div.sk-estimator:hover label.sk-toggleable__label-arrow:before {color: black;}#sk-container-id-4 div.sk-toggleable__content {max-height: 0;max-width: 0;overflow: hidden;text-align: left;background-color: #f0f8ff;}#sk-container-id-4 div.sk-toggleable__content pre {margin: 0.2em;color: black;border-radius: 0.25em;background-color: #f0f8ff;}#sk-container-id-4 input.sk-toggleable__control:checked~div.sk-toggleable__content {max-height: 200px;max-width: 100%;overflow: auto;}#sk-container-id-4 input.sk-toggleable__control:checked~label.sk-toggleable__label-arrow:before {content: \"▾\";}#sk-container-id-4 div.sk-estimator input.sk-toggleable__control:checked~label.sk-toggleable__label {background-color: #d4ebff;}#sk-container-id-4 div.sk-label input.sk-toggleable__control:checked~label.sk-toggleable__label {background-color: #d4ebff;}#sk-container-id-4 input.sk-hidden--visually {border: 0;clip: rect(1px 1px 1px 1px);clip: rect(1px, 1px, 1px, 1px);height: 1px;margin: -1px;overflow: hidden;padding: 0;position: absolute;width: 1px;}#sk-container-id-4 div.sk-estimator {font-family: monospace;background-color: #f0f8ff;border: 1px dotted black;border-radius: 0.25em;box-sizing: border-box;margin-bottom: 0.5em;}#sk-container-id-4 div.sk-estimator:hover {background-color: #d4ebff;}#sk-container-id-4 div.sk-parallel-item::after {content: \"\";width: 100%;border-bottom: 1px solid gray;flex-grow: 1;}#sk-container-id-4 div.sk-label:hover label.sk-toggleable__label {background-color: #d4ebff;}#sk-container-id-4 div.sk-serial::before {content: \"\";position: absolute;border-left: 1px solid gray;box-sizing: border-box;top: 0;bottom: 0;left: 50%;z-index: 0;}#sk-container-id-4 div.sk-serial {display: flex;flex-direction: column;align-items: center;background-color: white;padding-right: 0.2em;padding-left: 0.2em;position: relative;}#sk-container-id-4 div.sk-item {position: relative;z-index: 1;}#sk-container-id-4 div.sk-parallel {display: flex;align-items: stretch;justify-content: center;background-color: white;position: relative;}#sk-container-id-4 div.sk-item::before, #sk-container-id-4 div.sk-parallel-item::before {content: \"\";position: absolute;border-left: 1px solid gray;box-sizing: border-box;top: 0;bottom: 0;left: 50%;z-index: -1;}#sk-container-id-4 div.sk-parallel-item {display: flex;flex-direction: column;z-index: 1;position: relative;background-color: white;}#sk-container-id-4 div.sk-parallel-item:first-child::after {align-self: flex-end;width: 50%;}#sk-container-id-4 div.sk-parallel-item:last-child::after {align-self: flex-start;width: 50%;}#sk-container-id-4 div.sk-parallel-item:only-child::after {width: 0;}#sk-container-id-4 div.sk-dashed-wrapped {border: 1px dashed gray;margin: 0 0.4em 0.5em 0.4em;box-sizing: border-box;padding-bottom: 0.4em;background-color: white;}#sk-container-id-4 div.sk-label label {font-family: monospace;font-weight: bold;display: inline-block;line-height: 1.2em;}#sk-container-id-4 div.sk-label-container {text-align: center;}#sk-container-id-4 div.sk-container {/* jupyter's `normalize.less` sets `[hidden] { display: none; }` but bootstrap.min.css set `[hidden] { display: none !important; }` so we also need the `!important` here to be able to override the default hidden behavior on the sphinx rendered scikit-learn.org. See: https://github.com/scikit-learn/scikit-learn/issues/21755 */display: inline-block !important;position: relative;}#sk-container-id-4 div.sk-text-repr-fallback {display: none;}</style><div id=\"sk-container-id-4\" class=\"sk-top-container\"><div class=\"sk-text-repr-fallback\"><pre>Ridge(alpha=21.544346900318846)</pre><b>In a Jupyter environment, please rerun this cell to show the HTML representation or trust the notebook. <br />On GitHub, the HTML representation is unable to render, please try loading this page with nbviewer.org.</b></div><div class=\"sk-container\" hidden><div class=\"sk-item\"><div class=\"sk-estimator sk-toggleable\"><input class=\"sk-toggleable__control sk-hidden--visually\" id=\"sk-estimator-id-4\" type=\"checkbox\" checked><label for=\"sk-estimator-id-4\" class=\"sk-toggleable__label sk-toggleable__label-arrow\">Ridge</label><div class=\"sk-toggleable__content\"><pre>Ridge(alpha=21.544346900318846)</pre></div></div></div></div></div>"
      ],
      "text/plain": [
       "Ridge(alpha=21.544346900318846)"
      ]
     },
     "execution_count": 75,
     "metadata": {},
     "output_type": "execute_result"
    }
   ],
   "source": [
    "lm_r_best.fit(X_train_s,Y_train)"
   ]
  },
  {
   "cell_type": "code",
   "execution_count": 76,
   "id": "024f1e3e-4d7e-4e5d-a84a-9aee644f028e",
   "metadata": {},
   "outputs": [
    {
     "data": {
      "text/plain": [
       "0.5868537675116259"
      ]
     },
     "execution_count": 76,
     "metadata": {},
     "output_type": "execute_result"
    }
   ],
   "source": [
    "r2_score(Y_test,lm_r_best.predict(X_test_s))"
   ]
  },
  {
   "cell_type": "code",
   "execution_count": 77,
   "id": "1ac5029b-231a-4cf2-abe7-51ea28ff6ca3",
   "metadata": {},
   "outputs": [
    {
     "data": {
      "text/plain": [
       "0.5187579018954707"
      ]
     },
     "execution_count": 77,
     "metadata": {},
     "output_type": "execute_result"
    }
   ],
   "source": [
    "r2_score(Y_train,lm_r_best.predict(X_train_s))"
   ]
  },
  {
   "cell_type": "code",
   "execution_count": 78,
   "id": "d12e2380-7ca9-4965-94bc-3c9deec26b52",
   "metadata": {},
   "outputs": [],
   "source": [
    "# Hence after using the multiple values of alpha and picking the best one the r2 value is 0.5868537675116259"
   ]
  },
  {
   "cell_type": "code",
   "execution_count": 79,
   "id": "732bde3b-e2fa-4ea4-8614-cb5e5a168668",
   "metadata": {},
   "outputs": [],
   "source": [
    "# 3.Lasso"
   ]
  },
  {
   "cell_type": "code",
   "execution_count": 80,
   "id": "28bf5e3d-ef56-4456-af19-0ab1e20962f5",
   "metadata": {},
   "outputs": [],
   "source": [
    "from sklearn.linear_model import Lasso"
   ]
  },
  {
   "cell_type": "code",
   "execution_count": 81,
   "id": "9c7e910f-9a81-48bb-9a03-c8d23afd34a4",
   "metadata": {},
   "outputs": [],
   "source": [
    "lm_l = Lasso(alpha = 0.4)"
   ]
  },
  {
   "cell_type": "code",
   "execution_count": 82,
   "id": "0002d36a-2ed4-4aa4-9e76-c0590d81ae74",
   "metadata": {},
   "outputs": [
    {
     "data": {
      "text/html": [
       "<style>#sk-container-id-5 {color: black;background-color: white;}#sk-container-id-5 pre{padding: 0;}#sk-container-id-5 div.sk-toggleable {background-color: white;}#sk-container-id-5 label.sk-toggleable__label {cursor: pointer;display: block;width: 100%;margin-bottom: 0;padding: 0.3em;box-sizing: border-box;text-align: center;}#sk-container-id-5 label.sk-toggleable__label-arrow:before {content: \"▸\";float: left;margin-right: 0.25em;color: #696969;}#sk-container-id-5 label.sk-toggleable__label-arrow:hover:before {color: black;}#sk-container-id-5 div.sk-estimator:hover label.sk-toggleable__label-arrow:before {color: black;}#sk-container-id-5 div.sk-toggleable__content {max-height: 0;max-width: 0;overflow: hidden;text-align: left;background-color: #f0f8ff;}#sk-container-id-5 div.sk-toggleable__content pre {margin: 0.2em;color: black;border-radius: 0.25em;background-color: #f0f8ff;}#sk-container-id-5 input.sk-toggleable__control:checked~div.sk-toggleable__content {max-height: 200px;max-width: 100%;overflow: auto;}#sk-container-id-5 input.sk-toggleable__control:checked~label.sk-toggleable__label-arrow:before {content: \"▾\";}#sk-container-id-5 div.sk-estimator input.sk-toggleable__control:checked~label.sk-toggleable__label {background-color: #d4ebff;}#sk-container-id-5 div.sk-label input.sk-toggleable__control:checked~label.sk-toggleable__label {background-color: #d4ebff;}#sk-container-id-5 input.sk-hidden--visually {border: 0;clip: rect(1px 1px 1px 1px);clip: rect(1px, 1px, 1px, 1px);height: 1px;margin: -1px;overflow: hidden;padding: 0;position: absolute;width: 1px;}#sk-container-id-5 div.sk-estimator {font-family: monospace;background-color: #f0f8ff;border: 1px dotted black;border-radius: 0.25em;box-sizing: border-box;margin-bottom: 0.5em;}#sk-container-id-5 div.sk-estimator:hover {background-color: #d4ebff;}#sk-container-id-5 div.sk-parallel-item::after {content: \"\";width: 100%;border-bottom: 1px solid gray;flex-grow: 1;}#sk-container-id-5 div.sk-label:hover label.sk-toggleable__label {background-color: #d4ebff;}#sk-container-id-5 div.sk-serial::before {content: \"\";position: absolute;border-left: 1px solid gray;box-sizing: border-box;top: 0;bottom: 0;left: 50%;z-index: 0;}#sk-container-id-5 div.sk-serial {display: flex;flex-direction: column;align-items: center;background-color: white;padding-right: 0.2em;padding-left: 0.2em;position: relative;}#sk-container-id-5 div.sk-item {position: relative;z-index: 1;}#sk-container-id-5 div.sk-parallel {display: flex;align-items: stretch;justify-content: center;background-color: white;position: relative;}#sk-container-id-5 div.sk-item::before, #sk-container-id-5 div.sk-parallel-item::before {content: \"\";position: absolute;border-left: 1px solid gray;box-sizing: border-box;top: 0;bottom: 0;left: 50%;z-index: -1;}#sk-container-id-5 div.sk-parallel-item {display: flex;flex-direction: column;z-index: 1;position: relative;background-color: white;}#sk-container-id-5 div.sk-parallel-item:first-child::after {align-self: flex-end;width: 50%;}#sk-container-id-5 div.sk-parallel-item:last-child::after {align-self: flex-start;width: 50%;}#sk-container-id-5 div.sk-parallel-item:only-child::after {width: 0;}#sk-container-id-5 div.sk-dashed-wrapped {border: 1px dashed gray;margin: 0 0.4em 0.5em 0.4em;box-sizing: border-box;padding-bottom: 0.4em;background-color: white;}#sk-container-id-5 div.sk-label label {font-family: monospace;font-weight: bold;display: inline-block;line-height: 1.2em;}#sk-container-id-5 div.sk-label-container {text-align: center;}#sk-container-id-5 div.sk-container {/* jupyter's `normalize.less` sets `[hidden] { display: none; }` but bootstrap.min.css set `[hidden] { display: none !important; }` so we also need the `!important` here to be able to override the default hidden behavior on the sphinx rendered scikit-learn.org. See: https://github.com/scikit-learn/scikit-learn/issues/21755 */display: inline-block !important;position: relative;}#sk-container-id-5 div.sk-text-repr-fallback {display: none;}</style><div id=\"sk-container-id-5\" class=\"sk-top-container\"><div class=\"sk-text-repr-fallback\"><pre>Lasso(alpha=0.4)</pre><b>In a Jupyter environment, please rerun this cell to show the HTML representation or trust the notebook. <br />On GitHub, the HTML representation is unable to render, please try loading this page with nbviewer.org.</b></div><div class=\"sk-container\" hidden><div class=\"sk-item\"><div class=\"sk-estimator sk-toggleable\"><input class=\"sk-toggleable__control sk-hidden--visually\" id=\"sk-estimator-id-5\" type=\"checkbox\" checked><label for=\"sk-estimator-id-5\" class=\"sk-toggleable__label sk-toggleable__label-arrow\">Lasso</label><div class=\"sk-toggleable__content\"><pre>Lasso(alpha=0.4)</pre></div></div></div></div></div>"
      ],
      "text/plain": [
       "Lasso(alpha=0.4)"
      ]
     },
     "execution_count": 82,
     "metadata": {},
     "output_type": "execute_result"
    }
   ],
   "source": [
    "lm_l.fit(X_train_s,Y_train)"
   ]
  },
  {
   "cell_type": "code",
   "execution_count": 83,
   "id": "d1ca7c16-182f-42d7-97a4-1ea8d19a5ae8",
   "metadata": {},
   "outputs": [
    {
     "data": {
      "text/plain": [
       "0.5888248509763372"
      ]
     },
     "execution_count": 83,
     "metadata": {},
     "output_type": "execute_result"
    }
   ],
   "source": [
    "r2_score(Y_test,lm_r.predict(X_test_s))\t"
   ]
  },
  {
   "cell_type": "code",
   "execution_count": 84,
   "id": "ed1ed34d-05e3-4e72-bbd3-fec54b46ad2b",
   "metadata": {},
   "outputs": [],
   "source": [
    "train_scores_l, test_scores_l = validation_curve(\n",
    "    Lasso(), \n",
    "    X_train_s, \n",
    "    Y_train, \n",
    "    param_name=\"alpha\", \n",
    "    param_range=param_range, \n",
    "    scoring='r2'\n",
    ")"
   ]
  },
  {
   "cell_type": "code",
   "execution_count": 85,
   "id": "8b016abb-beb6-49a2-a6ae-fa4c19f216ae",
   "metadata": {},
   "outputs": [],
   "source": [
    "train_mean_l = np.mean(train_scores_l,axis=1)"
   ]
  },
  {
   "cell_type": "code",
   "execution_count": 86,
   "id": "25d59149-c945-486f-b7c5-79e07f001363",
   "metadata": {},
   "outputs": [],
   "source": [
    "test_mean_l = np.mean(test_scores_l,axis=1)"
   ]
  },
  {
   "cell_type": "code",
   "execution_count": 87,
   "id": "2629f0f9-c8b4-4fff-acf5-110e970bdc43",
   "metadata": {},
   "outputs": [
    {
     "data": {
      "text/plain": [
       "0.5063918521345998"
      ]
     },
     "execution_count": 87,
     "metadata": {},
     "output_type": "execute_result"
    }
   ],
   "source": [
    "max(test_mean_l)"
   ]
  },
  {
   "cell_type": "code",
   "execution_count": 88,
   "id": "0331bb36-6fde-4de2-8f4a-f90834fc00c9",
   "metadata": {},
   "outputs": [
    {
     "data": {
      "text/plain": [
       "(array([37], dtype=int64),)"
      ]
     },
     "execution_count": 88,
     "metadata": {},
     "output_type": "execute_result"
    }
   ],
   "source": [
    "np.where(test_mean_l==max(test_mean_l))"
   ]
  },
  {
   "cell_type": "code",
   "execution_count": 89,
   "id": "0d8595fd-3e13-4097-9cfd-8e3c78a03028",
   "metadata": {},
   "outputs": [
    {
     "data": {
      "text/plain": [
       "54.62277217684343"
      ]
     },
     "execution_count": 89,
     "metadata": {},
     "output_type": "execute_result"
    }
   ],
   "source": [
    "param_range[37]"
   ]
  },
  {
   "cell_type": "code",
   "execution_count": 90,
   "id": "c2a17e26-168f-4d7d-b277-5999ac0cadc2",
   "metadata": {},
   "outputs": [],
   "source": [
    "lm_l_best = Lasso(alpha= param_range[37])"
   ]
  },
  {
   "cell_type": "code",
   "execution_count": 91,
   "id": "a0c5f37e-8182-4bcd-9af8-0d774964ca04",
   "metadata": {},
   "outputs": [
    {
     "data": {
      "text/html": [
       "<style>#sk-container-id-6 {color: black;background-color: white;}#sk-container-id-6 pre{padding: 0;}#sk-container-id-6 div.sk-toggleable {background-color: white;}#sk-container-id-6 label.sk-toggleable__label {cursor: pointer;display: block;width: 100%;margin-bottom: 0;padding: 0.3em;box-sizing: border-box;text-align: center;}#sk-container-id-6 label.sk-toggleable__label-arrow:before {content: \"▸\";float: left;margin-right: 0.25em;color: #696969;}#sk-container-id-6 label.sk-toggleable__label-arrow:hover:before {color: black;}#sk-container-id-6 div.sk-estimator:hover label.sk-toggleable__label-arrow:before {color: black;}#sk-container-id-6 div.sk-toggleable__content {max-height: 0;max-width: 0;overflow: hidden;text-align: left;background-color: #f0f8ff;}#sk-container-id-6 div.sk-toggleable__content pre {margin: 0.2em;color: black;border-radius: 0.25em;background-color: #f0f8ff;}#sk-container-id-6 input.sk-toggleable__control:checked~div.sk-toggleable__content {max-height: 200px;max-width: 100%;overflow: auto;}#sk-container-id-6 input.sk-toggleable__control:checked~label.sk-toggleable__label-arrow:before {content: \"▾\";}#sk-container-id-6 div.sk-estimator input.sk-toggleable__control:checked~label.sk-toggleable__label {background-color: #d4ebff;}#sk-container-id-6 div.sk-label input.sk-toggleable__control:checked~label.sk-toggleable__label {background-color: #d4ebff;}#sk-container-id-6 input.sk-hidden--visually {border: 0;clip: rect(1px 1px 1px 1px);clip: rect(1px, 1px, 1px, 1px);height: 1px;margin: -1px;overflow: hidden;padding: 0;position: absolute;width: 1px;}#sk-container-id-6 div.sk-estimator {font-family: monospace;background-color: #f0f8ff;border: 1px dotted black;border-radius: 0.25em;box-sizing: border-box;margin-bottom: 0.5em;}#sk-container-id-6 div.sk-estimator:hover {background-color: #d4ebff;}#sk-container-id-6 div.sk-parallel-item::after {content: \"\";width: 100%;border-bottom: 1px solid gray;flex-grow: 1;}#sk-container-id-6 div.sk-label:hover label.sk-toggleable__label {background-color: #d4ebff;}#sk-container-id-6 div.sk-serial::before {content: \"\";position: absolute;border-left: 1px solid gray;box-sizing: border-box;top: 0;bottom: 0;left: 50%;z-index: 0;}#sk-container-id-6 div.sk-serial {display: flex;flex-direction: column;align-items: center;background-color: white;padding-right: 0.2em;padding-left: 0.2em;position: relative;}#sk-container-id-6 div.sk-item {position: relative;z-index: 1;}#sk-container-id-6 div.sk-parallel {display: flex;align-items: stretch;justify-content: center;background-color: white;position: relative;}#sk-container-id-6 div.sk-item::before, #sk-container-id-6 div.sk-parallel-item::before {content: \"\";position: absolute;border-left: 1px solid gray;box-sizing: border-box;top: 0;bottom: 0;left: 50%;z-index: -1;}#sk-container-id-6 div.sk-parallel-item {display: flex;flex-direction: column;z-index: 1;position: relative;background-color: white;}#sk-container-id-6 div.sk-parallel-item:first-child::after {align-self: flex-end;width: 50%;}#sk-container-id-6 div.sk-parallel-item:last-child::after {align-self: flex-start;width: 50%;}#sk-container-id-6 div.sk-parallel-item:only-child::after {width: 0;}#sk-container-id-6 div.sk-dashed-wrapped {border: 1px dashed gray;margin: 0 0.4em 0.5em 0.4em;box-sizing: border-box;padding-bottom: 0.4em;background-color: white;}#sk-container-id-6 div.sk-label label {font-family: monospace;font-weight: bold;display: inline-block;line-height: 1.2em;}#sk-container-id-6 div.sk-label-container {text-align: center;}#sk-container-id-6 div.sk-container {/* jupyter's `normalize.less` sets `[hidden] { display: none; }` but bootstrap.min.css set `[hidden] { display: none !important; }` so we also need the `!important` here to be able to override the default hidden behavior on the sphinx rendered scikit-learn.org. See: https://github.com/scikit-learn/scikit-learn/issues/21755 */display: inline-block !important;position: relative;}#sk-container-id-6 div.sk-text-repr-fallback {display: none;}</style><div id=\"sk-container-id-6\" class=\"sk-top-container\"><div class=\"sk-text-repr-fallback\"><pre>Lasso(alpha=54.62277217684343)</pre><b>In a Jupyter environment, please rerun this cell to show the HTML representation or trust the notebook. <br />On GitHub, the HTML representation is unable to render, please try loading this page with nbviewer.org.</b></div><div class=\"sk-container\" hidden><div class=\"sk-item\"><div class=\"sk-estimator sk-toggleable\"><input class=\"sk-toggleable__control sk-hidden--visually\" id=\"sk-estimator-id-6\" type=\"checkbox\" checked><label for=\"sk-estimator-id-6\" class=\"sk-toggleable__label sk-toggleable__label-arrow\">Lasso</label><div class=\"sk-toggleable__content\"><pre>Lasso(alpha=54.62277217684343)</pre></div></div></div></div></div>"
      ],
      "text/plain": [
       "Lasso(alpha=54.62277217684343)"
      ]
     },
     "execution_count": 91,
     "metadata": {},
     "output_type": "execute_result"
    }
   ],
   "source": [
    "lm_l_best.fit(X_train_s,Y_train)"
   ]
  },
  {
   "cell_type": "code",
   "execution_count": 92,
   "id": "03b6bf47-e9bd-49f9-8ae3-3690bca3a3b0",
   "metadata": {},
   "outputs": [
    {
     "data": {
      "text/plain": [
       "0.5872179885197018"
      ]
     },
     "execution_count": 92,
     "metadata": {},
     "output_type": "execute_result"
    }
   ],
   "source": [
    "r2_score(Y_test,lm_l_best.predict(X_test_s))"
   ]
  },
  {
   "cell_type": "code",
   "execution_count": 93,
   "id": "01f38543-b277-46fa-b399-dea8b7973c53",
   "metadata": {},
   "outputs": [
    {
     "data": {
      "text/plain": [
       "0.5187366753848157"
      ]
     },
     "execution_count": 93,
     "metadata": {},
     "output_type": "execute_result"
    }
   ],
   "source": [
    "r2_score(Y_train,lm_l_best.predict(X_train_s))"
   ]
  },
  {
   "cell_type": "code",
   "execution_count": 94,
   "id": "50d09fcb-967c-4b68-ac4f-e7be6cd869ba",
   "metadata": {},
   "outputs": [],
   "source": [
    "# hence the r2 score using lasso is 0.5872179885197018"
   ]
  },
  {
   "cell_type": "code",
   "execution_count": 97,
   "id": "33ec3701-f3ff-4de6-98fe-cde7f6147b30",
   "metadata": {},
   "outputs": [],
   "source": [
    "# 4. Now we will Run KNN"
   ]
  },
  {
   "cell_type": "code",
   "execution_count": 96,
   "id": "edaf631b-6ec8-4fb8-b537-8a1ee0cd1479",
   "metadata": {},
   "outputs": [],
   "source": [
    "# First We will standardise the data"
   ]
  },
  {
   "cell_type": "code",
   "execution_count": 98,
   "id": "b62ca7e5-fba7-4190-8ab9-ff697367b511",
   "metadata": {},
   "outputs": [],
   "source": [
    "from sklearn import preprocessing"
   ]
  },
  {
   "cell_type": "code",
   "execution_count": 99,
   "id": "0ad61a92-a6ba-4231-8132-dc791bb93861",
   "metadata": {},
   "outputs": [],
   "source": [
    "scaler = preprocessing.StandardScaler().fit(X_train)"
   ]
  },
  {
   "cell_type": "code",
   "execution_count": 100,
   "id": "ac599d7d-e050-42e7-a78d-7f26aa10706a",
   "metadata": {},
   "outputs": [],
   "source": [
    "X_train_s = scaler.transform(X_train)\n"
   ]
  },
  {
   "cell_type": "code",
   "execution_count": 101,
   "id": "4343f01d-52eb-4f72-9257-be0c7a068213",
   "metadata": {},
   "outputs": [],
   "source": [
    "scaler = preprocessing.StandardScaler().fit(X_test)"
   ]
  },
  {
   "cell_type": "code",
   "execution_count": 102,
   "id": "3338bbfe-9e80-4e3f-8e50-95a70fcb0cef",
   "metadata": {},
   "outputs": [],
   "source": [
    "X_test_s = scaler.transform(X_test)"
   ]
  },
  {
   "cell_type": "code",
   "execution_count": 103,
   "id": "26051266-3764-4619-b957-2ddb98cc9c93",
   "metadata": {},
   "outputs": [],
   "source": [
    "from sklearn.neighbors import KNeighborsRegressor"
   ]
  },
  {
   "cell_type": "code",
   "execution_count": 104,
   "id": "fb00bc35-81d5-4b28-90ae-82cbac2e5502",
   "metadata": {},
   "outputs": [],
   "source": [
    "clf_knn_1 = KNeighborsRegressor(n_neighbors=1)"
   ]
  },
  {
   "cell_type": "code",
   "execution_count": 105,
   "id": "f83b6a1a-462e-4f78-84f5-c690fcd757fd",
   "metadata": {},
   "outputs": [
    {
     "data": {
      "text/html": [
       "<style>#sk-container-id-7 {color: black;background-color: white;}#sk-container-id-7 pre{padding: 0;}#sk-container-id-7 div.sk-toggleable {background-color: white;}#sk-container-id-7 label.sk-toggleable__label {cursor: pointer;display: block;width: 100%;margin-bottom: 0;padding: 0.3em;box-sizing: border-box;text-align: center;}#sk-container-id-7 label.sk-toggleable__label-arrow:before {content: \"▸\";float: left;margin-right: 0.25em;color: #696969;}#sk-container-id-7 label.sk-toggleable__label-arrow:hover:before {color: black;}#sk-container-id-7 div.sk-estimator:hover label.sk-toggleable__label-arrow:before {color: black;}#sk-container-id-7 div.sk-toggleable__content {max-height: 0;max-width: 0;overflow: hidden;text-align: left;background-color: #f0f8ff;}#sk-container-id-7 div.sk-toggleable__content pre {margin: 0.2em;color: black;border-radius: 0.25em;background-color: #f0f8ff;}#sk-container-id-7 input.sk-toggleable__control:checked~div.sk-toggleable__content {max-height: 200px;max-width: 100%;overflow: auto;}#sk-container-id-7 input.sk-toggleable__control:checked~label.sk-toggleable__label-arrow:before {content: \"▾\";}#sk-container-id-7 div.sk-estimator input.sk-toggleable__control:checked~label.sk-toggleable__label {background-color: #d4ebff;}#sk-container-id-7 div.sk-label input.sk-toggleable__control:checked~label.sk-toggleable__label {background-color: #d4ebff;}#sk-container-id-7 input.sk-hidden--visually {border: 0;clip: rect(1px 1px 1px 1px);clip: rect(1px, 1px, 1px, 1px);height: 1px;margin: -1px;overflow: hidden;padding: 0;position: absolute;width: 1px;}#sk-container-id-7 div.sk-estimator {font-family: monospace;background-color: #f0f8ff;border: 1px dotted black;border-radius: 0.25em;box-sizing: border-box;margin-bottom: 0.5em;}#sk-container-id-7 div.sk-estimator:hover {background-color: #d4ebff;}#sk-container-id-7 div.sk-parallel-item::after {content: \"\";width: 100%;border-bottom: 1px solid gray;flex-grow: 1;}#sk-container-id-7 div.sk-label:hover label.sk-toggleable__label {background-color: #d4ebff;}#sk-container-id-7 div.sk-serial::before {content: \"\";position: absolute;border-left: 1px solid gray;box-sizing: border-box;top: 0;bottom: 0;left: 50%;z-index: 0;}#sk-container-id-7 div.sk-serial {display: flex;flex-direction: column;align-items: center;background-color: white;padding-right: 0.2em;padding-left: 0.2em;position: relative;}#sk-container-id-7 div.sk-item {position: relative;z-index: 1;}#sk-container-id-7 div.sk-parallel {display: flex;align-items: stretch;justify-content: center;background-color: white;position: relative;}#sk-container-id-7 div.sk-item::before, #sk-container-id-7 div.sk-parallel-item::before {content: \"\";position: absolute;border-left: 1px solid gray;box-sizing: border-box;top: 0;bottom: 0;left: 50%;z-index: -1;}#sk-container-id-7 div.sk-parallel-item {display: flex;flex-direction: column;z-index: 1;position: relative;background-color: white;}#sk-container-id-7 div.sk-parallel-item:first-child::after {align-self: flex-end;width: 50%;}#sk-container-id-7 div.sk-parallel-item:last-child::after {align-self: flex-start;width: 50%;}#sk-container-id-7 div.sk-parallel-item:only-child::after {width: 0;}#sk-container-id-7 div.sk-dashed-wrapped {border: 1px dashed gray;margin: 0 0.4em 0.5em 0.4em;box-sizing: border-box;padding-bottom: 0.4em;background-color: white;}#sk-container-id-7 div.sk-label label {font-family: monospace;font-weight: bold;display: inline-block;line-height: 1.2em;}#sk-container-id-7 div.sk-label-container {text-align: center;}#sk-container-id-7 div.sk-container {/* jupyter's `normalize.less` sets `[hidden] { display: none; }` but bootstrap.min.css set `[hidden] { display: none !important; }` so we also need the `!important` here to be able to override the default hidden behavior on the sphinx rendered scikit-learn.org. See: https://github.com/scikit-learn/scikit-learn/issues/21755 */display: inline-block !important;position: relative;}#sk-container-id-7 div.sk-text-repr-fallback {display: none;}</style><div id=\"sk-container-id-7\" class=\"sk-top-container\"><div class=\"sk-text-repr-fallback\"><pre>KNeighborsRegressor(n_neighbors=1)</pre><b>In a Jupyter environment, please rerun this cell to show the HTML representation or trust the notebook. <br />On GitHub, the HTML representation is unable to render, please try loading this page with nbviewer.org.</b></div><div class=\"sk-container\" hidden><div class=\"sk-item\"><div class=\"sk-estimator sk-toggleable\"><input class=\"sk-toggleable__control sk-hidden--visually\" id=\"sk-estimator-id-7\" type=\"checkbox\" checked><label for=\"sk-estimator-id-7\" class=\"sk-toggleable__label sk-toggleable__label-arrow\">KNeighborsRegressor</label><div class=\"sk-toggleable__content\"><pre>KNeighborsRegressor(n_neighbors=1)</pre></div></div></div></div></div>"
      ],
      "text/plain": [
       "KNeighborsRegressor(n_neighbors=1)"
      ]
     },
     "execution_count": 105,
     "metadata": {},
     "output_type": "execute_result"
    }
   ],
   "source": [
    "clf_knn_1.fit(X_train_s,Y_train)"
   ]
  },
  {
   "cell_type": "code",
   "execution_count": 116,
   "id": "2a031bf1-0144-43d4-96a4-db05e7c96861",
   "metadata": {},
   "outputs": [],
   "source": [
    "# for multiple values of n_neighbors_values\n",
    "n_neighbors_values = [1, 5, 10, 20, 50]"
   ]
  },
  {
   "cell_type": "code",
   "execution_count": 109,
   "id": "e7858e5c-4d84-4ecc-a0d3-63c05b76cb62",
   "metadata": {},
   "outputs": [],
   "source": [
    "best_n_neighbors = None"
   ]
  },
  {
   "cell_type": "code",
   "execution_count": 110,
   "id": "d5c9a271-ae50-430c-b1a3-dfce295a4f22",
   "metadata": {},
   "outputs": [],
   "source": [
    "best_r2_score = -float('inf')  # Initialize with a very low value"
   ]
  },
  {
   "cell_type": "code",
   "execution_count": 117,
   "id": "d6e189a5-9f91-40f5-a5e9-388ebc8a92cd",
   "metadata": {},
   "outputs": [
    {
     "name": "stdout",
     "output_type": "stream",
     "text": [
      "R2 score for n_neighbors=1: -0.08231705209333051\n",
      "R2 score for n_neighbors=5: 0.058096434664337004\n",
      "R2 score for n_neighbors=10: 0.10503749427390807\n",
      "R2 score for n_neighbors=20: 0.09175264975007114\n",
      "R2 score for n_neighbors=50: 0.0777254947210837\n"
     ]
    }
   ],
   "source": [
    "for n in n_neighbors_values:\n",
    "    clf_knn = KNeighborsRegressor(n_neighbors=n)\n",
    "    clf_knn.fit(X_train, Y_train)\n",
    "    r2_score = clf_knn.score(X_test, Y_test)  # Evaluate on test data\n",
    "    print(f\"R2 score for n_neighbors={n}: {r2_score}\")"
   ]
  },
  {
   "cell_type": "code",
   "execution_count": 118,
   "id": "e134c80b-701f-450a-9336-65f31a5f2c86",
   "metadata": {},
   "outputs": [],
   "source": [
    "# Hence r2 value with KNN analysis with n_neighbors=10 = 0.10503749427390807"
   ]
  },
  {
   "cell_type": "code",
   "execution_count": 119,
   "id": "13b16c0d-493f-4448-97cd-de5a108449c7",
   "metadata": {},
   "outputs": [],
   "source": [
    "#5. Decision Tree - Bagging :"
   ]
  },
  {
   "cell_type": "code",
   "execution_count": 122,
   "id": "3829e17c-117b-438a-87c7-e2f4c452845b",
   "metadata": {},
   "outputs": [],
   "source": [
    "clftree = DecisionTreeRegressor()"
   ]
  },
  {
   "cell_type": "code",
   "execution_count": 123,
   "id": "cae158ad-643c-4401-be39-1d1dc60c4538",
   "metadata": {},
   "outputs": [],
   "source": [
    "from sklearn.ensemble import BaggingRegressor"
   ]
  },
  {
   "cell_type": "code",
   "execution_count": 124,
   "id": "09fa33ba-c07d-454f-b6c4-2b8cd71ab691",
   "metadata": {},
   "outputs": [],
   "source": [
    "bag_clf = BaggingRegressor(base_estimator=clftree, n_estimators=1000,\n",
    "bootstrap=True,n_jobs=-1,random_state=42)"
   ]
  },
  {
   "cell_type": "code",
   "execution_count": 125,
   "id": "3850b070-9606-4e5e-9ae0-52825f86c493",
   "metadata": {},
   "outputs": [
    {
     "name": "stderr",
     "output_type": "stream",
     "text": [
      "C:\\Users\\Hp\\anaconda3\\Lib\\site-packages\\sklearn\\ensemble\\_base.py:166: FutureWarning: `base_estimator` was renamed to `estimator` in version 1.2 and will be removed in 1.4.\n",
      "  warnings.warn(\n"
     ]
    },
    {
     "data": {
      "text/html": [
       "<style>#sk-container-id-8 {color: black;background-color: white;}#sk-container-id-8 pre{padding: 0;}#sk-container-id-8 div.sk-toggleable {background-color: white;}#sk-container-id-8 label.sk-toggleable__label {cursor: pointer;display: block;width: 100%;margin-bottom: 0;padding: 0.3em;box-sizing: border-box;text-align: center;}#sk-container-id-8 label.sk-toggleable__label-arrow:before {content: \"▸\";float: left;margin-right: 0.25em;color: #696969;}#sk-container-id-8 label.sk-toggleable__label-arrow:hover:before {color: black;}#sk-container-id-8 div.sk-estimator:hover label.sk-toggleable__label-arrow:before {color: black;}#sk-container-id-8 div.sk-toggleable__content {max-height: 0;max-width: 0;overflow: hidden;text-align: left;background-color: #f0f8ff;}#sk-container-id-8 div.sk-toggleable__content pre {margin: 0.2em;color: black;border-radius: 0.25em;background-color: #f0f8ff;}#sk-container-id-8 input.sk-toggleable__control:checked~div.sk-toggleable__content {max-height: 200px;max-width: 100%;overflow: auto;}#sk-container-id-8 input.sk-toggleable__control:checked~label.sk-toggleable__label-arrow:before {content: \"▾\";}#sk-container-id-8 div.sk-estimator input.sk-toggleable__control:checked~label.sk-toggleable__label {background-color: #d4ebff;}#sk-container-id-8 div.sk-label input.sk-toggleable__control:checked~label.sk-toggleable__label {background-color: #d4ebff;}#sk-container-id-8 input.sk-hidden--visually {border: 0;clip: rect(1px 1px 1px 1px);clip: rect(1px, 1px, 1px, 1px);height: 1px;margin: -1px;overflow: hidden;padding: 0;position: absolute;width: 1px;}#sk-container-id-8 div.sk-estimator {font-family: monospace;background-color: #f0f8ff;border: 1px dotted black;border-radius: 0.25em;box-sizing: border-box;margin-bottom: 0.5em;}#sk-container-id-8 div.sk-estimator:hover {background-color: #d4ebff;}#sk-container-id-8 div.sk-parallel-item::after {content: \"\";width: 100%;border-bottom: 1px solid gray;flex-grow: 1;}#sk-container-id-8 div.sk-label:hover label.sk-toggleable__label {background-color: #d4ebff;}#sk-container-id-8 div.sk-serial::before {content: \"\";position: absolute;border-left: 1px solid gray;box-sizing: border-box;top: 0;bottom: 0;left: 50%;z-index: 0;}#sk-container-id-8 div.sk-serial {display: flex;flex-direction: column;align-items: center;background-color: white;padding-right: 0.2em;padding-left: 0.2em;position: relative;}#sk-container-id-8 div.sk-item {position: relative;z-index: 1;}#sk-container-id-8 div.sk-parallel {display: flex;align-items: stretch;justify-content: center;background-color: white;position: relative;}#sk-container-id-8 div.sk-item::before, #sk-container-id-8 div.sk-parallel-item::before {content: \"\";position: absolute;border-left: 1px solid gray;box-sizing: border-box;top: 0;bottom: 0;left: 50%;z-index: -1;}#sk-container-id-8 div.sk-parallel-item {display: flex;flex-direction: column;z-index: 1;position: relative;background-color: white;}#sk-container-id-8 div.sk-parallel-item:first-child::after {align-self: flex-end;width: 50%;}#sk-container-id-8 div.sk-parallel-item:last-child::after {align-self: flex-start;width: 50%;}#sk-container-id-8 div.sk-parallel-item:only-child::after {width: 0;}#sk-container-id-8 div.sk-dashed-wrapped {border: 1px dashed gray;margin: 0 0.4em 0.5em 0.4em;box-sizing: border-box;padding-bottom: 0.4em;background-color: white;}#sk-container-id-8 div.sk-label label {font-family: monospace;font-weight: bold;display: inline-block;line-height: 1.2em;}#sk-container-id-8 div.sk-label-container {text-align: center;}#sk-container-id-8 div.sk-container {/* jupyter's `normalize.less` sets `[hidden] { display: none; }` but bootstrap.min.css set `[hidden] { display: none !important; }` so we also need the `!important` here to be able to override the default hidden behavior on the sphinx rendered scikit-learn.org. See: https://github.com/scikit-learn/scikit-learn/issues/21755 */display: inline-block !important;position: relative;}#sk-container-id-8 div.sk-text-repr-fallback {display: none;}</style><div id=\"sk-container-id-8\" class=\"sk-top-container\"><div class=\"sk-text-repr-fallback\"><pre>BaggingRegressor(base_estimator=DecisionTreeRegressor(), n_estimators=1000,\n",
       "                 n_jobs=-1, random_state=42)</pre><b>In a Jupyter environment, please rerun this cell to show the HTML representation or trust the notebook. <br />On GitHub, the HTML representation is unable to render, please try loading this page with nbviewer.org.</b></div><div class=\"sk-container\" hidden><div class=\"sk-item sk-dashed-wrapped\"><div class=\"sk-label-container\"><div class=\"sk-label sk-toggleable\"><input class=\"sk-toggleable__control sk-hidden--visually\" id=\"sk-estimator-id-8\" type=\"checkbox\" ><label for=\"sk-estimator-id-8\" class=\"sk-toggleable__label sk-toggleable__label-arrow\">BaggingRegressor</label><div class=\"sk-toggleable__content\"><pre>BaggingRegressor(base_estimator=DecisionTreeRegressor(), n_estimators=1000,\n",
       "                 n_jobs=-1, random_state=42)</pre></div></div></div><div class=\"sk-parallel\"><div class=\"sk-parallel-item\"><div class=\"sk-item\"><div class=\"sk-label-container\"><div class=\"sk-label sk-toggleable\"><input class=\"sk-toggleable__control sk-hidden--visually\" id=\"sk-estimator-id-9\" type=\"checkbox\" ><label for=\"sk-estimator-id-9\" class=\"sk-toggleable__label sk-toggleable__label-arrow\">base_estimator: DecisionTreeRegressor</label><div class=\"sk-toggleable__content\"><pre>DecisionTreeRegressor()</pre></div></div></div><div class=\"sk-serial\"><div class=\"sk-item\"><div class=\"sk-estimator sk-toggleable\"><input class=\"sk-toggleable__control sk-hidden--visually\" id=\"sk-estimator-id-10\" type=\"checkbox\" ><label for=\"sk-estimator-id-10\" class=\"sk-toggleable__label sk-toggleable__label-arrow\">DecisionTreeRegressor</label><div class=\"sk-toggleable__content\"><pre>DecisionTreeRegressor()</pre></div></div></div></div></div></div></div></div></div></div>"
      ],
      "text/plain": [
       "BaggingRegressor(base_estimator=DecisionTreeRegressor(), n_estimators=1000,\n",
       "                 n_jobs=-1, random_state=42)"
      ]
     },
     "execution_count": 125,
     "metadata": {},
     "output_type": "execute_result"
    }
   ],
   "source": [
    "bag_clf.fit(X_train, Y_train)"
   ]
  },
  {
   "cell_type": "code",
   "execution_count": 126,
   "id": "8deb7693-a666-4629-8d9b-1edd46edea22",
   "metadata": {},
   "outputs": [
    {
     "name": "stdout",
     "output_type": "stream",
     "text": [
      "Test R2 score:  0.710323969897245\n"
     ]
    }
   ],
   "source": [
    "# Test R2 score\n",
    "test_r2_score = bag_clf.score(X_test, Y_test)\n",
    "print(\"Test R2 score: \", test_r2_score)"
   ]
  },
  {
   "cell_type": "code",
   "execution_count": 127,
   "id": "4ba96279-34d2-48ce-a335-236326e62dce",
   "metadata": {},
   "outputs": [],
   "source": [
    "# Hence r2 value with Bagging is 0.710323969897245"
   ]
  },
  {
   "cell_type": "code",
   "execution_count": 128,
   "id": "073aa00c-8500-46d9-89d5-3425b56e42c3",
   "metadata": {},
   "outputs": [],
   "source": [
    "# 6. Random Forest"
   ]
  },
  {
   "cell_type": "code",
   "execution_count": 129,
   "id": "25d25669-1eab-4064-a406-ecdf29304ca3",
   "metadata": {},
   "outputs": [],
   "source": [
    "from sklearn.ensemble import RandomForestRegressor"
   ]
  },
  {
   "cell_type": "code",
   "execution_count": 130,
   "id": "5ecd989b-9270-4d8c-84e8-0c5f1e6ae789",
   "metadata": {},
   "outputs": [],
   "source": [
    "rf_clf = RandomForestRegressor(n_estimators = 1000, n_jobs=-1,random_state=42)"
   ]
  },
  {
   "cell_type": "code",
   "execution_count": 131,
   "id": "2de7fed2-e162-4857-ba29-ac47303a4423",
   "metadata": {},
   "outputs": [
    {
     "data": {
      "text/html": [
       "<style>#sk-container-id-9 {color: black;background-color: white;}#sk-container-id-9 pre{padding: 0;}#sk-container-id-9 div.sk-toggleable {background-color: white;}#sk-container-id-9 label.sk-toggleable__label {cursor: pointer;display: block;width: 100%;margin-bottom: 0;padding: 0.3em;box-sizing: border-box;text-align: center;}#sk-container-id-9 label.sk-toggleable__label-arrow:before {content: \"▸\";float: left;margin-right: 0.25em;color: #696969;}#sk-container-id-9 label.sk-toggleable__label-arrow:hover:before {color: black;}#sk-container-id-9 div.sk-estimator:hover label.sk-toggleable__label-arrow:before {color: black;}#sk-container-id-9 div.sk-toggleable__content {max-height: 0;max-width: 0;overflow: hidden;text-align: left;background-color: #f0f8ff;}#sk-container-id-9 div.sk-toggleable__content pre {margin: 0.2em;color: black;border-radius: 0.25em;background-color: #f0f8ff;}#sk-container-id-9 input.sk-toggleable__control:checked~div.sk-toggleable__content {max-height: 200px;max-width: 100%;overflow: auto;}#sk-container-id-9 input.sk-toggleable__control:checked~label.sk-toggleable__label-arrow:before {content: \"▾\";}#sk-container-id-9 div.sk-estimator input.sk-toggleable__control:checked~label.sk-toggleable__label {background-color: #d4ebff;}#sk-container-id-9 div.sk-label input.sk-toggleable__control:checked~label.sk-toggleable__label {background-color: #d4ebff;}#sk-container-id-9 input.sk-hidden--visually {border: 0;clip: rect(1px 1px 1px 1px);clip: rect(1px, 1px, 1px, 1px);height: 1px;margin: -1px;overflow: hidden;padding: 0;position: absolute;width: 1px;}#sk-container-id-9 div.sk-estimator {font-family: monospace;background-color: #f0f8ff;border: 1px dotted black;border-radius: 0.25em;box-sizing: border-box;margin-bottom: 0.5em;}#sk-container-id-9 div.sk-estimator:hover {background-color: #d4ebff;}#sk-container-id-9 div.sk-parallel-item::after {content: \"\";width: 100%;border-bottom: 1px solid gray;flex-grow: 1;}#sk-container-id-9 div.sk-label:hover label.sk-toggleable__label {background-color: #d4ebff;}#sk-container-id-9 div.sk-serial::before {content: \"\";position: absolute;border-left: 1px solid gray;box-sizing: border-box;top: 0;bottom: 0;left: 50%;z-index: 0;}#sk-container-id-9 div.sk-serial {display: flex;flex-direction: column;align-items: center;background-color: white;padding-right: 0.2em;padding-left: 0.2em;position: relative;}#sk-container-id-9 div.sk-item {position: relative;z-index: 1;}#sk-container-id-9 div.sk-parallel {display: flex;align-items: stretch;justify-content: center;background-color: white;position: relative;}#sk-container-id-9 div.sk-item::before, #sk-container-id-9 div.sk-parallel-item::before {content: \"\";position: absolute;border-left: 1px solid gray;box-sizing: border-box;top: 0;bottom: 0;left: 50%;z-index: -1;}#sk-container-id-9 div.sk-parallel-item {display: flex;flex-direction: column;z-index: 1;position: relative;background-color: white;}#sk-container-id-9 div.sk-parallel-item:first-child::after {align-self: flex-end;width: 50%;}#sk-container-id-9 div.sk-parallel-item:last-child::after {align-self: flex-start;width: 50%;}#sk-container-id-9 div.sk-parallel-item:only-child::after {width: 0;}#sk-container-id-9 div.sk-dashed-wrapped {border: 1px dashed gray;margin: 0 0.4em 0.5em 0.4em;box-sizing: border-box;padding-bottom: 0.4em;background-color: white;}#sk-container-id-9 div.sk-label label {font-family: monospace;font-weight: bold;display: inline-block;line-height: 1.2em;}#sk-container-id-9 div.sk-label-container {text-align: center;}#sk-container-id-9 div.sk-container {/* jupyter's `normalize.less` sets `[hidden] { display: none; }` but bootstrap.min.css set `[hidden] { display: none !important; }` so we also need the `!important` here to be able to override the default hidden behavior on the sphinx rendered scikit-learn.org. See: https://github.com/scikit-learn/scikit-learn/issues/21755 */display: inline-block !important;position: relative;}#sk-container-id-9 div.sk-text-repr-fallback {display: none;}</style><div id=\"sk-container-id-9\" class=\"sk-top-container\"><div class=\"sk-text-repr-fallback\"><pre>RandomForestRegressor(n_estimators=1000, n_jobs=-1, random_state=42)</pre><b>In a Jupyter environment, please rerun this cell to show the HTML representation or trust the notebook. <br />On GitHub, the HTML representation is unable to render, please try loading this page with nbviewer.org.</b></div><div class=\"sk-container\" hidden><div class=\"sk-item\"><div class=\"sk-estimator sk-toggleable\"><input class=\"sk-toggleable__control sk-hidden--visually\" id=\"sk-estimator-id-11\" type=\"checkbox\" checked><label for=\"sk-estimator-id-11\" class=\"sk-toggleable__label sk-toggleable__label-arrow\">RandomForestRegressor</label><div class=\"sk-toggleable__content\"><pre>RandomForestRegressor(n_estimators=1000, n_jobs=-1, random_state=42)</pre></div></div></div></div></div>"
      ],
      "text/plain": [
       "RandomForestRegressor(n_estimators=1000, n_jobs=-1, random_state=42)"
      ]
     },
     "execution_count": 131,
     "metadata": {},
     "output_type": "execute_result"
    }
   ],
   "source": [
    "rf_clf.fit(X_train, Y_train)"
   ]
  },
  {
   "cell_type": "code",
   "execution_count": 132,
   "id": "f4c5747c-823c-4265-835e-86ed5689dd39",
   "metadata": {},
   "outputs": [
    {
     "name": "stdout",
     "output_type": "stream",
     "text": [
      "Test R2 score:  0.7109592255042925\n"
     ]
    }
   ],
   "source": [
    "# Test R2 score\n",
    "test_r2_score = rf_clf.score(X_test, Y_test)\n",
    "print(\"Test R2 score: \", test_r2_score)"
   ]
  },
  {
   "cell_type": "code",
   "execution_count": 133,
   "id": "bbd4ccd1-cb0c-4bf6-9b89-3ee31db5a307",
   "metadata": {},
   "outputs": [],
   "source": [
    "# Hence r2 value with RF is 0.7109592255042925"
   ]
  },
  {
   "cell_type": "code",
   "execution_count": 134,
   "id": "0c2f88eb-ea3c-421e-9f65-adf2d3eeeec2",
   "metadata": {},
   "outputs": [],
   "source": [
    "# using GridsearchCV"
   ]
  },
  {
   "cell_type": "code",
   "execution_count": 135,
   "id": "9b8b0727-2724-4a9e-a6c2-5217b9a72670",
   "metadata": {},
   "outputs": [],
   "source": [
    "from sklearn.model_selection import GridSearchCV"
   ]
  },
  {
   "cell_type": "code",
   "execution_count": 136,
   "id": "199fd5da-9046-49ea-bbc3-e6260fa93a1c",
   "metadata": {},
   "outputs": [],
   "source": [
    "rf_clf = RandomForestRegressor(random_state = 42)"
   ]
  },
  {
   "cell_type": "code",
   "execution_count": 137,
   "id": "fec9d280-75b4-40c1-86cf-52c8561e710d",
   "metadata": {},
   "outputs": [],
   "source": [
    "params_grid = {\"max_features\": [4,5,6,7,8,9,10],\"min_samples_split\": [2,3,10]}"
   ]
  },
  {
   "cell_type": "code",
   "execution_count": 138,
   "id": "16921dce-1641-47ac-991a-e6048d14cb94",
   "metadata": {},
   "outputs": [],
   "source": [
    "grid_search = GridSearchCV(rf_clf, params_grid ,n_jobs=-1, scoring='accuracy')"
   ]
  },
  {
   "cell_type": "code",
   "execution_count": 139,
   "id": "0d92c3d6-0a64-44f4-ad18-6e504fbb82a1",
   "metadata": {},
   "outputs": [
    {
     "name": "stderr",
     "output_type": "stream",
     "text": [
      "C:\\Users\\Hp\\anaconda3\\Lib\\site-packages\\sklearn\\model_selection\\_search.py:952: UserWarning: One or more of the test scores are non-finite: [nan nan nan nan nan nan nan nan nan nan nan nan nan nan nan nan nan nan\n",
      " nan nan nan]\n",
      "  warnings.warn(\n"
     ]
    },
    {
     "data": {
      "text/html": [
       "<style>#sk-container-id-10 {color: black;background-color: white;}#sk-container-id-10 pre{padding: 0;}#sk-container-id-10 div.sk-toggleable {background-color: white;}#sk-container-id-10 label.sk-toggleable__label {cursor: pointer;display: block;width: 100%;margin-bottom: 0;padding: 0.3em;box-sizing: border-box;text-align: center;}#sk-container-id-10 label.sk-toggleable__label-arrow:before {content: \"▸\";float: left;margin-right: 0.25em;color: #696969;}#sk-container-id-10 label.sk-toggleable__label-arrow:hover:before {color: black;}#sk-container-id-10 div.sk-estimator:hover label.sk-toggleable__label-arrow:before {color: black;}#sk-container-id-10 div.sk-toggleable__content {max-height: 0;max-width: 0;overflow: hidden;text-align: left;background-color: #f0f8ff;}#sk-container-id-10 div.sk-toggleable__content pre {margin: 0.2em;color: black;border-radius: 0.25em;background-color: #f0f8ff;}#sk-container-id-10 input.sk-toggleable__control:checked~div.sk-toggleable__content {max-height: 200px;max-width: 100%;overflow: auto;}#sk-container-id-10 input.sk-toggleable__control:checked~label.sk-toggleable__label-arrow:before {content: \"▾\";}#sk-container-id-10 div.sk-estimator input.sk-toggleable__control:checked~label.sk-toggleable__label {background-color: #d4ebff;}#sk-container-id-10 div.sk-label input.sk-toggleable__control:checked~label.sk-toggleable__label {background-color: #d4ebff;}#sk-container-id-10 input.sk-hidden--visually {border: 0;clip: rect(1px 1px 1px 1px);clip: rect(1px, 1px, 1px, 1px);height: 1px;margin: -1px;overflow: hidden;padding: 0;position: absolute;width: 1px;}#sk-container-id-10 div.sk-estimator {font-family: monospace;background-color: #f0f8ff;border: 1px dotted black;border-radius: 0.25em;box-sizing: border-box;margin-bottom: 0.5em;}#sk-container-id-10 div.sk-estimator:hover {background-color: #d4ebff;}#sk-container-id-10 div.sk-parallel-item::after {content: \"\";width: 100%;border-bottom: 1px solid gray;flex-grow: 1;}#sk-container-id-10 div.sk-label:hover label.sk-toggleable__label {background-color: #d4ebff;}#sk-container-id-10 div.sk-serial::before {content: \"\";position: absolute;border-left: 1px solid gray;box-sizing: border-box;top: 0;bottom: 0;left: 50%;z-index: 0;}#sk-container-id-10 div.sk-serial {display: flex;flex-direction: column;align-items: center;background-color: white;padding-right: 0.2em;padding-left: 0.2em;position: relative;}#sk-container-id-10 div.sk-item {position: relative;z-index: 1;}#sk-container-id-10 div.sk-parallel {display: flex;align-items: stretch;justify-content: center;background-color: white;position: relative;}#sk-container-id-10 div.sk-item::before, #sk-container-id-10 div.sk-parallel-item::before {content: \"\";position: absolute;border-left: 1px solid gray;box-sizing: border-box;top: 0;bottom: 0;left: 50%;z-index: -1;}#sk-container-id-10 div.sk-parallel-item {display: flex;flex-direction: column;z-index: 1;position: relative;background-color: white;}#sk-container-id-10 div.sk-parallel-item:first-child::after {align-self: flex-end;width: 50%;}#sk-container-id-10 div.sk-parallel-item:last-child::after {align-self: flex-start;width: 50%;}#sk-container-id-10 div.sk-parallel-item:only-child::after {width: 0;}#sk-container-id-10 div.sk-dashed-wrapped {border: 1px dashed gray;margin: 0 0.4em 0.5em 0.4em;box-sizing: border-box;padding-bottom: 0.4em;background-color: white;}#sk-container-id-10 div.sk-label label {font-family: monospace;font-weight: bold;display: inline-block;line-height: 1.2em;}#sk-container-id-10 div.sk-label-container {text-align: center;}#sk-container-id-10 div.sk-container {/* jupyter's `normalize.less` sets `[hidden] { display: none; }` but bootstrap.min.css set `[hidden] { display: none !important; }` so we also need the `!important` here to be able to override the default hidden behavior on the sphinx rendered scikit-learn.org. See: https://github.com/scikit-learn/scikit-learn/issues/21755 */display: inline-block !important;position: relative;}#sk-container-id-10 div.sk-text-repr-fallback {display: none;}</style><div id=\"sk-container-id-10\" class=\"sk-top-container\"><div class=\"sk-text-repr-fallback\"><pre>GridSearchCV(estimator=RandomForestRegressor(random_state=42), n_jobs=-1,\n",
       "             param_grid={&#x27;max_features&#x27;: [4, 5, 6, 7, 8, 9, 10],\n",
       "                         &#x27;min_samples_split&#x27;: [2, 3, 10]},\n",
       "             scoring=&#x27;accuracy&#x27;)</pre><b>In a Jupyter environment, please rerun this cell to show the HTML representation or trust the notebook. <br />On GitHub, the HTML representation is unable to render, please try loading this page with nbviewer.org.</b></div><div class=\"sk-container\" hidden><div class=\"sk-item sk-dashed-wrapped\"><div class=\"sk-label-container\"><div class=\"sk-label sk-toggleable\"><input class=\"sk-toggleable__control sk-hidden--visually\" id=\"sk-estimator-id-12\" type=\"checkbox\" ><label for=\"sk-estimator-id-12\" class=\"sk-toggleable__label sk-toggleable__label-arrow\">GridSearchCV</label><div class=\"sk-toggleable__content\"><pre>GridSearchCV(estimator=RandomForestRegressor(random_state=42), n_jobs=-1,\n",
       "             param_grid={&#x27;max_features&#x27;: [4, 5, 6, 7, 8, 9, 10],\n",
       "                         &#x27;min_samples_split&#x27;: [2, 3, 10]},\n",
       "             scoring=&#x27;accuracy&#x27;)</pre></div></div></div><div class=\"sk-parallel\"><div class=\"sk-parallel-item\"><div class=\"sk-item\"><div class=\"sk-label-container\"><div class=\"sk-label sk-toggleable\"><input class=\"sk-toggleable__control sk-hidden--visually\" id=\"sk-estimator-id-13\" type=\"checkbox\" ><label for=\"sk-estimator-id-13\" class=\"sk-toggleable__label sk-toggleable__label-arrow\">estimator: RandomForestRegressor</label><div class=\"sk-toggleable__content\"><pre>RandomForestRegressor(random_state=42)</pre></div></div></div><div class=\"sk-serial\"><div class=\"sk-item\"><div class=\"sk-estimator sk-toggleable\"><input class=\"sk-toggleable__control sk-hidden--visually\" id=\"sk-estimator-id-14\" type=\"checkbox\" ><label for=\"sk-estimator-id-14\" class=\"sk-toggleable__label sk-toggleable__label-arrow\">RandomForestRegressor</label><div class=\"sk-toggleable__content\"><pre>RandomForestRegressor(random_state=42)</pre></div></div></div></div></div></div></div></div></div></div>"
      ],
      "text/plain": [
       "GridSearchCV(estimator=RandomForestRegressor(random_state=42), n_jobs=-1,\n",
       "             param_grid={'max_features': [4, 5, 6, 7, 8, 9, 10],\n",
       "                         'min_samples_split': [2, 3, 10]},\n",
       "             scoring='accuracy')"
      ]
     },
     "execution_count": 139,
     "metadata": {},
     "output_type": "execute_result"
    }
   ],
   "source": [
    "grid_search.fit(X_train, Y_train)"
   ]
  },
  {
   "cell_type": "code",
   "execution_count": 140,
   "id": "cd86fd56-3838-4228-8cea-69e568688112",
   "metadata": {},
   "outputs": [
    {
     "data": {
      "text/plain": [
       "{'max_features': 4, 'min_samples_split': 2}"
      ]
     },
     "execution_count": 140,
     "metadata": {},
     "output_type": "execute_result"
    }
   ],
   "source": [
    "grid_search.best_params_"
   ]
  },
  {
   "cell_type": "code",
   "execution_count": 141,
   "id": "1987c0ff-65ba-43b6-a5a7-2ee21b1ccefe",
   "metadata": {},
   "outputs": [],
   "source": [
    "cvrf_clf = grid_search.best_estimator_"
   ]
  },
  {
   "cell_type": "code",
   "execution_count": 142,
   "id": "94b22875-3e1e-4e69-b2b7-bd37d640f5fb",
   "metadata": {},
   "outputs": [
    {
     "name": "stdout",
     "output_type": "stream",
     "text": [
      "Test R2 score:  0.6980440448697041\n"
     ]
    }
   ],
   "source": [
    "# Test R2 score\n",
    "test_r2_score = cvrf_clf.score(X_test, Y_test)\n",
    "print(\"Test R2 score: \", test_r2_score)"
   ]
  },
  {
   "cell_type": "code",
   "execution_count": null,
   "id": "5ffa3d3e-c721-49f1-acb9-3a067258a39f",
   "metadata": {},
   "outputs": [],
   "source": []
  }
 ],
 "metadata": {
  "kernelspec": {
   "display_name": "Python 3 (ipykernel)",
   "language": "python",
   "name": "python3"
  },
  "language_info": {
   "codemirror_mode": {
    "name": "ipython",
    "version": 3
   },
   "file_extension": ".py",
   "mimetype": "text/x-python",
   "name": "python",
   "nbconvert_exporter": "python",
   "pygments_lexer": "ipython3",
   "version": "3.11.7"
  }
 },
 "nbformat": 4,
 "nbformat_minor": 5
}
